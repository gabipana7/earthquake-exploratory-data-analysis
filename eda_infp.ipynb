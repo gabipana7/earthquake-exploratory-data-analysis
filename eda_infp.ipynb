{
 "cells": [
  {
   "cell_type": "code",
   "execution_count": 2,
   "metadata": {},
   "outputs": [],
   "source": [
    "include(\"./src/eda.jl\")"
   ]
  },
  {
   "cell_type": "code",
   "execution_count": 13,
   "metadata": {},
   "outputs": [
    {
     "data": {
      "text/plain": [
       "\"infp\""
      ]
     },
     "metadata": {},
     "output_type": "display_data"
    }
   ],
   "source": [
    "region = \"Romania\"\n",
    "catalog = \"infp\""
   ]
  },
  {
   "cell_type": "code",
   "execution_count": 14,
   "metadata": {},
   "outputs": [
    {
     "name": "stdout",
     "output_type": "stream",
     "text": [
      "\u001b[1m5×5 DataFrame\u001b[0m\n",
      "\u001b[1m Row \u001b[0m│\u001b[1m Datetime            \u001b[0m\u001b[1m Latitude \u001b[0m\u001b[1m Longitude \u001b[0m\u001b[1m Depth   \u001b[0m\u001b[1m Magnitude \u001b[0m\n",
      "     │\u001b[90m DateTime            \u001b[0m\u001b[90m Float64  \u001b[0m\u001b[90m Float64   \u001b[0m\u001b[90m Float64 \u001b[0m\u001b[90m Float64   \u001b[0m\n",
      "─────┼──────────────────────────────────────────────────────────────\n",
      "   1 │ 0984-01-01T00:00:00      45.7       26.6    150.0        7.1\n",
      "   2 │ 1022-05-12T00:00:00      45.7       26.6    150.0        6.5\n",
      "   3 │ 1038-08-15T00:00:00      45.7       26.6    150.0        7.3\n",
      "   4 │ 1091-01-01T00:00:00      45.7       26.6    150.0        7.1\n",
      "   5 │ 1107-02-12T03:00:00      45.7       26.6    150.0        7.1\u001b[1m5×7 DataFrame\u001b[0m\n",
      "\u001b[1m Row \u001b[0m│\u001b[1m variable  \u001b[0m\u001b[1m mean    \u001b[0m\u001b[1m min                 \u001b[0m\u001b[1m median                  \u001b[0m\u001b[1m max                     \u001b[0m\u001b[1m nmissing \u001b[0m\u001b[1m eltype   \u001b[0m\n",
      "     │\u001b[90m Symbol    \u001b[0m\u001b[90m Union…  \u001b[0m\u001b[90m Any                 \u001b[0m\u001b[90m Any                     \u001b[0m\u001b[90m Any                     \u001b[0m\u001b[90m Int64    \u001b[0m\u001b[90m DataType \u001b[0m\n",
      "─────┼───────────────────────────────────────────────────────────────────────────────────────────────────────────────\n",
      "   1 │ Datetime  \u001b[90m         \u001b[0m 0984-01-01T00:00:00  2012-07-30T07:33:28.900  2022-12-31T15:24:39.550         0  DateTime\n",
      "   2 │ Latitude   45.5928  43.5941              45.596                   48.23                           0  Float64\n",
      "   3 │ Longitude  25.5962  20.1                 26.4                     29.84                           0  Float64\n",
      "   4 │ Depth      38.5305  0.0                  11.7                     218.4                           0  Float64\n",
      "   5 │ Magnitude  2.36572  0.1                  2.2                      7.9                             0  Float64\n"
     ]
    },
    {
     "data": {
      "text/html": [
       "<div><div style = \"float: left;\"><span>32289×5 DataFrame</span></div><div style = \"float: right;\"><span style = \"font-style: italic;\">32264 rows omitted</span></div><div style = \"clear: both;\"></div></div><div class = \"data-frame\" style = \"overflow-x: scroll;\"><table class = \"data-frame\" style = \"margin-bottom: 6px;\"><thead><tr class = \"header\"><th class = \"rowNumber\" style = \"font-weight: bold; text-align: right;\">Row</th><th style = \"text-align: left;\">Datetime</th><th style = \"text-align: left;\">Latitude</th><th style = \"text-align: left;\">Longitude</th><th style = \"text-align: left;\">Depth</th><th style = \"text-align: left;\">Magnitude</th></tr><tr class = \"subheader headerLastRow\"><th class = \"rowNumber\" style = \"font-weight: bold; text-align: right;\"></th><th title = \"DateTime\" style = \"text-align: left;\">DateTime</th><th title = \"Float64\" style = \"text-align: left;\">Float64</th><th title = \"Float64\" style = \"text-align: left;\">Float64</th><th title = \"Float64\" style = \"text-align: left;\">Float64</th><th title = \"Float64\" style = \"text-align: left;\">Float64</th></tr></thead><tbody><tr><td class = \"rowNumber\" style = \"font-weight: bold; text-align: right;\">1</td><td style = \"text-align: left;\">0984-01-01T00:00:00</td><td style = \"text-align: right;\">45.7</td><td style = \"text-align: right;\">26.6</td><td style = \"text-align: right;\">150.0</td><td style = \"text-align: right;\">7.1</td></tr><tr><td class = \"rowNumber\" style = \"font-weight: bold; text-align: right;\">2</td><td style = \"text-align: left;\">1022-05-12T00:00:00</td><td style = \"text-align: right;\">45.7</td><td style = \"text-align: right;\">26.6</td><td style = \"text-align: right;\">150.0</td><td style = \"text-align: right;\">6.5</td></tr><tr><td class = \"rowNumber\" style = \"font-weight: bold; text-align: right;\">3</td><td style = \"text-align: left;\">1038-08-15T00:00:00</td><td style = \"text-align: right;\">45.7</td><td style = \"text-align: right;\">26.6</td><td style = \"text-align: right;\">150.0</td><td style = \"text-align: right;\">7.3</td></tr><tr><td class = \"rowNumber\" style = \"font-weight: bold; text-align: right;\">4</td><td style = \"text-align: left;\">1091-01-01T00:00:00</td><td style = \"text-align: right;\">45.7</td><td style = \"text-align: right;\">26.6</td><td style = \"text-align: right;\">150.0</td><td style = \"text-align: right;\">7.1</td></tr><tr><td class = \"rowNumber\" style = \"font-weight: bold; text-align: right;\">5</td><td style = \"text-align: left;\">1107-02-12T03:00:00</td><td style = \"text-align: right;\">45.7</td><td style = \"text-align: right;\">26.6</td><td style = \"text-align: right;\">150.0</td><td style = \"text-align: right;\">7.1</td></tr><tr><td class = \"rowNumber\" style = \"font-weight: bold; text-align: right;\">6</td><td style = \"text-align: left;\">1122-10-01T00:00:00</td><td style = \"text-align: right;\">45.7</td><td style = \"text-align: right;\">26.6</td><td style = \"text-align: right;\">150.0</td><td style = \"text-align: right;\">6.2</td></tr><tr><td class = \"rowNumber\" style = \"font-weight: bold; text-align: right;\">7</td><td style = \"text-align: left;\">1126-08-08T00:00:00</td><td style = \"text-align: right;\">45.7</td><td style = \"text-align: right;\">26.6</td><td style = \"text-align: right;\">150.0</td><td style = \"text-align: right;\">7.1</td></tr><tr><td class = \"rowNumber\" style = \"font-weight: bold; text-align: right;\">8</td><td style = \"text-align: left;\">1170-04-01T00:00:00</td><td style = \"text-align: right;\">45.7</td><td style = \"text-align: right;\">26.6</td><td style = \"text-align: right;\">150.0</td><td style = \"text-align: right;\">7.3</td></tr><tr><td class = \"rowNumber\" style = \"font-weight: bold; text-align: right;\">9</td><td style = \"text-align: left;\">1196-02-13T07:00:00</td><td style = \"text-align: right;\">45.7</td><td style = \"text-align: right;\">26.6</td><td style = \"text-align: right;\">150.0</td><td style = \"text-align: right;\">7.5</td></tr><tr><td class = \"rowNumber\" style = \"font-weight: bold; text-align: right;\">10</td><td style = \"text-align: left;\">1223-01-08T00:00:00</td><td style = \"text-align: right;\">46.2</td><td style = \"text-align: right;\">24.4</td><td style = \"text-align: right;\">9.9</td><td style = \"text-align: right;\">5.9</td></tr><tr><td class = \"rowNumber\" style = \"font-weight: bold; text-align: right;\">11</td><td style = \"text-align: left;\">1230-05-10T07:00:00</td><td style = \"text-align: right;\">45.7</td><td style = \"text-align: right;\">26.6</td><td style = \"text-align: right;\">150.0</td><td style = \"text-align: right;\">7.3</td></tr><tr><td class = \"rowNumber\" style = \"font-weight: bold; text-align: right;\">12</td><td style = \"text-align: left;\">1258-02-07T13:00:00</td><td style = \"text-align: right;\">45.7</td><td style = \"text-align: right;\">26.6</td><td style = \"text-align: right;\">150.0</td><td style = \"text-align: right;\">7.1</td></tr><tr><td class = \"rowNumber\" style = \"font-weight: bold; text-align: right;\">13</td><td style = \"text-align: left;\">1327-01-01T00:00:00</td><td style = \"text-align: right;\">45.7</td><td style = \"text-align: right;\">26.6</td><td style = \"text-align: right;\">150.0</td><td style = \"text-align: right;\">7.3</td></tr><tr><td style = \"text-align: right;\">&vellip;</td><td style = \"text-align: right;\">&vellip;</td><td style = \"text-align: right;\">&vellip;</td><td style = \"text-align: right;\">&vellip;</td><td style = \"text-align: right;\">&vellip;</td><td style = \"text-align: right;\">&vellip;</td></tr><tr><td class = \"rowNumber\" style = \"font-weight: bold; text-align: right;\">32278</td><td style = \"text-align: left;\">2022-12-26T13:48:35.860</td><td style = \"text-align: right;\">47.28</td><td style = \"text-align: right;\">23.8104</td><td style = \"text-align: right;\">2.0</td><td style = \"text-align: right;\">2.0</td></tr><tr><td class = \"rowNumber\" style = \"font-weight: bold; text-align: right;\">32279</td><td style = \"text-align: left;\">2022-12-27T16:00:52.890</td><td style = \"text-align: right;\">45.5211</td><td style = \"text-align: right;\">26.4184</td><td style = \"text-align: right;\">110.2</td><td style = \"text-align: right;\">2.5</td></tr><tr><td class = \"rowNumber\" style = \"font-weight: bold; text-align: right;\">32280</td><td style = \"text-align: left;\">2022-12-28T07:38:54.270</td><td style = \"text-align: right;\">45.7505</td><td style = \"text-align: right;\">26.6086</td><td style = \"text-align: right;\">85.2</td><td style = \"text-align: right;\">2.9</td></tr><tr><td class = \"rowNumber\" style = \"font-weight: bold; text-align: right;\">32281</td><td style = \"text-align: left;\">2022-12-28T13:15:05.470</td><td style = \"text-align: right;\">46.3193</td><td style = \"text-align: right;\">23.1806</td><td style = \"text-align: right;\">2.0</td><td style = \"text-align: right;\">1.9</td></tr><tr><td class = \"rowNumber\" style = \"font-weight: bold; text-align: right;\">32282</td><td style = \"text-align: left;\">2022-12-29T02:06:28.320</td><td style = \"text-align: right;\">45.6714</td><td style = \"text-align: right;\">26.6291</td><td style = \"text-align: right;\">134.0</td><td style = \"text-align: right;\">2.8</td></tr><tr><td class = \"rowNumber\" style = \"font-weight: bold; text-align: right;\">32283</td><td style = \"text-align: left;\">2022-12-29T09:28:11.270</td><td style = \"text-align: right;\">45.2972</td><td style = \"text-align: right;\">25.093</td><td style = \"text-align: right;\">2.0</td><td style = \"text-align: right;\">1.5</td></tr><tr><td class = \"rowNumber\" style = \"font-weight: bold; text-align: right;\">32284</td><td style = \"text-align: left;\">2022-12-29T09:42:33.920</td><td style = \"text-align: right;\">45.9596</td><td style = \"text-align: right;\">22.6972</td><td style = \"text-align: right;\">3.3</td><td style = \"text-align: right;\">1.6</td></tr><tr><td class = \"rowNumber\" style = \"font-weight: bold; text-align: right;\">32285</td><td style = \"text-align: left;\">2022-12-29T12:16:03.080</td><td style = \"text-align: right;\">46.3226</td><td style = \"text-align: right;\">23.1438</td><td style = \"text-align: right;\">1.0</td><td style = \"text-align: right;\">1.7</td></tr><tr><td class = \"rowNumber\" style = \"font-weight: bold; text-align: right;\">32286</td><td style = \"text-align: left;\">2022-12-29T13:11:43.570</td><td style = \"text-align: right;\">45.4378</td><td style = \"text-align: right;\">24.1116</td><td style = \"text-align: right;\">11.7</td><td style = \"text-align: right;\">2.1</td></tr><tr><td class = \"rowNumber\" style = \"font-weight: bold; text-align: right;\">32287</td><td style = \"text-align: left;\">2022-12-30T14:23:49.390</td><td style = \"text-align: right;\">45.4639</td><td style = \"text-align: right;\">24.1433</td><td style = \"text-align: right;\">14.0</td><td style = \"text-align: right;\">1.7</td></tr><tr><td class = \"rowNumber\" style = \"font-weight: bold; text-align: right;\">32288</td><td style = \"text-align: left;\">2022-12-31T03:16:48.320</td><td style = \"text-align: right;\">45.4082</td><td style = \"text-align: right;\">24.134</td><td style = \"text-align: right;\">18.2</td><td style = \"text-align: right;\">1.7</td></tr><tr><td class = \"rowNumber\" style = \"font-weight: bold; text-align: right;\">32289</td><td style = \"text-align: left;\">2022-12-31T15:24:39.550</td><td style = \"text-align: right;\">45.0022</td><td style = \"text-align: right;\">22.6597</td><td style = \"text-align: right;\">4.5</td><td style = \"text-align: right;\">2.1</td></tr></tbody></table></div>"
      ],
      "text/latex": [
       "\\begin{tabular}{r|ccccc}\n",
       "\t& Datetime & Latitude & Longitude & Depth & Magnitude\\\\\n",
       "\t\\hline\n",
       "\t& DateTime & Float64 & Float64 & Float64 & Float64\\\\\n",
       "\t\\hline\n",
       "\t1 & 0984-01-01T00:00:00 & 45.7 & 26.6 & 150.0 & 7.1 \\\\\n",
       "\t2 & 1022-05-12T00:00:00 & 45.7 & 26.6 & 150.0 & 6.5 \\\\\n",
       "\t3 & 1038-08-15T00:00:00 & 45.7 & 26.6 & 150.0 & 7.3 \\\\\n",
       "\t4 & 1091-01-01T00:00:00 & 45.7 & 26.6 & 150.0 & 7.1 \\\\\n",
       "\t5 & 1107-02-12T03:00:00 & 45.7 & 26.6 & 150.0 & 7.1 \\\\\n",
       "\t6 & 1122-10-01T00:00:00 & 45.7 & 26.6 & 150.0 & 6.2 \\\\\n",
       "\t7 & 1126-08-08T00:00:00 & 45.7 & 26.6 & 150.0 & 7.1 \\\\\n",
       "\t8 & 1170-04-01T00:00:00 & 45.7 & 26.6 & 150.0 & 7.3 \\\\\n",
       "\t9 & 1196-02-13T07:00:00 & 45.7 & 26.6 & 150.0 & 7.5 \\\\\n",
       "\t10 & 1223-01-08T00:00:00 & 46.2 & 24.4 & 9.9 & 5.9 \\\\\n",
       "\t11 & 1230-05-10T07:00:00 & 45.7 & 26.6 & 150.0 & 7.3 \\\\\n",
       "\t12 & 1258-02-07T13:00:00 & 45.7 & 26.6 & 150.0 & 7.1 \\\\\n",
       "\t13 & 1327-01-01T00:00:00 & 45.7 & 26.6 & 150.0 & 7.3 \\\\\n",
       "\t14 & 1444-08-04T00:00:00 & 46.2 & 20.1 & 40.0 & 6.0 \\\\\n",
       "\t15 & 1446-10-10T04:00:00 & 45.7 & 26.6 & 150.0 & 7.5 \\\\\n",
       "\t16 & 1471-08-29T10:00:00 & 45.7 & 26.6 & 110.0 & 7.5 \\\\\n",
       "\t17 & 1473-08-29T00:00:00 & 45.7 & 26.6 & 150.0 & 7.3 \\\\\n",
       "\t18 & 1516-11-24T12:00:00 & 45.7 & 26.6 & 150.0 & 7.5 \\\\\n",
       "\t19 & 1517-02-06T00:00:00 & 46.0 & 25.2 & 9.9 & 5.3 \\\\\n",
       "\t20 & 1523-06-09T00:00:00 & 45.7 & 26.6 & 130.0 & 6.5 \\\\\n",
       "\t21 & 1523-11-19T00:00:00 & 46.2 & 24.4 & 9.9 & 5.9 \\\\\n",
       "\t22 & 1543-01-01T00:00:00 & 45.7 & 26.6 & 150.0 & 7.1 \\\\\n",
       "\t23 & 1545-07-19T08:00:00 & 45.7 & 26.6 & 110.0 & 7.1 \\\\\n",
       "\t24 & 1550-10-26T01:00:00 & 45.8 & 24.2 & 9.9 & 6.5 \\\\\n",
       "\t$\\dots$ & $\\dots$ & $\\dots$ & $\\dots$ & $\\dots$ & $\\dots$ \\\\\n",
       "\\end{tabular}\n"
      ],
      "text/plain": [
       "\u001b[1m32289×5 DataFrame\u001b[0m\n",
       "\u001b[1m   Row \u001b[0m│\u001b[1m Datetime                \u001b[0m\u001b[1m Latitude \u001b[0m\u001b[1m Longitude \u001b[0m\u001b[1m Depth   \u001b[0m\u001b[1m Magnitude \u001b[0m\n",
       "       │\u001b[90m DateTime                \u001b[0m\u001b[90m Float64  \u001b[0m\u001b[90m Float64   \u001b[0m\u001b[90m Float64 \u001b[0m\u001b[90m Float64   \u001b[0m\n",
       "───────┼──────────────────────────────────────────────────────────────────\n",
       "     1 │ 0984-01-01T00:00:00       45.7       26.6       150.0        7.1\n",
       "     2 │ 1022-05-12T00:00:00       45.7       26.6       150.0        6.5\n",
       "     3 │ 1038-08-15T00:00:00       45.7       26.6       150.0        7.3\n",
       "     4 │ 1091-01-01T00:00:00       45.7       26.6       150.0        7.1\n",
       "     5 │ 1107-02-12T03:00:00       45.7       26.6       150.0        7.1\n",
       "     6 │ 1122-10-01T00:00:00       45.7       26.6       150.0        6.2\n",
       "     7 │ 1126-08-08T00:00:00       45.7       26.6       150.0        7.1\n",
       "     8 │ 1170-04-01T00:00:00       45.7       26.6       150.0        7.3\n",
       "   ⋮   │            ⋮                ⋮          ⋮         ⋮         ⋮\n",
       " 32283 │ 2022-12-29T09:28:11.270   45.2972    25.093       2.0        1.5\n",
       " 32284 │ 2022-12-29T09:42:33.920   45.9596    22.6972      3.3        1.6\n",
       " 32285 │ 2022-12-29T12:16:03.080   46.3226    23.1438      1.0        1.7\n",
       " 32286 │ 2022-12-29T13:11:43.570   45.4378    24.1116     11.7        2.1\n",
       " 32287 │ 2022-12-30T14:23:49.390   45.4639    24.1433     14.0        1.7\n",
       " 32288 │ 2022-12-31T03:16:48.320   45.4082    24.134      18.2        1.7\n",
       " 32289 │ 2022-12-31T15:24:39.550   45.0022    22.6597      4.5        2.1\n",
       "\u001b[36m                                                        32274 rows omitted\u001b[0m"
      ]
     },
     "metadata": {},
     "output_type": "display_data"
    }
   ],
   "source": [
    "df = load_data(region, catalog)"
   ]
  },
  {
   "cell_type": "code",
   "execution_count": 15,
   "metadata": {},
   "outputs": [
    {
     "data": {
      "image/png": "[encoded data removed]"
     },
     "metadata": {},
     "output_type": "display_data"
    }
   ],
   "source": [
    "events_histogram_fig = events_histogram(df, region)"
   ]
  },
  {
   "cell_type": "code",
   "execution_count": 16,
   "metadata": {},
   "outputs": [
    {
     "data": {
      "text/html": [
       "<div><div style = \"float: left;\"><span>31378×5 DataFrame</span></div><div style = \"float: right;\"><span style = \"font-style: italic;\">31353 rows omitted</span></div><div style = \"clear: both;\"></div></div><div class = \"data-frame\" style = \"overflow-x: scroll;\"><table class = \"data-frame\" style = \"margin-bottom: 6px;\"><thead><tr class = \"header\"><th class = \"rowNumber\" style = \"font-weight: bold; text-align: right;\">Row</th><th style = \"text-align: left;\">Datetime</th><th style = \"text-align: left;\">Latitude</th><th style = \"text-align: left;\">Longitude</th><th style = \"text-align: left;\">Depth</th><th style = \"text-align: left;\">Magnitude</th></tr><tr class = \"subheader headerLastRow\"><th class = \"rowNumber\" style = \"font-weight: bold; text-align: right;\"></th><th title = \"DateTime\" style = \"text-align: left;\">DateTime</th><th title = \"Float64\" style = \"text-align: left;\">Float64</th><th title = \"Float64\" style = \"text-align: left;\">Float64</th><th title = \"Float64\" style = \"text-align: left;\">Float64</th><th title = \"Float64\" style = \"text-align: left;\">Float64</th></tr></thead><tbody><tr><td class = \"rowNumber\" style = \"font-weight: bold; text-align: right;\">1</td><td style = \"text-align: left;\">1977-03-04T19:21:54.100</td><td style = \"text-align: right;\">45.77</td><td style = \"text-align: right;\">26.76</td><td style = \"text-align: right;\">94.0</td><td style = \"text-align: right;\">7.4</td></tr><tr><td class = \"rowNumber\" style = \"font-weight: bold; text-align: right;\">2</td><td style = \"text-align: left;\">1977-03-04T21:21:01.100</td><td style = \"text-align: right;\">45.22</td><td style = \"text-align: right;\">26.65</td><td style = \"text-align: right;\">141.0</td><td style = \"text-align: right;\">3.0</td></tr><tr><td class = \"rowNumber\" style = \"font-weight: bold; text-align: right;\">3</td><td style = \"text-align: left;\">1977-03-04T21:28:07.400</td><td style = \"text-align: right;\">45.23</td><td style = \"text-align: right;\">26.87</td><td style = \"text-align: right;\">22.0</td><td style = \"text-align: right;\">1.5</td></tr><tr><td class = \"rowNumber\" style = \"font-weight: bold; text-align: right;\">4</td><td style = \"text-align: left;\">1977-03-04T23:17:14</td><td style = \"text-align: right;\">45.0</td><td style = \"text-align: right;\">27.2</td><td style = \"text-align: right;\">33.0</td><td style = \"text-align: right;\">2.5</td></tr><tr><td class = \"rowNumber\" style = \"font-weight: bold; text-align: right;\">5</td><td style = \"text-align: left;\">1977-03-05T00:00:45.900</td><td style = \"text-align: right;\">45.48</td><td style = \"text-align: right;\">27.09</td><td style = \"text-align: right;\">104.2</td><td style = \"text-align: right;\">4.2</td></tr><tr><td class = \"rowNumber\" style = \"font-weight: bold; text-align: right;\">6</td><td style = \"text-align: left;\">1977-03-05T00:08:37.700</td><td style = \"text-align: right;\">45.4</td><td style = \"text-align: right;\">27.16</td><td style = \"text-align: right;\">22.2</td><td style = \"text-align: right;\">3.0</td></tr><tr><td class = \"rowNumber\" style = \"font-weight: bold; text-align: right;\">7</td><td style = \"text-align: left;\">1977-03-05T00:13:04</td><td style = \"text-align: right;\">45.5</td><td style = \"text-align: right;\">27.2</td><td style = \"text-align: right;\">77.0</td><td style = \"text-align: right;\">3.2</td></tr><tr><td class = \"rowNumber\" style = \"font-weight: bold; text-align: right;\">8</td><td style = \"text-align: left;\">1977-03-05T00:47:55.100</td><td style = \"text-align: right;\">45.37</td><td style = \"text-align: right;\">27.31</td><td style = \"text-align: right;\">20.7</td><td style = \"text-align: right;\">2.3</td></tr><tr><td class = \"rowNumber\" style = \"font-weight: bold; text-align: right;\">9</td><td style = \"text-align: left;\">1977-03-05T02:35:22</td><td style = \"text-align: right;\">45.63</td><td style = \"text-align: right;\">26.19</td><td style = \"text-align: right;\">121.3</td><td style = \"text-align: right;\">3.0</td></tr><tr><td class = \"rowNumber\" style = \"font-weight: bold; text-align: right;\">10</td><td style = \"text-align: left;\">1977-03-05T05:50:13</td><td style = \"text-align: right;\">45.19</td><td style = \"text-align: right;\">27.2</td><td style = \"text-align: right;\">33.0</td><td style = \"text-align: right;\">2.6</td></tr><tr><td class = \"rowNumber\" style = \"font-weight: bold; text-align: right;\">11</td><td style = \"text-align: left;\">1977-03-05T12:08:42</td><td style = \"text-align: right;\">45.37</td><td style = \"text-align: right;\">26.3</td><td style = \"text-align: right;\">124.0</td><td style = \"text-align: right;\">3.5</td></tr><tr><td class = \"rowNumber\" style = \"font-weight: bold; text-align: right;\">12</td><td style = \"text-align: left;\">1977-03-06T13:27:06.300</td><td style = \"text-align: right;\">45.83</td><td style = \"text-align: right;\">26.63</td><td style = \"text-align: right;\">112.3</td><td style = \"text-align: right;\">2.6</td></tr><tr><td class = \"rowNumber\" style = \"font-weight: bold; text-align: right;\">13</td><td style = \"text-align: left;\">1977-03-07T21:21:08.700</td><td style = \"text-align: right;\">47.2</td><td style = \"text-align: right;\">26.2</td><td style = \"text-align: right;\">6.0</td><td style = \"text-align: right;\">2.5</td></tr><tr><td style = \"text-align: right;\">&vellip;</td><td style = \"text-align: right;\">&vellip;</td><td style = \"text-align: right;\">&vellip;</td><td style = \"text-align: right;\">&vellip;</td><td style = \"text-align: right;\">&vellip;</td><td style = \"text-align: right;\">&vellip;</td></tr><tr><td class = \"rowNumber\" style = \"font-weight: bold; text-align: right;\">31367</td><td style = \"text-align: left;\">2022-12-26T13:48:35.860</td><td style = \"text-align: right;\">47.28</td><td style = \"text-align: right;\">23.8104</td><td style = \"text-align: right;\">2.0</td><td style = \"text-align: right;\">2.0</td></tr><tr><td class = \"rowNumber\" style = \"font-weight: bold; text-align: right;\">31368</td><td style = \"text-align: left;\">2022-12-27T16:00:52.890</td><td style = \"text-align: right;\">45.5211</td><td style = \"text-align: right;\">26.4184</td><td style = \"text-align: right;\">110.2</td><td style = \"text-align: right;\">2.5</td></tr><tr><td class = \"rowNumber\" style = \"font-weight: bold; text-align: right;\">31369</td><td style = \"text-align: left;\">2022-12-28T07:38:54.270</td><td style = \"text-align: right;\">45.7505</td><td style = \"text-align: right;\">26.6086</td><td style = \"text-align: right;\">85.2</td><td style = \"text-align: right;\">2.9</td></tr><tr><td class = \"rowNumber\" style = \"font-weight: bold; text-align: right;\">31370</td><td style = \"text-align: left;\">2022-12-28T13:15:05.470</td><td style = \"text-align: right;\">46.3193</td><td style = \"text-align: right;\">23.1806</td><td style = \"text-align: right;\">2.0</td><td style = \"text-align: right;\">1.9</td></tr><tr><td class = \"rowNumber\" style = \"font-weight: bold; text-align: right;\">31371</td><td style = \"text-align: left;\">2022-12-29T02:06:28.320</td><td style = \"text-align: right;\">45.6714</td><td style = \"text-align: right;\">26.6291</td><td style = \"text-align: right;\">134.0</td><td style = \"text-align: right;\">2.8</td></tr><tr><td class = \"rowNumber\" style = \"font-weight: bold; text-align: right;\">31372</td><td style = \"text-align: left;\">2022-12-29T09:28:11.270</td><td style = \"text-align: right;\">45.2972</td><td style = \"text-align: right;\">25.093</td><td style = \"text-align: right;\">2.0</td><td style = \"text-align: right;\">1.5</td></tr><tr><td class = \"rowNumber\" style = \"font-weight: bold; text-align: right;\">31373</td><td style = \"text-align: left;\">2022-12-29T09:42:33.920</td><td style = \"text-align: right;\">45.9596</td><td style = \"text-align: right;\">22.6972</td><td style = \"text-align: right;\">3.3</td><td style = \"text-align: right;\">1.6</td></tr><tr><td class = \"rowNumber\" style = \"font-weight: bold; text-align: right;\">31374</td><td style = \"text-align: left;\">2022-12-29T12:16:03.080</td><td style = \"text-align: right;\">46.3226</td><td style = \"text-align: right;\">23.1438</td><td style = \"text-align: right;\">1.0</td><td style = \"text-align: right;\">1.7</td></tr><tr><td class = \"rowNumber\" style = \"font-weight: bold; text-align: right;\">31375</td><td style = \"text-align: left;\">2022-12-29T13:11:43.570</td><td style = \"text-align: right;\">45.4378</td><td style = \"text-align: right;\">24.1116</td><td style = \"text-align: right;\">11.7</td><td style = \"text-align: right;\">2.1</td></tr><tr><td class = \"rowNumber\" style = \"font-weight: bold; text-align: right;\">31376</td><td style = \"text-align: left;\">2022-12-30T14:23:49.390</td><td style = \"text-align: right;\">45.4639</td><td style = \"text-align: right;\">24.1433</td><td style = \"text-align: right;\">14.0</td><td style = \"text-align: right;\">1.7</td></tr><tr><td class = \"rowNumber\" style = \"font-weight: bold; text-align: right;\">31377</td><td style = \"text-align: left;\">2022-12-31T03:16:48.320</td><td style = \"text-align: right;\">45.4082</td><td style = \"text-align: right;\">24.134</td><td style = \"text-align: right;\">18.2</td><td style = \"text-align: right;\">1.7</td></tr><tr><td class = \"rowNumber\" style = \"font-weight: bold; text-align: right;\">31378</td><td style = \"text-align: left;\">2022-12-31T15:24:39.550</td><td style = \"text-align: right;\">45.0022</td><td style = \"text-align: right;\">22.6597</td><td style = \"text-align: right;\">4.5</td><td style = \"text-align: right;\">2.1</td></tr></tbody></table></div>"
      ],
      "text/latex": [
       "\\begin{tabular}{r|ccccc}\n",
       "\t& Datetime & Latitude & Longitude & Depth & Magnitude\\\\\n",
       "\t\\hline\n",
       "\t& DateTime & Float64 & Float64 & Float64 & Float64\\\\\n",
       "\t\\hline\n",
       "\t1 & 1977-03-04T19:21:54.100 & 45.77 & 26.76 & 94.0 & 7.4 \\\\\n",
       "\t2 & 1977-03-04T21:21:01.100 & 45.22 & 26.65 & 141.0 & 3.0 \\\\\n",
       "\t3 & 1977-03-04T21:28:07.400 & 45.23 & 26.87 & 22.0 & 1.5 \\\\\n",
       "\t4 & 1977-03-04T23:17:14 & 45.0 & 27.2 & 33.0 & 2.5 \\\\\n",
       "\t5 & 1977-03-05T00:00:45.900 & 45.48 & 27.09 & 104.2 & 4.2 \\\\\n",
       "\t6 & 1977-03-05T00:08:37.700 & 45.4 & 27.16 & 22.2 & 3.0 \\\\\n",
       "\t7 & 1977-03-05T00:13:04 & 45.5 & 27.2 & 77.0 & 3.2 \\\\\n",
       "\t8 & 1977-03-05T00:47:55.100 & 45.37 & 27.31 & 20.7 & 2.3 \\\\\n",
       "\t9 & 1977-03-05T02:35:22 & 45.63 & 26.19 & 121.3 & 3.0 \\\\\n",
       "\t10 & 1977-03-05T05:50:13 & 45.19 & 27.2 & 33.0 & 2.6 \\\\\n",
       "\t11 & 1977-03-05T12:08:42 & 45.37 & 26.3 & 124.0 & 3.5 \\\\\n",
       "\t12 & 1977-03-06T13:27:06.300 & 45.83 & 26.63 & 112.3 & 2.6 \\\\\n",
       "\t13 & 1977-03-07T21:21:08.700 & 47.2 & 26.2 & 6.0 & 2.5 \\\\\n",
       "\t14 & 1977-03-07T21:27:16.400 & 47.1 & 26.3 & 2.0 & 2.9 \\\\\n",
       "\t15 & 1977-03-07T21:33:11.700 & 47.1 & 26.1 & 8.0 & 3.3 \\\\\n",
       "\t16 & 1977-03-08T18:44:56.500 & 45.96 & 26.44 & 80.4 & 1.9 \\\\\n",
       "\t17 & 1977-03-09T03:25:27.400 & 45.02 & 26.27 & 25.7 & 2.4 \\\\\n",
       "\t18 & 1977-03-09T03:52:50 & 45.07 & 26.31 & 35.6 & 1.2 \\\\\n",
       "\t19 & 1977-03-09T10:37:29.700 & 45.38 & 27.0 & 108.0 & 3.0 \\\\\n",
       "\t20 & 1977-03-09T11:05:48 & 45.44 & 27.07 & 118.0 & 3.6 \\\\\n",
       "\t21 & 1977-03-09T11:21:01.600 & 45.31 & 27.37 & 26.9 & 2.4 \\\\\n",
       "\t22 & 1977-03-11T21:12:10.800 & 45.37 & 27.0 & 14.8 & 2.0 \\\\\n",
       "\t23 & 1977-03-11T21:19:07.300 & 45.49 & 26.76 & 87.1 & 2.2 \\\\\n",
       "\t24 & 1977-03-11T21:47:30 & 45.43 & 27.07 & 16.2 & 1.9 \\\\\n",
       "\t$\\dots$ & $\\dots$ & $\\dots$ & $\\dots$ & $\\dots$ & $\\dots$ \\\\\n",
       "\\end{tabular}\n"
      ],
      "text/plain": [
       "\u001b[1m31378×5 DataFrame\u001b[0m\n",
       "\u001b[1m   Row \u001b[0m│\u001b[1m Datetime                \u001b[0m\u001b[1m Latitude \u001b[0m\u001b[1m Longitude \u001b[0m\u001b[1m Depth   \u001b[0m\u001b[1m Magnitude \u001b[0m\n",
       "       │\u001b[90m DateTime                \u001b[0m\u001b[90m Float64  \u001b[0m\u001b[90m Float64   \u001b[0m\u001b[90m Float64 \u001b[0m\u001b[90m Float64   \u001b[0m\n",
       "───────┼──────────────────────────────────────────────────────────────────\n",
       "     1 │ 1977-03-04T19:21:54.100   45.77      26.76       94.0        7.4\n",
       "     2 │ 1977-03-04T21:21:01.100   45.22      26.65      141.0        3.0\n",
       "     3 │ 1977-03-04T21:28:07.400   45.23      26.87       22.0        1.5\n",
       "     4 │ 1977-03-04T23:17:14       45.0       27.2        33.0        2.5\n",
       "     5 │ 1977-03-05T00:00:45.900   45.48      27.09      104.2        4.2\n",
       "     6 │ 1977-03-05T00:08:37.700   45.4       27.16       22.2        3.0\n",
       "     7 │ 1977-03-05T00:13:04       45.5       27.2        77.0        3.2\n",
       "     8 │ 1977-03-05T00:47:55.100   45.37      27.31       20.7        2.3\n",
       "   ⋮   │            ⋮                ⋮          ⋮         ⋮         ⋮\n",
       " 31372 │ 2022-12-29T09:28:11.270   45.2972    25.093       2.0        1.5\n",
       " 31373 │ 2022-12-29T09:42:33.920   45.9596    22.6972      3.3        1.6\n",
       " 31374 │ 2022-12-29T12:16:03.080   46.3226    23.1438      1.0        1.7\n",
       " 31375 │ 2022-12-29T13:11:43.570   45.4378    24.1116     11.7        2.1\n",
       " 31376 │ 2022-12-30T14:23:49.390   45.4639    24.1433     14.0        1.7\n",
       " 31377 │ 2022-12-31T03:16:48.320   45.4082    24.134      18.2        1.7\n",
       " 31378 │ 2022-12-31T15:24:39.550   45.0022    22.6597      4.5        2.1\n",
       "\u001b[36m                                                        31363 rows omitted\u001b[0m"
      ]
     },
     "metadata": {},
     "output_type": "display_data"
    }
   ],
   "source": [
    "trim_year = 1800\n",
    "explore_trim_year = 1977\n",
    "\n",
    "df_trimmed = explore_timespan(df, region, trim_year, explore_trim_year; magnitude_threshold=0.0)"
   ]
  },
  {
   "cell_type": "code",
   "execution_count": 17,
   "metadata": {},
   "outputs": [],
   "source": []
  },
  {
   "cell_type": "code",
   "execution_count": 18,
   "metadata": {},
   "outputs": [],
   "source": [
    "if \"Magnitude_Type\" in names(df)\n",
    "    df_mag_type_count = magtype_boxplot(df, region, mag_type_descriptions=[])\n",
    "end\n",
    "\n",
    "if \"Quality\" in names(df)\n",
    "    df_quality_count = quality_boxplot(df, region)\n",
    "end"
   ]
  },
  {
   "cell_type": "code",
   "execution_count": 19,
   "metadata": {},
   "outputs": [],
   "source": []
  },
  {
   "cell_type": "code",
   "execution_count": 20,
   "metadata": {},
   "outputs": [],
   "source": [
    "# Write to CSV\n",
    "# CSV.write(\"./data/$(region).csv\", df_trimmed)"
   ]
  }
 ],
 "metadata": {
  "kernelspec": {
   "display_name": "Julia 1.9.4",
   "language": "julia",
   "name": "julia-1.9"
  },
  "language_info": {
   "file_extension": ".jl",
   "mimetype": "application/julia",
   "name": "julia",
   "version": "1.9.4"
  },
  "orig_nbformat": 4
 },
 "nbformat": 4,
 "nbformat_minor": 2
}
