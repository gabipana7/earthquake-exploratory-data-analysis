{
 "cells": [
  {
   "cell_type": "code",
   "execution_count": 1,
   "metadata": {},
   "outputs": [],
   "source": [
    "using CSV, FileIO, DataFrames, Dates\n",
    "using GMT"
   ]
  },
  {
   "cell_type": "code",
   "execution_count": 2,
   "metadata": {},
   "outputs": [],
   "source": [
    "region=\"italy\"\n",
    "catalog=\"ingv\"\n",
    "\n",
    "df = CSV.read(\"./data/$region.csv\", DataFrame);"
   ]
  },
  {
   "cell_type": "code",
   "execution_count": 9,
   "metadata": {},
   "outputs": [],
   "source": [
    "df = df[df.Magnitude .>= 3.0,:];"
   ]
  },
  {
   "cell_type": "code",
   "execution_count": 10,
   "metadata": {},
   "outputs": [],
   "source": [
    "min_lon = minimum(df.Longitude)\n",
    "max_lon = maximum(df.Longitude)\n",
    "min_lat = minimum(df.Latitude)\n",
    "max_lat = maximum(df.Latitude);"
   ]
  },
  {
   "cell_type": "code",
   "execution_count": 11,
   "metadata": {},
   "outputs": [
    {
     "data": {
      "text/plain": [
       "(6.6172, 18.513, 35.501, 47.075)"
      ]
     },
     "metadata": {},
     "output_type": "display_data"
    }
   ],
   "source": [
    "italy_coords = (min_lon,max_lon,min_lat,max_lat)"
   ]
  },
  {
   "cell_type": "code",
   "execution_count": 5,
   "metadata": {},
   "outputs": [],
   "source": [
    "coast(region=italy_coords, proj=:merc, land=:gray, rivers=\"a\", shore=\"0.25p\", show=true)"
   ]
  },
  {
   "cell_type": "code",
   "execution_count": 16,
   "metadata": {},
   "outputs": [
    {
     "name": "stderr",
     "output_type": "stream",
     "text": [
      "makecpt [WARNING]: Without inc in -T option, -Z has no effect (ignored)\n"
     ]
    }
   ],
   "source": [
    "marker_size = [2^x/100 for x in df.Magnitude];\n",
    "# C_markers_depth = makecpt(cmap=\"red,blue\", range=(minimum(df.Depth),maximum(df.Depth)),continuous=true,);\n",
    "# C_markers_depth = makecpt(cmap=:seis, range=(minimum(df.Depth),maximum(df.Depth)),continuous=true,);\n",
    "C_markers_mag = makecpt(cmap=:seis, range=(minimum(df.Magnitude),maximum(df.Magnitude)),continuous=true, inverse=true);"
   ]
  },
  {
   "cell_type": "code",
   "execution_count": 17,
   "metadata": {},
   "outputs": [],
   "source": [
    "coast(region=italy_coords, \n",
    "        proj=:merc, land=:gray, rivers=\"a\", shore=\"0.25p\", alpha=50, \n",
    "        frame=(axes=:WSne,))\n",
    "plot!(df.Longitude, df.Latitude, \n",
    "        markersize=marker_size, marker=:cc, markerline=:faint,\n",
    "        cmap=C_markers_mag, zcolor=df.Magnitude, alpha=50, \n",
    "        show=true)"
   ]
  },
  {
   "cell_type": "code",
   "execution_count": 18,
   "metadata": {},
   "outputs": [
    {
     "name": "stderr",
     "output_type": "stream",
     "text": [
      "makecpt [WARNING]: Without inc in -T option, -Z has no effect (ignored)\n",
      "GMT [WARNING]: Remote dataset given to a data processing module but no registration was specified - default to gridline registration (if available)\n",
      "grdcut [WARNING]: (w - x_min) must equal (NX + eps) * x_inc), where NX is an integer and |eps| <= 0.0001.\n",
      "grdcut [WARNING]: w reset from 6.6172 to 6.61666666667\n",
      "grdcut [WARNING]: (e - x_min) must equal (NX + eps) * x_inc), where NX is an integer and |eps| <= 0.0001.\n",
      "grdcut [WARNING]: e reset from 18.513 to 18.5166666667\n",
      "grdcut [WARNING]: (s - y_min) must equal (NY + eps) * y_inc), where NY is an integer and |eps| <= 0.0001.\n",
      "grdcut [WARNING]: s reset from 35.501 to 35.5\n"
     ]
    }
   ],
   "source": [
    "C_map = makecpt(cmap=:geo, range=(-8000,8000), continuous=true);\n",
    "relief_map = grdcut(\"@earth_relief_30s\", region=italy_coords);"
   ]
  },
  {
   "cell_type": "code",
   "execution_count": 105,
   "metadata": {},
   "outputs": [
    {
     "name": "stdout",
     "output_type": "stream",
     "text": [
      "Warning: the following sub-options were not consumed in 'frame' => [:offset]\n"
     ]
    }
   ],
   "source": [
    "grdview(relief_map, proj=:merc, figsize=10, surftype=(image=100,), \n",
    "        cmap=C_map, zsize=1.5,view=(180,90) ) # shade=(azimuth=100, norm=\"e0.8\"),\n",
    "# colorbar!(pos=(outside=:MR,), shade=0.4, xaxis=(annot=:auto,), ylabel=:m, show=true)#view=(135,45),\n",
    "colorbar!(pos=(anchor=:TC,length=(12.5,0.6), horizontal=true, offset=(0,1.0)),\n",
    "xaxis=(annot=:auto,),frame=(ylabel=:m, offset=(0,1.0)),view=(180,90),savefig=\"./results/$region/test_test.png\", show=true)\n"
   ]
  },
  {
   "cell_type": "code",
   "execution_count": null,
   "metadata": {},
   "outputs": [],
   "source": []
  },
  {
   "cell_type": "code",
   "execution_count": 87,
   "metadata": {},
   "outputs": [],
   "source": [
    "basemap(region=italy_coords,frame=(axes=:WSne), proj=:merc)\n",
    "\n",
    "grdview!(relief_map, proj=:merc, axis=:none, surftype=(image=100,), \n",
    "        cmap=C_map, zsize=1.5, alpha=40)\n",
    "\n",
    "plot!(df.Longitude, df.Latitude, \n",
    "markersize=marker_size, marker=:cc, markerline=:faint,\n",
    "cmap=C_markers_mag, zcolor=df.Magnitude, alpha=60,)\n",
    "\n",
    "colorbar!(pos=(outside=:MR, offset=(1.0,0)), shade=0.4, xaxis=(annot=:auto,), frame=(xlabel=:Magnitude,),par=(MAP_LABEL_OFFSET=0.8,), show=true)"
   ]
  },
  {
   "attachments": {},
   "cell_type": "markdown",
   "metadata": {},
   "source": [
    "### Semi 3D View"
   ]
  },
  {
   "cell_type": "code",
   "execution_count": 91,
   "metadata": {},
   "outputs": [],
   "source": [
    "basemap(region=italy_coords, frame=(axes=:SE), proj=:merc, view=(135,45))\n",
    "\n",
    "grdview!(relief_map, proj=:merc, axis=:none, surftype=(image=100,), \n",
    "        cmap=C_map, zsize=1.5, alpha=40 , view=(135,45))\n",
    "\n",
    "plot!(df.Longitude, df.Latitude, \n",
    "markersize=marker_size, marker=:cc, markerline=:faint,\n",
    "cmap=C_markers_mag, zcolor=df.Magnitude, alpha=60,view=(135,45))\n",
    "\n",
    "colorbar!(pos=(outside=:MR, offset=(1.3,0)), shade=0.4, xaxis=(annot=:auto,), frame=(xlabel=\"Magnitude\",),par=(MAP_LABEL_OFFSET=0.8,), view=(135,45), show=true)"
   ]
  },
  {
   "cell_type": "code",
   "execution_count": null,
   "metadata": {},
   "outputs": [],
   "source": []
  },
  {
   "cell_type": "code",
   "execution_count": 120,
   "metadata": {},
   "outputs": [
    {
     "data": {
      "text/plain": [
       "scatter_2D (generic function with 2 methods)"
      ]
     },
     "metadata": {},
     "output_type": "display_data"
    }
   ],
   "source": [
    "function scatter_2D(df, region, magnitude_threshold; magnitude=true, view=(180,90))\n",
    "\n",
    "    df = df[df.Magnitude .>= magnitude_threshold,:];\n",
    "\n",
    "    # Get region's coordinates\n",
    "    min_lon = minimum(df.Longitude)\n",
    "    max_lon = maximum(df.Longitude)\n",
    "    min_lat = minimum(df.Latitude)\n",
    "    max_lat = maximum(df.Latitude);\n",
    "\n",
    "    # Create the map coordinates\n",
    "    map_coords = (min_lon,max_lon,min_lat,max_lat)\n",
    "    \n",
    "    # Colormap for the region topography\n",
    "    C_map = makecpt(cmap=:geo, range=(-8000,8000), continuous=true);\n",
    "    # Relief map of the region\n",
    "    relief_map = grdcut(\"@earth_relief_30s\", region=map_coords);\n",
    "\n",
    "    \n",
    "    # control marker size based on magnitude\n",
    "    marker_size = [2^x/100 for x in df.Magnitude];\n",
    "\n",
    "    if magnitude == true\n",
    "        # Marker colormap based on depth\n",
    "        C_markers = makecpt(cmap=:seis, range=(minimum(df.Magnitude),maximum(df.Magnitude)),continuous=true,);\n",
    "        colorbar_label = \"Magnitude\"\n",
    "        zcolor_control = df.Magnitude\n",
    "    \n",
    "    else \n",
    "        # marker colorsize based on magnitude\n",
    "        C_markers = makecpt(cmap=:seis, range=(minimum(df.Depth),maximum(df.Depth)),continuous=true, inverse=true);\n",
    "        colorbar_label = \"Depth\"\n",
    "        zcolor_control = df.Depth\n",
    "    end\n",
    "\n",
    "\n",
    "    basemap(region=map_coords,frame=(axes=:WSne), proj=:merc, view=view)\n",
    "\n",
    "    grdview!(relief_map, proj=:merc, axis=:none, surftype=(image=1500,), \n",
    "            cmap=C_map, zsize=1.5, alpha=40 , view=view)\n",
    "\n",
    "    plot!(df.Longitude, df.Latitude, \n",
    "            markersize=marker_size, marker=:cc, markerline=:faint,\n",
    "            cmap=C_markers, zcolor=zcolor_control, alpha=60, view=view)\n",
    "\n",
    "    colorbar!(pos=(outside=:MR, offset=(1.0,0)), shade=0.4, xaxis=(annot=:auto,), frame=(xlabel=colorbar_label,),par=(MAP_LABEL_OFFSET=0.8,), \n",
    "                view=view, savefig=\"./results/$region/$(region)_2D_mag_$(magnitude_threshold)_$(colorbar_label)_$(view).png\", show=true)\n",
    "\n",
    "\n",
    "end"
   ]
  },
  {
   "cell_type": "code",
   "execution_count": 121,
   "metadata": {},
   "outputs": [
    {
     "name": "stderr",
     "output_type": "stream",
     "text": [
      "makecpt [WARNING]: Without inc in -T option, -Z has no effect (ignored)\n",
      "GMT [WARNING]: Remote dataset given to a data processing module but no registration was specified - default to gridline registration (if available)\n",
      "grdcut [WARNING]: (w - x_min) must equal (NX + eps) * x_inc), where NX is an integer and |eps| <= 0.0001.\n",
      "grdcut [WARNING]: w reset from 6.6172 to 6.61666666667\n",
      "grdcut [WARNING]: (e - x_min) must equal (NX + eps) * x_inc), where NX is an integer and |eps| <= 0.0001.\n",
      "grdcut [WARNING]: e reset from 18.513 to 18.5166666667\n",
      "grdcut [WARNING]: (s - y_min) must equal (NY + eps) * y_inc), where NY is an integer and |eps| <= 0.0001.\n",
      "grdcut [WARNING]: s reset from 35.501 to 35.5\n",
      "makecpt [WARNING]: Without inc in -T option, -Z has no effect (ignored)\n"
     ]
    },
    {
     "name": "stderr",
     "output_type": "stream",
     "text": [
      "makecpt [WARNING]: Without inc in -T option, -Z has no effect (ignored)\n",
      "GMT [WARNING]: Remote dataset given to a data processing module but no registration was specified - default to gridline registration (if available)\n",
      "grdcut [WARNING]: (w - x_min) must equal (NX + eps) * x_inc), where NX is an integer and |eps| <= 0.0001.\n",
      "grdcut [WARNING]: w reset from 6.6172 to 6.61666666667\n",
      "grdcut [WARNING]: (e - x_min) must equal (NX + eps) * x_inc), where NX is an integer and |eps| <= 0.0001.\n",
      "grdcut [WARNING]: e reset from 18.513 to 18.5166666667\n",
      "grdcut [WARNING]: (s - y_min) must equal (NY + eps) * y_inc), where NY is an integer and |eps| <= 0.0001.\n",
      "grdcut [WARNING]: s reset from 35.501 to 35.5\n",
      "makecpt [WARNING]: Without inc in -T option, -Z has no effect (ignored)\n"
     ]
    },
    {
     "name": "stderr",
     "output_type": "stream",
     "text": [
      "makecpt [WARNING]: Without inc in -T option, -Z has no effect (ignored)\n",
      "GMT [WARNING]: Remote dataset given to a data processing module but no registration was specified - default to gridline registration (if available)\n",
      "grdcut [WARNING]: (w - x_min) must equal (NX + eps) * x_inc), where NX is an integer and |eps| <= 0.0001.\n",
      "grdcut [WARNING]: w reset from 6.6172 to 6.61666666667\n",
      "grdcut [WARNING]: (e - x_min) must equal (NX + eps) * x_inc), where NX is an integer and |eps| <= 0.0001.\n",
      "grdcut [WARNING]: e reset from 18.513 to 18.5166666667\n",
      "grdcut [WARNING]: (s - y_min) must equal (NY + eps) * y_inc), where NY is an integer and |eps| <= 0.0001.\n",
      "grdcut [WARNING]: s reset from 35.501 to 35.5\n",
      "makecpt [WARNING]: Without inc in -T option, -Z has no effect (ignored)\n"
     ]
    },
    {
     "name": "stderr",
     "output_type": "stream",
     "text": [
      "makecpt [WARNING]: Without inc in -T option, -Z has no effect (ignored)\n",
      "GMT [WARNING]: Remote dataset given to a data processing module but no registration was specified - default to gridline registration (if available)\n",
      "grdcut [WARNING]: (w - x_min) must equal (NX + eps) * x_inc), where NX is an integer and |eps| <= 0.0001.\n",
      "grdcut [WARNING]: w reset from 6.6172 to 6.61666666667\n",
      "grdcut [WARNING]: (e - x_min) must equal (NX + eps) * x_inc), where NX is an integer and |eps| <= 0.0001.\n",
      "grdcut [WARNING]: e reset from 18.513 to 18.5166666667\n",
      "grdcut [WARNING]: (s - y_min) must equal (NY + eps) * y_inc), where NY is an integer and |eps| <= 0.0001.\n",
      "grdcut [WARNING]: s reset from 35.501 to 35.5\n",
      "makecpt [WARNING]: Without inc in -T option, -Z has no effect (ignored)\n"
     ]
    }
   ],
   "source": [
    "scatter_2D(df, \"italy\", 3.0; magnitude=true, view=(145,45))\n",
    "scatter_2D(df, \"italy\", 3.0; magnitude=false, view=(145,45))\n",
    "\n",
    "scatter_2D(df, \"italy\", 3.0; magnitude=true, view=(180,90))\n",
    "scatter_2D(df, \"italy\", 3.0; magnitude=false, view=(180,90))"
   ]
  },
  {
   "cell_type": "code",
   "execution_count": null,
   "metadata": {},
   "outputs": [],
   "source": []
  },
  {
   "cell_type": "code",
   "execution_count": 74,
   "metadata": {},
   "outputs": [
    {
     "name": "stderr",
     "output_type": "stream",
     "text": [
      "makecpt [WARNING]: Without inc in -T option, -Z has no effect (ignored)\n",
      "GMT [WARNING]: Remote dataset given to a data processing module but no registration was specified - default to gridline registration (if available)\n",
      "grdcut [WARNING]: (w - x_min) must equal (NX + eps) * x_inc), where NX is an integer and |eps| <= 0.0001.\n",
      "grdcut [WARNING]: w reset from 6.6166 to 6.60833333333\n",
      "grdcut [WARNING]: (e - x_min) must equal (NX + eps) * x_inc), where NX is an integer and |eps| <= 0.0001.\n",
      "grdcut [WARNING]: e reset from 18.5166 to 18.5166666667\n",
      "grdcut [WARNING]: (n - y_min) must equal (NY + eps) * y_inc), where NY is an integer and |eps| <= 0.0001.\n",
      "grdcut [WARNING]: n reset from 47.0833 to 47.0833333333\n"
     ]
    }
   ],
   "source": [
    "# C_map = makecpt(cmap=:relief, range=(-8000,8000), continuous=true);\n",
    "# C_map = makecpt(cmap=:world, range=(-7000,7000), continuous=true);\n",
    "C_map = makecpt(cmap=:geo, range=(-8000,8000), continuous=true);\n",
    "# C_map = makecpt(cmap=:earth, range=(-11000,9000), continuous=true);\n",
    "# C_map = makecpt(cmap=:etopo1, range=(-11000,8500), continuous=true);\n",
    "# C_map = makecpt(cmap=:globe, range=(-10000,10000), continuous=true);\n",
    "relief_map = grdcut(\"@earth_relief_30s\", region=italy_coords);"
   ]
  },
  {
   "cell_type": "code",
   "execution_count": 75,
   "metadata": {},
   "outputs": [],
   "source": [
    "grdview(relief_map, proj=:merc, figsize=10, surftype=(image=1000,), \n",
    "        view=(135,45),cmap=C_map, zsize=1.5, title=\"geo\")\n",
    "colorbar!(pos=(outside=:MR,), shade=0.4,view=(135,45), xaxis=(annot=:auto,), ylabel=:m, show=true)\n"
   ]
  },
  {
   "cell_type": "code",
   "execution_count": null,
   "metadata": {},
   "outputs": [],
   "source": [
    "# C = makecpt(cmap=:dem2, range=(0,2000));\n",
    "# G = grdcut(\"@earth_relief_30s\", region=italy_coords);\n",
    "Ggrad = grdgradient(G, norm=(laplace=0.8,), azim=100, colinfo=:g);\n",
    "grdview(G, proj=:merc, figsize=10, surftype=(image=1000,), \n",
    "                shade=Ggrad, zsize=0.1, alpha=55)\n",
    "\n",
    "plot!(df.Longitude, df.Latitude, \n",
    "markersize=marker_size, marker=:cc, markerline=:faint,\n",
    "color=C, zcolor=df.Depth, alpha=50, \n",
    "show=true)"
   ]
  },
  {
   "cell_type": "code",
   "execution_count": null,
   "metadata": {},
   "outputs": [],
   "source": []
  },
  {
   "cell_type": "code",
   "execution_count": 53,
   "metadata": {},
   "outputs": [],
   "source": [
    "grdview(relief_map, proj=:merc, figsize=10, surftype=(image=3000,), \n",
    "        view=(135,35),cmap=C_map, zsize=1.5, alpha=40)\n",
    "\n",
    "\n",
    "plot!(df.Longitude, df.Latitude, \n",
    "markersize=marker_size, marker=:cc, markerline=:faint,\n",
    "color=C_markers, zcolor=df.Depth, alpha=60,\n",
    "view=(135,35))\n",
    "\n",
    "colorbar!(pos=(outside=:MR,), shade=0.4,view=(135,35), xaxis=(annot=:auto,), ylabel=:m, show=true)"
   ]
  },
  {
   "cell_type": "code",
   "execution_count": null,
   "metadata": {},
   "outputs": [],
   "source": []
  }
 ],
 "metadata": {
  "kernelspec": {
   "display_name": "Julia 1.8.5",
   "language": "julia",
   "name": "julia-1.8"
  },
  "language_info": {
   "file_extension": ".jl",
   "mimetype": "application/julia",
   "name": "julia",
   "version": "1.8.5"
  },
  "orig_nbformat": 4
 },
 "nbformat": 4,
 "nbformat_minor": 2
}
