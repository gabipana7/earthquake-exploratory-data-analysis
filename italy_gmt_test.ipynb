{
 "cells": [
  {
   "cell_type": "code",
   "execution_count": 1,
   "metadata": {},
   "outputs": [],
   "source": [
    "using CSV, FileIO, DataFrames, Dates\n",
    "using GMT"
   ]
  },
  {
   "cell_type": "code",
   "execution_count": 2,
   "metadata": {},
   "outputs": [],
   "source": [
    "region=\"italy\"\n",
    "catalog=\"ingv\"\n",
    "\n",
    "df = CSV.read(\"./data/$region.csv\", DataFrame);"
   ]
  },
  {
   "cell_type": "code",
   "execution_count": null,
   "metadata": {},
   "outputs": [],
   "source": [
    "min_lon = minimum(df.Longitude)\n",
    "max_lon = maximum(df.Longitude)\n",
    "min_lat = minimum(df.Latitude)\n",
    "max_lat = maximum(df.Latitude);"
   ]
  },
  {
   "cell_type": "code",
   "execution_count": 3,
   "metadata": {},
   "outputs": [
    {
     "data": {
      "text/plain": [
       "(6.6166, 18.5166, 35.5, 47.0833)"
      ]
     },
     "metadata": {},
     "output_type": "display_data"
    }
   ],
   "source": [
    "italy_coords = (min_lon,max_lon,min_lat,max_lat)"
   ]
  },
  {
   "cell_type": "code",
   "execution_count": 4,
   "metadata": {},
   "outputs": [],
   "source": [
    "coast(region=italy_coords, proj=:merc, land=:gray, rivers=\"a\", shore=\"0.25p\", show=true)"
   ]
  },
  {
   "cell_type": "code",
   "execution_count": 43,
   "metadata": {},
   "outputs": [],
   "source": [
    "marker_size = [2^x/100 for x in df.Magnitude];\n",
    "C_markers = makecpt(cmap=\"red,blue\", range=(minimum(df.Depth),maximum(df.Depth)),continuous=true,);"
   ]
  },
  {
   "cell_type": "code",
   "execution_count": 7,
   "metadata": {},
   "outputs": [],
   "source": [
    "coast(region=italy_coords, \n",
    "        proj=:merc, land=:gray, rivers=\"a\", shore=\"0.25p\", alpha=50, \n",
    "        frame=(axes=:WSne,))\n",
    "plot!(df.Longitude, df.Latitude, \n",
    "        markersize=marker_size, marker=:cc, markerline=:faint,\n",
    "        color=C, zcolor=df.Depth, alpha=50, \n",
    "        show=true)"
   ]
  },
  {
   "cell_type": "code",
   "execution_count": null,
   "metadata": {},
   "outputs": [],
   "source": []
  },
  {
   "cell_type": "code",
   "execution_count": 8,
   "metadata": {},
   "outputs": [
    {
     "name": "stderr",
     "output_type": "stream",
     "text": [
      "GMT [WARNING]: Remote dataset given to a data processing module but no registration was specified - default to gridline registration (if available)\n",
      "grdcut [WARNING]: (w - x_min) must equal (NX + eps) * x_inc), where NX is an integer and |eps| <= 0.0001.\n",
      "grdcut [WARNING]: w reset from 6.62 to 6.61666666667\n",
      "grdcut [WARNING]: (e - x_min) must equal (NX + eps) * x_inc), where NX is an integer and |eps| <= 0.0001.\n",
      "grdcut [WARNING]: e reset from 18.52 to 18.525\n"
     ]
    }
   ],
   "source": []
  },
  {
   "cell_type": "code",
   "execution_count": 74,
   "metadata": {},
   "outputs": [
    {
     "name": "stderr",
     "output_type": "stream",
     "text": [
      "makecpt [WARNING]: Without inc in -T option, -Z has no effect (ignored)\n",
      "GMT [WARNING]: Remote dataset given to a data processing module but no registration was specified - default to gridline registration (if available)\n",
      "grdcut [WARNING]: (w - x_min) must equal (NX + eps) * x_inc), where NX is an integer and |eps| <= 0.0001.\n",
      "grdcut [WARNING]: w reset from 6.6166 to 6.60833333333\n",
      "grdcut [WARNING]: (e - x_min) must equal (NX + eps) * x_inc), where NX is an integer and |eps| <= 0.0001.\n",
      "grdcut [WARNING]: e reset from 18.5166 to 18.5166666667\n",
      "grdcut [WARNING]: (n - y_min) must equal (NY + eps) * y_inc), where NY is an integer and |eps| <= 0.0001.\n",
      "grdcut [WARNING]: n reset from 47.0833 to 47.0833333333\n"
     ]
    }
   ],
   "source": [
    "# C_map = makecpt(cmap=:relief, range=(-8000,8000), continuous=true);\n",
    "# C_map = makecpt(cmap=:world, range=(-7000,7000), continuous=true);\n",
    "C_map = makecpt(cmap=:geo, range=(-8000,8000), continuous=true);\n",
    "# C_map = makecpt(cmap=:earth, range=(-11000,9000), continuous=true);\n",
    "# C_map = makecpt(cmap=:etopo1, range=(-11000,8500), continuous=true);\n",
    "# C_map = makecpt(cmap=:globe, range=(-10000,10000), continuous=true);\n",
    "relief_map = grdcut(\"@earth_relief_30s\", region=italy_coords);"
   ]
  },
  {
   "cell_type": "code",
   "execution_count": 75,
   "metadata": {},
   "outputs": [],
   "source": [
    "grdview(relief_map, proj=:merc, figsize=10, surftype=(image=1000,), \n",
    "        view=(135,45),cmap=C_map, zsize=1.5, title=\"geo\")\n",
    "colorbar!(pos=(outside=:MR,), shade=0.4,view=(135,45), xaxis=(annot=:auto,), ylabel=:m, show=true)\n"
   ]
  },
  {
   "cell_type": "code",
   "execution_count": null,
   "metadata": {},
   "outputs": [],
   "source": [
    "# C = makecpt(cmap=:dem2, range=(0,2000));\n",
    "# G = grdcut(\"@earth_relief_30s\", region=italy_coords);\n",
    "Ggrad = grdgradient(G, norm=(laplace=0.8,), azim=100, colinfo=:g);\n",
    "grdview(G, proj=:merc, figsize=10, surftype=(image=1000,), \n",
    "                shade=Ggrad, zsize=0.1, alpha=55)\n",
    "\n",
    "plot!(df.Longitude, df.Latitude, \n",
    "markersize=marker_size, marker=:cc, markerline=:faint,\n",
    "color=C, zcolor=df.Depth, alpha=50, \n",
    "show=true)"
   ]
  },
  {
   "cell_type": "code",
   "execution_count": null,
   "metadata": {},
   "outputs": [],
   "source": []
  },
  {
   "cell_type": "code",
   "execution_count": 53,
   "metadata": {},
   "outputs": [],
   "source": [
    "grdview(relief_map, proj=:merc, figsize=10, surftype=(image=3000,), \n",
    "        view=(135,35),cmap=C_map, zsize=1.5, alpha=40)\n",
    "\n",
    "\n",
    "plot!(df.Longitude, df.Latitude, \n",
    "markersize=marker_size, marker=:cc, markerline=:faint,\n",
    "color=C_markers, zcolor=df.Depth, alpha=60,\n",
    "view=(135,35))\n",
    "\n",
    "colorbar!(pos=(outside=:MR,), shade=0.4,view=(135,35), xaxis=(annot=:auto,), ylabel=:m, show=true)"
   ]
  },
  {
   "cell_type": "code",
   "execution_count": null,
   "metadata": {},
   "outputs": [],
   "source": []
  }
 ],
 "metadata": {
  "kernelspec": {
   "display_name": "Julia 1.8.5",
   "language": "julia",
   "name": "julia-1.8"
  },
  "language_info": {
   "file_extension": ".jl",
   "mimetype": "application/julia",
   "name": "julia",
   "version": "1.8.5"
  },
  "orig_nbformat": 4
 },
 "nbformat": 4,
 "nbformat_minor": 2
}
