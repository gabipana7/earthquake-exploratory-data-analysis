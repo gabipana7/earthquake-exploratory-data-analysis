{
 "cells": [
  {
   "cell_type": "code",
   "execution_count": 1,
   "metadata": {},
   "outputs": [],
   "source": [
    "using CSV, FileIO, DataFrames, Dates\n",
    "using GMT"
   ]
  },
  {
   "cell_type": "code",
   "execution_count": 2,
   "metadata": {},
   "outputs": [],
   "source": [
    "region=\"italy\"\n",
    "catalog=\"ingv\"\n",
    "\n",
    "df = CSV.read(\"./data/$region.csv\", DataFrame);"
   ]
  },
  {
   "cell_type": "code",
   "execution_count": 3,
   "metadata": {},
   "outputs": [],
   "source": [
    "# df = df[df.Magnitude .>= 3.0,:];"
   ]
  },
  {
   "cell_type": "code",
   "execution_count": 4,
   "metadata": {},
   "outputs": [],
   "source": [
    "min_lon = minimum(df.Longitude)\n",
    "max_lon = maximum(df.Longitude)\n",
    "min_lat = minimum(df.Latitude)\n",
    "max_lat = maximum(df.Latitude)\n",
    "min_dep = minimum(df.Depth)\n",
    "max_dep = maximum(df.Depth);"
   ]
  },
  {
   "cell_type": "code",
   "execution_count": 5,
   "metadata": {},
   "outputs": [
    {
     "data": {
      "text/plain": [
       "(6.6168, 18.513, 35.501, 47.083, -644.4, 0.0)"
      ]
     },
     "metadata": {},
     "output_type": "display_data"
    }
   ],
   "source": [
    "italy_coords = (min_lon,max_lon,min_lat,max_lat)\n",
    "italy_coords_depth = (min_lon,max_lon,min_lat,max_lat,-max_dep,min_dep)"
   ]
  },
  {
   "cell_type": "code",
   "execution_count": 5,
   "metadata": {},
   "outputs": [],
   "source": [
    "coast(region=italy_coords, proj=:merc, land=:gray, rivers=\"a\", shore=\"0.25p\", show=true)"
   ]
  },
  {
   "cell_type": "code",
   "execution_count": 6,
   "metadata": {},
   "outputs": [
    {
     "name": "stderr",
     "output_type": "stream",
     "text": [
      "makecpt [WARNING]: Without inc in -T option, -Z has no effect (ignored)\n"
     ]
    }
   ],
   "source": [
    "marker_size = [2^x/100 for x in df.Magnitude];\n",
    "# C_markers_depth = makecpt(cmap=\"red,blue\", range=(minimum(df.Depth),maximum(df.Depth)),continuous=true,);\n",
    "# C_markers_depth = makecpt(cmap=:seis, range=(minimum(df.Depth),maximum(df.Depth)),continuous=true,);\n",
    "C_markers_mag = makecpt(cmap=:seis, range=(minimum(df.Magnitude),maximum(df.Magnitude)),continuous=true, inverse=true);"
   ]
  },
  {
   "attachments": {},
   "cell_type": "markdown",
   "metadata": {},
   "source": [
    "## 2D Plots"
   ]
  },
  {
   "cell_type": "code",
   "execution_count": 17,
   "metadata": {},
   "outputs": [],
   "source": [
    "coast(region=italy_coords, \n",
    "        proj=:merc, land=:gray, rivers=\"a\", shore=\"0.25p\", alpha=50, \n",
    "        frame=(axes=:WSne,))\n",
    "plot!(df.Longitude, df.Latitude, \n",
    "        markersize=marker_size, marker=:cc, markerline=:faint,\n",
    "        cmap=C_markers_mag, zcolor=df.Magnitude, alpha=50, \n",
    "        show=true)"
   ]
  },
  {
   "cell_type": "code",
   "execution_count": 7,
   "metadata": {},
   "outputs": [
    {
     "name": "stderr",
     "output_type": "stream",
     "text": [
      "makecpt [WARNING]: Without inc in -T option, -Z has no effect (ignored)\n",
      "GMT [WARNING]: Remote dataset given to a data processing module but no registration was specified - default to gridline registration (if available)\n",
      "grdcut [WARNING]: (w - x_min) must equal (NX + eps) * x_inc), where NX is an integer and |eps| <= 0.0001.\n",
      "grdcut [WARNING]: w reset from 6.6172 to 6.61666666667\n",
      "grdcut [WARNING]: (e - x_min) must equal (NX + eps) * x_inc), where NX is an integer and |eps| <= 0.0001.\n",
      "grdcut [WARNING]: e reset from 18.513 to 18.5166666667\n",
      "grdcut [WARNING]: (s - y_min) must equal (NY + eps) * y_inc), where NY is an integer and |eps| <= 0.0001.\n",
      "grdcut [WARNING]: s reset from 35.501 to 35.5\n"
     ]
    }
   ],
   "source": [
    "C_map = makecpt(cmap=:geo, range=(-8000,8000), continuous=true);\n",
    "relief_map = grdcut(\"@earth_relief_30s\", region=italy_coords);"
   ]
  },
  {
   "cell_type": "code",
   "execution_count": 105,
   "metadata": {},
   "outputs": [
    {
     "name": "stdout",
     "output_type": "stream",
     "text": [
      "Warning: the following sub-options were not consumed in 'frame' => [:offset]\n"
     ]
    }
   ],
   "source": [
    "grdview(relief_map, proj=:merc, figsize=10, surftype=(image=100,), \n",
    "        cmap=C_map, zsize=1.5,view=(180,90) ) # shade=(azimuth=100, norm=\"e0.8\"),\n",
    "# colorbar!(pos=(outside=:MR,), shade=0.4, xaxis=(annot=:auto,), ylabel=:m, show=true)#view=(135,45),\n",
    "colorbar!(pos=(anchor=:TC,length=(12.5,0.6), horizontal=true, offset=(0,1.0)),\n",
    "xaxis=(annot=:auto,),frame=(ylabel=:m, offset=(0,1.0)),view=(180,90),savefig=\"./results/$region/test_test.png\", show=true)\n"
   ]
  },
  {
   "cell_type": "code",
   "execution_count": 17,
   "metadata": {},
   "outputs": [
    {
     "data": {
      "text/plain": [
       "scatter_2D (generic function with 1 method)"
      ]
     },
     "metadata": {},
     "output_type": "display_data"
    }
   ],
   "source": [
    "function scatter_2D(df, region, magnitude_threshold; z_control=\"Magnitude\")\n",
    "\n",
    "    df = df[df.Magnitude .>= magnitude_threshold,:];\n",
    "\n",
    "    # Get region's coordinates\n",
    "    min_lon = minimum(df.Longitude)\n",
    "    max_lon = maximum(df.Longitude)\n",
    "    min_lat = minimum(df.Latitude)\n",
    "    max_lat = maximum(df.Latitude);\n",
    "\n",
    "    # Create the map coordinates\n",
    "    map_coords = (min_lon,max_lon,min_lat,max_lat)\n",
    "    \n",
    "    # Colormap for the region topography\n",
    "    C_map = makecpt(cmap=:geo, range=(-8000,8000), continuous=true);\n",
    "    # Relief map of the region\n",
    "    relief_map = grdcut(\"@earth_relief_30s\", region=map_coords);\n",
    "\n",
    "    \n",
    "    # control marker size based on magnitude\n",
    "    marker_size = [2^x/100 for x in df.Magnitude];\n",
    "\n",
    "    # control marker color either by Magnitude or by Depth\n",
    "    C_markers = makecpt(cmap=:seis, range=(minimum(df[!, z_control]),maximum(df[!, z_control])),continuous=true, inverse=true);\n",
    "    colorbar_label = z_control\n",
    "    zcolor_control = df[!, z_control]\n",
    "\n",
    "    basemap(region=map_coords,frame=(axes=:WSne), proj=:merc)\n",
    "\n",
    "    grdview!(relief_map, proj=:merc, axis=:none, surftype=(image=1000,), \n",
    "            cmap=C_map, zsize=1.5, alpha=40)\n",
    "\n",
    "    plot!(df.Longitude, df.Latitude, \n",
    "            markersize=marker_size, marker=:cc, markerline=:faint,\n",
    "            cmap=C_markers, zcolor=zcolor_control, alpha=60)\n",
    "\n",
    "    colorbar!(pos=(outside=:MR, offset=(1.0,0)), shade=0.4, xaxis=(annot=:auto,), frame=(xlabel=colorbar_label,),par=(MAP_LABEL_OFFSET=0.8,), \n",
    "                savefig=\"./results/$region/$(region)_2D_mag_$(magnitude_threshold)_$(colorbar_label).png\", show=true)\n",
    "\n",
    "end"
   ]
  },
  {
   "cell_type": "code",
   "execution_count": 18,
   "metadata": {},
   "outputs": [
    {
     "data": {
      "text/plain": [
       "scatter_semi_3D (generic function with 1 method)"
      ]
     },
     "metadata": {},
     "output_type": "display_data"
    }
   ],
   "source": [
    "function scatter_semi_3D(df, region, magnitude_threshold; z_control=\"Magnitude\")\n",
    "\n",
    "    df = df[df.Magnitude .>= magnitude_threshold,:];\n",
    "\n",
    "    # Get region's coordinates\n",
    "    min_lon = minimum(df.Longitude)\n",
    "    max_lon = maximum(df.Longitude)\n",
    "    min_lat = minimum(df.Latitude)\n",
    "    max_lat = maximum(df.Latitude);\n",
    "\n",
    "    # Create the map coordinates\n",
    "    map_coords = (min_lon,max_lon,min_lat,max_lat)\n",
    "    \n",
    "    # Colormap for the region topography\n",
    "    C_map = makecpt(cmap=:geo, range=(-8000,8000), continuous=true);\n",
    "    # Relief map of the region\n",
    "    relief_map = grdcut(\"@earth_relief_30s\", region=map_coords);\n",
    "\n",
    "    \n",
    "    # control marker size based on magnitude\n",
    "    marker_size = [2^x/100 for x in df.Magnitude];\n",
    "\n",
    "    # control marker color either by Magnitude or by Depth\n",
    "    C_markers = makecpt(cmap=:seis, range=(minimum(df[!, z_control]),maximum(df[!, z_control])),continuous=true, inverse=true);\n",
    "    zcolor_control = df[!, z_control]\n",
    "\n",
    "\n",
    "    basemap(region=map_coords,frame=(axes=:SE), proj=:merc, view=(145,45))\n",
    "\n",
    "    grdview!(relief_map, proj=:merc, axis=:none, surftype=(image=1000,), \n",
    "            cmap=C_map, zsize=1.5, alpha=40 , view=(145,45))\n",
    "\n",
    "    plot!(df.Longitude, df.Latitude, \n",
    "            markersize=marker_size, marker=:cc, markerline=:faint,\n",
    "            cmap=C_markers, zcolor=zcolor_control, alpha=60, view=(145,45))\n",
    "\n",
    "    colorbar!(pos=(outside=:MR, offset=(1.5,0)), shade=0.4, xaxis=(annot=:auto,), frame=(xlabel=z_control,),par=(MAP_LABEL_OFFSET=0.8,), \n",
    "                view=(145,45), savefig=\"./results/$region/$(region)_semi3D_mag_$(magnitude_threshold)_$(z_control).png\", show=true)\n",
    "\n",
    "end"
   ]
  },
  {
   "cell_type": "code",
   "execution_count": null,
   "metadata": {},
   "outputs": [],
   "source": [
    "for mag in [0.0,1.0,2.0,3.0,4.0]\n",
    "    scatter_2D(df, \"italy\", mag; z_control=\"Magnitude\")\n",
    "    scatter_2D(df, \"italy\", mag; z_control=\"Depth\")\n",
    "\n",
    "    scatter_semi_3D(df, \"italy\", mag; z_control=\"Magnitude\")\n",
    "    scatter_semi_3D(df, \"italy\", mag; z_control=\"Depth\")\n",
    "    \n",
    "end"
   ]
  },
  {
   "cell_type": "code",
   "execution_count": null,
   "metadata": {},
   "outputs": [],
   "source": [
    "scatter_2D(df, \"italy\", 4.0; z_control=\"Magnitude\")\n",
    "scatter_2D(df, \"italy\", 4.0; z_control=\"Depth\")"
   ]
  },
  {
   "cell_type": "code",
   "execution_count": null,
   "metadata": {},
   "outputs": [],
   "source": [
    "scatter_semi_3D(df, \"italy\", 4.0; z_control=\"Magnitude\")\n",
    "scatter_semi_3D(df, \"italy\", 4.0; z_control=\"Depth\")"
   ]
  },
  {
   "cell_type": "code",
   "execution_count": null,
   "metadata": {},
   "outputs": [],
   "source": []
  },
  {
   "attachments": {},
   "cell_type": "markdown",
   "metadata": {},
   "source": [
    "## 3D Plots"
   ]
  },
  {
   "cell_type": "code",
   "execution_count": 276,
   "metadata": {},
   "outputs": [
    {
     "name": "stderr",
     "output_type": "stream",
     "text": [
      "makecpt [WARNING]: Without inc in -T option, -Z has no effect (ignored)\n",
      "makecpt [WARNING]: Without inc in -T option, -Z has no effect (ignored)\n"
     ]
    }
   ],
   "source": [
    "marker_size = [2^x/100 for x in df.Magnitude];\n",
    "# C_markers_depth = makecpt(cmap=\"red,blue\", range=(minimum(df.Depth),maximum(df.Depth)),continuous=true,);\n",
    "C_markers_depth = makecpt(cmap=:seis, range=(minimum(df.Depth),maximum(df.Depth)),continuous=true, inverse=true);\n",
    "C_markers_mag = makecpt(cmap=:seis, range=(minimum(df.Magnitude),maximum(df.Magnitude)),continuous=true, inverse=true);"
   ]
  },
  {
   "cell_type": "code",
   "execution_count": null,
   "metadata": {},
   "outputs": [],
   "source": [
    "C_map = makecpt(cmap=:geo, range=(-8000,8000), continuous=true);\n",
    "relief_map = grdcut(\"@earth_relief_30s\", region=italy_coords);"
   ]
  },
  {
   "cell_type": "code",
   "execution_count": 110,
   "metadata": {},
   "outputs": [
    {
     "data": {
      "text/plain": [
       "(6.6172, 18.513, 35.501, 47.075, -644.4, 0.0)"
      ]
     },
     "metadata": {},
     "output_type": "display_data"
    }
   ],
   "source": [
    "italy_coords_depth"
   ]
  },
  {
   "cell_type": "code",
   "execution_count": 170,
   "metadata": {},
   "outputs": [
    {
     "name": "stderr",
     "output_type": "stream",
     "text": [
      "GMT [WARNING]: Remote dataset given to a data processing module but no registration was specified - default to gridline registration (if available)\n",
      "grdcut [WARNING]: (w - x_min) must equal (NX + eps) * x_inc), where NX is an integer and |eps| <= 0.0001.\n",
      "grdcut [WARNING]: w reset from 6.6172 to 6.61666666667\n",
      "grdcut [WARNING]: (e - x_min) must equal (NX + eps) * x_inc), where NX is an integer and |eps| <= 0.0001.\n",
      "grdcut [WARNING]: e reset from 18.513 to 18.5166666667\n",
      "grdcut [WARNING]: (s - y_min) must equal (NY + eps) * y_inc), where NY is an integer and |eps| <= 0.0001.\n",
      "grdcut [WARNING]: s reset from 35.501 to 35.5\n"
     ]
    }
   ],
   "source": [
    "relief_map_depth = grdcut(\"@earth_relief_30s\", region=italy_coords_depth);"
   ]
  },
  {
   "attachments": {},
   "cell_type": "markdown",
   "metadata": {},
   "source": [
    "### Working but manually shifting the map"
   ]
  },
  {
   "cell_type": "code",
   "execution_count": 290,
   "metadata": {},
   "outputs": [],
   "source": [
    "plot3d(df.Longitude, df.Latitude, -df.Depth,\n",
    "frame=\"SEnwZ1+b xafg yafg zafg\",proj=:merc,\n",
    "markersize=marker_size, marker=:cc, # markerline=:faint,\n",
    "cmap=C_markers_mag, zcolor=df.Magnitude,alpha=40,view=(135,20))\n",
    "\n",
    "colorbar!(pos=(outside=:BC, offset=(0,1.5)), shade=0.4, xaxis=(annot=:auto,), frame=(xlabel=\"Magnitude\",),par=(MAP_LABEL_OFFSET=0.8,),  view=(135,20))\n",
    "\n",
    "grdview!(relief_map_depth, proj=:merc, surftype=(image=500,), \n",
    "cmap=C_map,zsize=0.1, alpha=30 ,yshift=6, view=(135,20), show=true)\n",
    "\n",
    "\n",
    "\n",
    "# coast!(region=italy_coords, shorelines=\"1p,black\", axis=:none,  proj=:merc, land=\"#ffe398\",perspective=(135,25), alpha=50, show=true,yshift=5.4)"
   ]
  },
  {
   "cell_type": "code",
   "execution_count": null,
   "metadata": {},
   "outputs": [],
   "source": []
  },
  {
   "cell_type": "code",
   "execution_count": null,
   "metadata": {},
   "outputs": [],
   "source": []
  },
  {
   "cell_type": "code",
   "execution_count": 287,
   "metadata": {},
   "outputs": [],
   "source": [
    "# https://www.earthinversion.com/utilities/how-to-plot-the-earthquake-data-on-three-dimensional-topographic-map/\n",
    "\n",
    "depths = -1 .* maxdep .* ((df.Depth .- minimum(df.Depth) )./ (maximum(df.Depth)-minimum(df.Depth)) );"
   ]
  },
  {
   "cell_type": "code",
   "execution_count": 285,
   "metadata": {},
   "outputs": [],
   "source": [
    "plot3d(df.Longitude, df.Latitude, depths,\n",
    "# frame=\"SEnwZ1+b xafg yafg zafg\",proj=:merc,\n",
    "proj=:merc, frame=\"xa1f0.25 ya1f0.25 z2000+lmeters wSEnZ\",\n",
    "markersize=marker_size, marker=:cc, # markerline=:faint,\n",
    "cmap=C_markers_depth, zcolor=df.Depth,alpha=40,view=(135,20))\n",
    "\n",
    "grdview!(relief_map, region=(6.6172, 18.513, 35.501, 47.075,-maxdep,4000), axis=:none, proj=:merc, surftype=(image=500,), \n",
    "cmap=C_map, zsize=2, alpha=30, view=(135,20), show=true)"
   ]
  },
  {
   "cell_type": "code",
   "execution_count": null,
   "metadata": {},
   "outputs": [],
   "source": []
  },
  {
   "cell_type": "code",
   "execution_count": null,
   "metadata": {},
   "outputs": [],
   "source": []
  },
  {
   "cell_type": "code",
   "execution_count": 286,
   "metadata": {},
   "outputs": [],
   "source": [
    "grdview(relief_map, region=(6.6172, 18.513, 35.501, 47.075,-maxdep,4000), frame=\"xa1f0.25 ya1f0.25 z2000+lmeters wSEnZ\", proj=:merc, surftype=(image=500,), \n",
    "cmap=C_map, zsize=2, alpha=30, view=(135,20))\n",
    "\n",
    "plot3d!(df.Longitude, df.Latitude, depths,\n",
    "# frame=\"SEnwZ1+b xafg yafg zafg\",proj=:merc,\n",
    "proj=:merc, axis=:none,\n",
    "markersize=marker_size, marker=:cc, # markerline=:faint,\n",
    "cmap=C_markers_depth, zcolor=df.Depth,alpha=40,view=(135,20), show=true)"
   ]
  },
  {
   "cell_type": "code",
   "execution_count": 230,
   "metadata": {},
   "outputs": [],
   "source": [
    "plot3d(df.Longitude, df.Latitude, -df.Depth,\n",
    "frame=\"SEnwZ1+b xafg yafg zafg\",proj=:merc,\n",
    "markersize=marker_size, marker=:cc, # markerline=:faint,\n",
    "cmap=C_markers_mag, zcolor=df.Magnitude,alpha=40,view=(135,20))\n",
    "\n",
    "colorbar!(pos=(outside=:BC, offset=(0,1.5)), shade=0.4, xaxis=(annot=:auto,), frame=(xlabel=\"Magnitude\",),par=(MAP_LABEL_OFFSET=0.8,),  view=(135,20))\n",
    "\n",
    "grdview!(relief_map_depth,region=(6.6172, 18.513, 35.501, 47.075, -644000, 0.0), proj=:merc, surftype=(image=500,), \n",
    "cmap=C_map,zsize=0.1, alpha=30 ,yshift=6, view=(135,20), show=true)"
   ]
  },
  {
   "cell_type": "code",
   "execution_count": null,
   "metadata": {},
   "outputs": [],
   "source": []
  },
  {
   "cell_type": "code",
   "execution_count": null,
   "metadata": {},
   "outputs": [],
   "source": [
    "\"a1Of1d WS\""
   ]
  },
  {
   "cell_type": "code",
   "execution_count": 120,
   "metadata": {},
   "outputs": [
    {
     "data": {
      "text/plain": [
       "scatter_2D (generic function with 2 methods)"
      ]
     },
     "metadata": {},
     "output_type": "display_data"
    }
   ],
   "source": []
  },
  {
   "cell_type": "code",
   "execution_count": null,
   "metadata": {},
   "outputs": [],
   "source": []
  },
  {
   "cell_type": "code",
   "execution_count": null,
   "metadata": {},
   "outputs": [],
   "source": []
  }
 ],
 "metadata": {
  "kernelspec": {
   "display_name": "Julia 1.8.5",
   "language": "julia",
   "name": "julia-1.8"
  },
  "language_info": {
   "file_extension": ".jl",
   "mimetype": "application/julia",
   "name": "julia",
   "version": "1.8.5"
  },
  "orig_nbformat": 4
 },
 "nbformat": 4,
 "nbformat_minor": 2
}
