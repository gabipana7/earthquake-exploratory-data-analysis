{
 "cells": [
  {
   "cell_type": "code",
   "execution_count": 1,
   "metadata": {},
   "outputs": [
    {
     "data": {
      "text/plain": [
       "quality_boxplot (generic function with 1 method)"
      ]
     },
     "metadata": {},
     "output_type": "display_data"
    }
   ],
   "source": [
    "include(\"./src/eda.jl\")"
   ]
  },
  {
   "cell_type": "code",
   "execution_count": 2,
   "metadata": {},
   "outputs": [
    {
     "data": {
      "text/plain": [
       "\"scedc\""
      ]
     },
     "metadata": {},
     "output_type": "display_data"
    }
   ],
   "source": [
    "region = \"California\"\n",
    "catalog = \"scedc\""
   ]
  },
  {
   "cell_type": "code",
   "execution_count": 3,
   "metadata": {},
   "outputs": [
    {
     "name": "stdout",
     "output_type": "stream",
     "text": [
      "\u001b[1m5×7 DataFrame\u001b[0m\n",
      "\u001b[1m Row \u001b[0m│\u001b[1m Datetime                \u001b[0m\u001b[1m Latitude \u001b[0m\u001b[1m Longitude \u001b[0m\u001b[1m Depth   \u001b[0m\u001b[1m Magnitude \u001b[0m\u001b[1m Magnitude_Type \u001b[0m\u001b[1m Quality \u001b[0m\n",
      "     │\u001b[90m DateTime                \u001b[0m\u001b[90m Float64  \u001b[0m\u001b[90m Float64   \u001b[0m\u001b[90m Float64 \u001b[0m\u001b[90m Float64   \u001b[0m\u001b[90m String3        \u001b[0m\u001b[90m String1 \u001b[0m\n",
      "─────┼───────────────────────────────────────────────────────────────────────────────────────────\n",
      "   1 │ 1932-01-02T16:42:53.680    33.903   -117.645      6.0       2.73  l               C\n",
      "   2 │ 1932-01-03T17:58:50.010    32.0     -116.0        6.0       3.0   h               D\n",
      "   3 │ 1932-01-04T21:30:50.960    33.771   -117.494      6.0       2.0   h               C\n",
      "   4 │ 1932-01-05T02:37:57.960    33.559   -118.442      6.0       1.5   h               C\n",
      "   5 │ 1932-01-06T08:08:58.620    34.143   -117.475      6.0       2.0   h               C\u001b[1m7×7 DataFrame\u001b[0m\n",
      "\u001b[1m Row \u001b[0m│\u001b[1m variable       \u001b[0m\u001b[1m mean     \u001b[0m\u001b[1m min                     \u001b[0m\u001b[1m median                  \u001b[0m\u001b[1m max                     \u001b[0m\u001b[1m nmissing \u001b[0m\u001b[1m eltype   \u001b[0m\n",
      "     │\u001b[90m Symbol         \u001b[0m\u001b[90m Union…   \u001b[0m\u001b[90m Any                     \u001b[0m\u001b[90m Any                     \u001b[0m\u001b[90m Any                     \u001b[0m\u001b[90m Int64    \u001b[0m\u001b[90m DataType \u001b[0m\n",
      "─────┼─────────────────────────────────────────────────────────────────────────────────────────────────────────────────────────\n",
      "   1 │ Datetime       \u001b[90m          \u001b[0m 1932-01-02T16:42:53.680  2002-06-14T16:46:25.640  2023-09-07T07:21:53.640         0  DateTime\n",
      "   2 │ Latitude        34.3537   32.0                     34.113                   37.0                            0  Float64\n",
      "   3 │ Longitude       -117.058  -122.0                   -116.825                 -114.0                          0  Float64\n",
      "   4 │ Depth           6.87333   0.0                      6.0                      51.1                            0  Float64\n",
      "   5 │ Magnitude       1.42857   0.01                     1.35                     7.5                             0  Float64\n",
      "   6 │ Magnitude_Type \u001b[90m          \u001b[0m b                       \u001b[90m                         \u001b[0m w                               0  String3\n",
      "   7 │ Quality        \u001b[90m          \u001b[0m A                       \u001b[90m                         \u001b[0m Z                               0  String1"
     ]
    },
    {
     "name": "stdout",
     "output_type": "stream",
     "text": [
      "\n"
     ]
    },
    {
     "data": {
      "text/html": [
       "<div><div style = \"float: left;\"><span>815746×7 DataFrame</span></div><div style = \"float: right;\"><span style = \"font-style: italic;\">815721 rows omitted</span></div><div style = \"clear: both;\"></div></div><div class = \"data-frame\" style = \"overflow-x: scroll;\"><table class = \"data-frame\" style = \"margin-bottom: 6px;\"><thead><tr class = \"header\"><th class = \"rowNumber\" style = \"font-weight: bold; text-align: right;\">Row</th><th style = \"text-align: left;\">Datetime</th><th style = \"text-align: left;\">Latitude</th><th style = \"text-align: left;\">Longitude</th><th style = \"text-align: left;\">Depth</th><th style = \"text-align: left;\">Magnitude</th><th style = \"text-align: left;\">Magnitude_Type</th><th style = \"text-align: left;\">Quality</th></tr><tr class = \"subheader headerLastRow\"><th class = \"rowNumber\" style = \"font-weight: bold; text-align: right;\"></th><th title = \"DateTime\" style = \"text-align: left;\">DateTime</th><th title = \"Float64\" style = \"text-align: left;\">Float64</th><th title = \"Float64\" style = \"text-align: left;\">Float64</th><th title = \"Float64\" style = \"text-align: left;\">Float64</th><th title = \"Float64\" style = \"text-align: left;\">Float64</th><th title = \"String3\" style = \"text-align: left;\">String3</th><th title = \"String1\" style = \"text-align: left;\">String1</th></tr></thead><tbody><tr><td class = \"rowNumber\" style = \"font-weight: bold; text-align: right;\">1</td><td style = \"text-align: left;\">1932-01-02T16:42:53.680</td><td style = \"text-align: right;\">33.903</td><td style = \"text-align: right;\">-117.645</td><td style = \"text-align: right;\">6.0</td><td style = \"text-align: right;\">2.73</td><td style = \"text-align: left;\">l</td><td style = \"text-align: left;\">C</td></tr><tr><td class = \"rowNumber\" style = \"font-weight: bold; text-align: right;\">2</td><td style = \"text-align: left;\">1932-01-03T17:58:50.010</td><td style = \"text-align: right;\">32.0</td><td style = \"text-align: right;\">-116.0</td><td style = \"text-align: right;\">6.0</td><td style = \"text-align: right;\">3.0</td><td style = \"text-align: left;\">h</td><td style = \"text-align: left;\">D</td></tr><tr><td class = \"rowNumber\" style = \"font-weight: bold; text-align: right;\">3</td><td style = \"text-align: left;\">1932-01-04T21:30:50.960</td><td style = \"text-align: right;\">33.771</td><td style = \"text-align: right;\">-117.494</td><td style = \"text-align: right;\">6.0</td><td style = \"text-align: right;\">2.0</td><td style = \"text-align: left;\">h</td><td style = \"text-align: left;\">C</td></tr><tr><td class = \"rowNumber\" style = \"font-weight: bold; text-align: right;\">4</td><td style = \"text-align: left;\">1932-01-05T02:37:57.960</td><td style = \"text-align: right;\">33.559</td><td style = \"text-align: right;\">-118.442</td><td style = \"text-align: right;\">6.0</td><td style = \"text-align: right;\">1.5</td><td style = \"text-align: left;\">h</td><td style = \"text-align: left;\">C</td></tr><tr><td class = \"rowNumber\" style = \"font-weight: bold; text-align: right;\">5</td><td style = \"text-align: left;\">1932-01-06T08:08:58.620</td><td style = \"text-align: right;\">34.143</td><td style = \"text-align: right;\">-117.475</td><td style = \"text-align: right;\">6.0</td><td style = \"text-align: right;\">2.0</td><td style = \"text-align: left;\">h</td><td style = \"text-align: left;\">C</td></tr><tr><td class = \"rowNumber\" style = \"font-weight: bold; text-align: right;\">6</td><td style = \"text-align: left;\">1932-01-07T02:29:52.370</td><td style = \"text-align: right;\">33.992</td><td style = \"text-align: right;\">-118.194</td><td style = \"text-align: right;\">6.0</td><td style = \"text-align: right;\">1.0</td><td style = \"text-align: left;\">h</td><td style = \"text-align: left;\">C</td></tr><tr><td class = \"rowNumber\" style = \"font-weight: bold; text-align: right;\">7</td><td style = \"text-align: left;\">1932-01-07T05:39:53.730</td><td style = \"text-align: right;\">34.094</td><td style = \"text-align: right;\">-117.263</td><td style = \"text-align: right;\">6.0</td><td style = \"text-align: right;\">1.0</td><td style = \"text-align: left;\">h</td><td style = \"text-align: left;\">C</td></tr><tr><td class = \"rowNumber\" style = \"font-weight: bold; text-align: right;\">8</td><td style = \"text-align: left;\">1932-01-07T14:55:53.920</td><td style = \"text-align: right;\">32.0</td><td style = \"text-align: right;\">-116.0</td><td style = \"text-align: right;\">6.0</td><td style = \"text-align: right;\">3.0</td><td style = \"text-align: left;\">h</td><td style = \"text-align: left;\">D</td></tr><tr><td class = \"rowNumber\" style = \"font-weight: bold; text-align: right;\">9</td><td style = \"text-align: left;\">1932-01-07T21:25:55.850</td><td style = \"text-align: right;\">34.775</td><td style = \"text-align: right;\">-118.814</td><td style = \"text-align: right;\">6.0</td><td style = \"text-align: right;\">2.0</td><td style = \"text-align: left;\">h</td><td style = \"text-align: left;\">D</td></tr><tr><td class = \"rowNumber\" style = \"font-weight: bold; text-align: right;\">10</td><td style = \"text-align: left;\">1932-01-10T10:44:54.530</td><td style = \"text-align: right;\">33.857</td><td style = \"text-align: right;\">-117.537</td><td style = \"text-align: right;\">6.0</td><td style = \"text-align: right;\">3.05</td><td style = \"text-align: left;\">h</td><td style = \"text-align: left;\">C</td></tr><tr><td class = \"rowNumber\" style = \"font-weight: bold; text-align: right;\">11</td><td style = \"text-align: left;\">1932-01-10T11:25:56.530</td><td style = \"text-align: right;\">34.15</td><td style = \"text-align: right;\">-117.515</td><td style = \"text-align: right;\">6.0</td><td style = \"text-align: right;\">2.0</td><td style = \"text-align: left;\">h</td><td style = \"text-align: left;\">C</td></tr><tr><td class = \"rowNumber\" style = \"font-weight: bold; text-align: right;\">12</td><td style = \"text-align: left;\">1932-01-10T15:39:59.570</td><td style = \"text-align: right;\">33.657</td><td style = \"text-align: right;\">-116.846</td><td style = \"text-align: right;\">6.0</td><td style = \"text-align: right;\">3.0</td><td style = \"text-align: left;\">h</td><td style = \"text-align: left;\">D</td></tr><tr><td class = \"rowNumber\" style = \"font-weight: bold; text-align: right;\">13</td><td style = \"text-align: left;\">1932-01-11T21:08:58.790</td><td style = \"text-align: right;\">33.985</td><td style = \"text-align: right;\">-117.673</td><td style = \"text-align: right;\">6.0</td><td style = \"text-align: right;\">2.5</td><td style = \"text-align: left;\">h</td><td style = \"text-align: left;\">C</td></tr><tr><td style = \"text-align: right;\">&vellip;</td><td style = \"text-align: right;\">&vellip;</td><td style = \"text-align: right;\">&vellip;</td><td style = \"text-align: right;\">&vellip;</td><td style = \"text-align: right;\">&vellip;</td><td style = \"text-align: right;\">&vellip;</td><td style = \"text-align: right;\">&vellip;</td><td style = \"text-align: right;\">&vellip;</td></tr><tr><td class = \"rowNumber\" style = \"font-weight: bold; text-align: right;\">815735</td><td style = \"text-align: left;\">2023-09-06T20:38:59.340</td><td style = \"text-align: right;\">34.213</td><td style = \"text-align: right;\">-117.918</td><td style = \"text-align: right;\">0.0</td><td style = \"text-align: right;\">0.5</td><td style = \"text-align: left;\">h</td><td style = \"text-align: left;\">D</td></tr><tr><td class = \"rowNumber\" style = \"font-weight: bold; text-align: right;\">815736</td><td style = \"text-align: left;\">2023-09-06T21:48:57.420</td><td style = \"text-align: right;\">33.395</td><td style = \"text-align: right;\">-116.848</td><td style = \"text-align: right;\">8.1</td><td style = \"text-align: right;\">0.68</td><td style = \"text-align: left;\">l</td><td style = \"text-align: left;\">A</td></tr><tr><td class = \"rowNumber\" style = \"font-weight: bold; text-align: right;\">815737</td><td style = \"text-align: left;\">2023-09-06T21:58:50.860</td><td style = \"text-align: right;\">34.371</td><td style = \"text-align: right;\">-119.388</td><td style = \"text-align: right;\">3.3</td><td style = \"text-align: right;\">1.4</td><td style = \"text-align: left;\">l</td><td style = \"text-align: left;\">A</td></tr><tr><td class = \"rowNumber\" style = \"font-weight: bold; text-align: right;\">815738</td><td style = \"text-align: left;\">2023-09-06T23:17:57.660</td><td style = \"text-align: right;\">33.429</td><td style = \"text-align: right;\">-116.427</td><td style = \"text-align: right;\">11.9</td><td style = \"text-align: right;\">0.69</td><td style = \"text-align: left;\">l</td><td style = \"text-align: left;\">A</td></tr><tr><td class = \"rowNumber\" style = \"font-weight: bold; text-align: right;\">815739</td><td style = \"text-align: left;\">2023-09-06T23:18:54.430</td><td style = \"text-align: right;\">33.429</td><td style = \"text-align: right;\">-116.428</td><td style = \"text-align: right;\">11.5</td><td style = \"text-align: right;\">0.72</td><td style = \"text-align: left;\">l</td><td style = \"text-align: left;\">A</td></tr><tr><td class = \"rowNumber\" style = \"font-weight: bold; text-align: right;\">815740</td><td style = \"text-align: left;\">2023-09-06T23:18:54.720</td><td style = \"text-align: right;\">33.433</td><td style = \"text-align: right;\">-116.428</td><td style = \"text-align: right;\">12.7</td><td style = \"text-align: right;\">0.69</td><td style = \"text-align: left;\">l</td><td style = \"text-align: left;\">A</td></tr><tr><td class = \"rowNumber\" style = \"font-weight: bold; text-align: right;\">815741</td><td style = \"text-align: left;\">2023-09-07T00:47:53.790</td><td style = \"text-align: right;\">33.489</td><td style = \"text-align: right;\">-116.588</td><td style = \"text-align: right;\">9.2</td><td style = \"text-align: right;\">0.44</td><td style = \"text-align: left;\">l</td><td style = \"text-align: left;\">A</td></tr><tr><td class = \"rowNumber\" style = \"font-weight: bold; text-align: right;\">815742</td><td style = \"text-align: left;\">2023-09-07T02:23:56.950</td><td style = \"text-align: right;\">34.411</td><td style = \"text-align: right;\">-119.19</td><td style = \"text-align: right;\">2.2</td><td style = \"text-align: right;\">1.48</td><td style = \"text-align: left;\">l</td><td style = \"text-align: left;\">A</td></tr><tr><td class = \"rowNumber\" style = \"font-weight: bold; text-align: right;\">815743</td><td style = \"text-align: left;\">2023-09-07T03:11:58.590</td><td style = \"text-align: right;\">35.665</td><td style = \"text-align: right;\">-117.563</td><td style = \"text-align: right;\">6.7</td><td style = \"text-align: right;\">1.62</td><td style = \"text-align: left;\">l</td><td style = \"text-align: left;\">A</td></tr><tr><td class = \"rowNumber\" style = \"font-weight: bold; text-align: right;\">815744</td><td style = \"text-align: left;\">2023-09-07T03:37:53.290</td><td style = \"text-align: right;\">33.056</td><td style = \"text-align: right;\">-116.416</td><td style = \"text-align: right;\">13.0</td><td style = \"text-align: right;\">0.8</td><td style = \"text-align: left;\">l</td><td style = \"text-align: left;\">A</td></tr><tr><td class = \"rowNumber\" style = \"font-weight: bold; text-align: right;\">815745</td><td style = \"text-align: left;\">2023-09-07T06:22:59.860</td><td style = \"text-align: right;\">35.888</td><td style = \"text-align: right;\">-117.698</td><td style = \"text-align: right;\">5.2</td><td style = \"text-align: right;\">0.85</td><td style = \"text-align: left;\">l</td><td style = \"text-align: left;\">A</td></tr><tr><td class = \"rowNumber\" style = \"font-weight: bold; text-align: right;\">815746</td><td style = \"text-align: left;\">2023-09-07T07:21:53.640</td><td style = \"text-align: right;\">33.932</td><td style = \"text-align: right;\">-116.81</td><td style = \"text-align: right;\">18.0</td><td style = \"text-align: right;\">1.36</td><td style = \"text-align: left;\">l</td><td style = \"text-align: left;\">A</td></tr></tbody></table></div>"
      ],
      "text/latex": [
       "\\begin{tabular}{r|ccccccc}\n",
       "\t& Datetime & Latitude & Longitude & Depth & Magnitude & Magnitude\\_Type & \\\\\n",
       "\t\\hline\n",
       "\t& DateTime & Float64 & Float64 & Float64 & Float64 & String3 & \\\\\n",
       "\t\\hline\n",
       "\t1 & 1932-01-02T16:42:53.680 & 33.903 & -117.645 & 6.0 & 2.73 & l & $\\dots$ \\\\\n",
       "\t2 & 1932-01-03T17:58:50.010 & 32.0 & -116.0 & 6.0 & 3.0 & h & $\\dots$ \\\\\n",
       "\t3 & 1932-01-04T21:30:50.960 & 33.771 & -117.494 & 6.0 & 2.0 & h & $\\dots$ \\\\\n",
       "\t4 & 1932-01-05T02:37:57.960 & 33.559 & -118.442 & 6.0 & 1.5 & h & $\\dots$ \\\\\n",
       "\t5 & 1932-01-06T08:08:58.620 & 34.143 & -117.475 & 6.0 & 2.0 & h & $\\dots$ \\\\\n",
       "\t6 & 1932-01-07T02:29:52.370 & 33.992 & -118.194 & 6.0 & 1.0 & h & $\\dots$ \\\\\n",
       "\t7 & 1932-01-07T05:39:53.730 & 34.094 & -117.263 & 6.0 & 1.0 & h & $\\dots$ \\\\\n",
       "\t8 & 1932-01-07T14:55:53.920 & 32.0 & -116.0 & 6.0 & 3.0 & h & $\\dots$ \\\\\n",
       "\t9 & 1932-01-07T21:25:55.850 & 34.775 & -118.814 & 6.0 & 2.0 & h & $\\dots$ \\\\\n",
       "\t10 & 1932-01-10T10:44:54.530 & 33.857 & -117.537 & 6.0 & 3.05 & h & $\\dots$ \\\\\n",
       "\t11 & 1932-01-10T11:25:56.530 & 34.15 & -117.515 & 6.0 & 2.0 & h & $\\dots$ \\\\\n",
       "\t12 & 1932-01-10T15:39:59.570 & 33.657 & -116.846 & 6.0 & 3.0 & h & $\\dots$ \\\\\n",
       "\t13 & 1932-01-11T21:08:58.790 & 33.985 & -117.673 & 6.0 & 2.5 & h & $\\dots$ \\\\\n",
       "\t14 & 1932-01-14T00:51:55.310 & 34.162 & -119.878 & 6.0 & 3.0 & h & $\\dots$ \\\\\n",
       "\t15 & 1932-01-14T03:16:51.460 & 36.545 & -118.046 & 6.0 & 3.23 & l & $\\dots$ \\\\\n",
       "\t16 & 1932-01-14T08:55:58.010 & 34.057 & -118.597 & 6.0 & 3.0 & h & $\\dots$ \\\\\n",
       "\t17 & 1932-01-14T19:35:51.600 & 33.88 & -118.094 & 6.0 & 3.0 & h & $\\dots$ \\\\\n",
       "\t18 & 1932-01-16T12:17:52.420 & 33.946 & -117.614 & 6.0 & 2.0 & h & $\\dots$ \\\\\n",
       "\t19 & 1932-01-17T20:06:57.250 & 33.891 & -117.294 & 6.0 & 2.74 & l & $\\dots$ \\\\\n",
       "\t20 & 1932-01-18T04:29:57.170 & 33.77 & -118.797 & 6.0 & 2.0 & h & $\\dots$ \\\\\n",
       "\t21 & 1932-01-20T16:29:54.880 & 33.434 & -118.248 & 6.0 & 2.89 & h & $\\dots$ \\\\\n",
       "\t22 & 1932-01-20T20:21:58.360 & 33.47 & -118.3 & 6.0 & 3.5 & h & $\\dots$ \\\\\n",
       "\t23 & 1932-01-21T03:05:54.860 & 34.025 & -117.392 & 21.9 & 1.5 & h & $\\dots$ \\\\\n",
       "\t24 & 1932-01-21T03:07:56.900 & 34.086 & -117.426 & 15.2 & 3.0 & h & $\\dots$ \\\\\n",
       "\t$\\dots$ & $\\dots$ & $\\dots$ & $\\dots$ & $\\dots$ & $\\dots$ & $\\dots$ &  \\\\\n",
       "\\end{tabular}\n"
      ],
      "text/plain": [
       "\u001b[1m815746×7 DataFrame\u001b[0m\n",
       "\u001b[1m    Row \u001b[0m│\u001b[1m Datetime                \u001b[0m\u001b[1m Latitude \u001b[0m\u001b[1m Longitude \u001b[0m\u001b[1m Depth   \u001b[0m\u001b[1m Magnitude \u001b[0m\u001b[1m Ma\u001b[0m ⋯\n",
       "        │\u001b[90m DateTime                \u001b[0m\u001b[90m Float64  \u001b[0m\u001b[90m Float64   \u001b[0m\u001b[90m Float64 \u001b[0m\u001b[90m Float64   \u001b[0m\u001b[90m St\u001b[0m ⋯\n",
       "────────┼───────────────────────────────────────────────────────────────────────\n",
       "      1 │ 1932-01-02T16:42:53.680    33.903   -117.645      6.0       2.73  l  ⋯\n",
       "      2 │ 1932-01-03T17:58:50.010    32.0     -116.0        6.0       3.0   h\n",
       "      3 │ 1932-01-04T21:30:50.960    33.771   -117.494      6.0       2.0   h\n",
       "      4 │ 1932-01-05T02:37:57.960    33.559   -118.442      6.0       1.5   h\n",
       "      5 │ 1932-01-06T08:08:58.620    34.143   -117.475      6.0       2.0   h  ⋯\n",
       "      6 │ 1932-01-07T02:29:52.370    33.992   -118.194      6.0       1.0   h\n",
       "      7 │ 1932-01-07T05:39:53.730    34.094   -117.263      6.0       1.0   h\n",
       "      8 │ 1932-01-07T14:55:53.920    32.0     -116.0        6.0       3.0   h\n",
       "   ⋮    │            ⋮                ⋮          ⋮         ⋮         ⋮         ⋱\n",
       " 815740 │ 2023-09-06T23:18:54.720    33.433   -116.428     12.7       0.69  l  ⋯\n",
       " 815741 │ 2023-09-07T00:47:53.790    33.489   -116.588      9.2       0.44  l\n",
       " 815742 │ 2023-09-07T02:23:56.950    34.411   -119.19       2.2       1.48  l\n",
       " 815743 │ 2023-09-07T03:11:58.590    35.665   -117.563      6.7       1.62  l\n",
       " 815744 │ 2023-09-07T03:37:53.290    33.056   -116.416     13.0       0.8   l  ⋯\n",
       " 815745 │ 2023-09-07T06:22:59.860    35.888   -117.698      5.2       0.85  l\n",
       " 815746 │ 2023-09-07T07:21:53.640    33.932   -116.81      18.0       1.36  l\n",
       "\u001b[36m                                               2 columns and 815731 rows omitted\u001b[0m"
      ]
     },
     "metadata": {},
     "output_type": "display_data"
    }
   ],
   "source": [
    "df = load_data(region, catalog)"
   ]
  },
  {
   "cell_type": "code",
   "execution_count": 4,
   "metadata": {},
   "outputs": [
    {
     "data": {
      "image/png": "[encoded data removed]"
     },
     "metadata": {},
     "output_type": "display_data"
    }
   ],
   "source": [
    "events_histogram_fig = events_histogram(df, region)"
   ]
  },
  {
   "cell_type": "code",
   "execution_count": 5,
   "metadata": {},
   "outputs": [
    {
     "data": {
      "text/html": [
       "<div><div style = \"float: left;\"><span>792415×7 DataFrame</span></div><div style = \"float: right;\"><span style = \"font-style: italic;\">792390 rows omitted</span></div><div style = \"clear: both;\"></div></div><div class = \"data-frame\" style = \"overflow-x: scroll;\"><table class = \"data-frame\" style = \"margin-bottom: 6px;\"><thead><tr class = \"header\"><th class = \"rowNumber\" style = \"font-weight: bold; text-align: right;\">Row</th><th style = \"text-align: left;\">Datetime</th><th style = \"text-align: left;\">Latitude</th><th style = \"text-align: left;\">Longitude</th><th style = \"text-align: left;\">Depth</th><th style = \"text-align: left;\">Magnitude</th><th style = \"text-align: left;\">Magnitude_Type</th><th style = \"text-align: left;\">Quality</th></tr><tr class = \"subheader headerLastRow\"><th class = \"rowNumber\" style = \"font-weight: bold; text-align: right;\"></th><th title = \"DateTime\" style = \"text-align: left;\">DateTime</th><th title = \"Float64\" style = \"text-align: left;\">Float64</th><th title = \"Float64\" style = \"text-align: left;\">Float64</th><th title = \"Float64\" style = \"text-align: left;\">Float64</th><th title = \"Float64\" style = \"text-align: left;\">Float64</th><th title = \"String3\" style = \"text-align: left;\">String3</th><th title = \"String1\" style = \"text-align: left;\">String1</th></tr></thead><tbody><tr><td class = \"rowNumber\" style = \"font-weight: bold; text-align: right;\">1</td><td style = \"text-align: left;\">1977-01-01T01:00:51.800</td><td style = \"text-align: right;\">34.458</td><td style = \"text-align: right;\">-117.96</td><td style = \"text-align: right;\">4.3</td><td style = \"text-align: right;\">2.93</td><td style = \"text-align: left;\">l</td><td style = \"text-align: left;\">A</td></tr><tr><td class = \"rowNumber\" style = \"font-weight: bold; text-align: right;\">2</td><td style = \"text-align: left;\">1977-01-01T01:25:53.910</td><td style = \"text-align: right;\">34.363</td><td style = \"text-align: right;\">-118.674</td><td style = \"text-align: right;\">19.0</td><td style = \"text-align: right;\">1.5</td><td style = \"text-align: left;\">h</td><td style = \"text-align: left;\">C</td></tr><tr><td class = \"rowNumber\" style = \"font-weight: bold; text-align: right;\">3</td><td style = \"text-align: left;\">1977-01-01T04:39:53.120</td><td style = \"text-align: right;\">32.809</td><td style = \"text-align: right;\">-115.503</td><td style = \"text-align: right;\">6.8</td><td style = \"text-align: right;\">1.6</td><td style = \"text-align: left;\">h</td><td style = \"text-align: left;\">C</td></tr><tr><td class = \"rowNumber\" style = \"font-weight: bold; text-align: right;\">4</td><td style = \"text-align: left;\">1977-01-01T10:36:57.610</td><td style = \"text-align: right;\">34.143</td><td style = \"text-align: right;\">-117.455</td><td style = \"text-align: right;\">0.0</td><td style = \"text-align: right;\">1.99</td><td style = \"text-align: left;\">h</td><td style = \"text-align: left;\">A</td></tr><tr><td class = \"rowNumber\" style = \"font-weight: bold; text-align: right;\">5</td><td style = \"text-align: left;\">1977-01-01T12:08:59.700</td><td style = \"text-align: right;\">35.271</td><td style = \"text-align: right;\">-118.604</td><td style = \"text-align: right;\">4.8</td><td style = \"text-align: right;\">1.8</td><td style = \"text-align: left;\">h</td><td style = \"text-align: left;\">B</td></tr><tr><td class = \"rowNumber\" style = \"font-weight: bold; text-align: right;\">6</td><td style = \"text-align: left;\">1977-01-01T15:40:52.570</td><td style = \"text-align: right;\">32.462</td><td style = \"text-align: right;\">-115.394</td><td style = \"text-align: right;\">6.0</td><td style = \"text-align: right;\">2.0</td><td style = \"text-align: left;\">h</td><td style = \"text-align: left;\">C</td></tr><tr><td class = \"rowNumber\" style = \"font-weight: bold; text-align: right;\">7</td><td style = \"text-align: left;\">1977-01-01T19:21:50.100</td><td style = \"text-align: right;\">33.014</td><td style = \"text-align: right;\">-116.297</td><td style = \"text-align: right;\">7.0</td><td style = \"text-align: right;\">1.9</td><td style = \"text-align: left;\">h</td><td style = \"text-align: left;\">C</td></tr><tr><td class = \"rowNumber\" style = \"font-weight: bold; text-align: right;\">8</td><td style = \"text-align: left;\">1977-01-01T20:22:52.200</td><td style = \"text-align: right;\">34.051</td><td style = \"text-align: right;\">-116.536</td><td style = \"text-align: right;\">0.7</td><td style = \"text-align: right;\">2.02</td><td style = \"text-align: left;\">h</td><td style = \"text-align: left;\">A</td></tr><tr><td class = \"rowNumber\" style = \"font-weight: bold; text-align: right;\">9</td><td style = \"text-align: left;\">1977-01-01T20:31:59.250</td><td style = \"text-align: right;\">34.052</td><td style = \"text-align: right;\">-116.531</td><td style = \"text-align: right;\">4.0</td><td style = \"text-align: right;\">2.0</td><td style = \"text-align: left;\">h</td><td style = \"text-align: left;\">A</td></tr><tr><td class = \"rowNumber\" style = \"font-weight: bold; text-align: right;\">10</td><td style = \"text-align: left;\">1977-01-01T20:43:56.230</td><td style = \"text-align: right;\">32.5</td><td style = \"text-align: right;\">-115.425</td><td style = \"text-align: right;\">2.5</td><td style = \"text-align: right;\">2.58</td><td style = \"text-align: left;\">l</td><td style = \"text-align: left;\">C</td></tr><tr><td class = \"rowNumber\" style = \"font-weight: bold; text-align: right;\">11</td><td style = \"text-align: left;\">1977-01-02T03:15:54.310</td><td style = \"text-align: right;\">33.854</td><td style = \"text-align: right;\">-116.547</td><td style = \"text-align: right;\">9.5</td><td style = \"text-align: right;\">1.8</td><td style = \"text-align: left;\">h</td><td style = \"text-align: left;\">A</td></tr><tr><td class = \"rowNumber\" style = \"font-weight: bold; text-align: right;\">12</td><td style = \"text-align: left;\">1977-01-02T06:41:51.450</td><td style = \"text-align: right;\">33.675</td><td style = \"text-align: right;\">-116.725</td><td style = \"text-align: right;\">14.6</td><td style = \"text-align: right;\">1.8</td><td style = \"text-align: left;\">h</td><td style = \"text-align: left;\">A</td></tr><tr><td class = \"rowNumber\" style = \"font-weight: bold; text-align: right;\">13</td><td style = \"text-align: left;\">1977-01-02T09:04:55.160</td><td style = \"text-align: right;\">33.469</td><td style = \"text-align: right;\">-116.493</td><td style = \"text-align: right;\">5.7</td><td style = \"text-align: right;\">2.16</td><td style = \"text-align: left;\">l</td><td style = \"text-align: left;\">A</td></tr><tr><td style = \"text-align: right;\">&vellip;</td><td style = \"text-align: right;\">&vellip;</td><td style = \"text-align: right;\">&vellip;</td><td style = \"text-align: right;\">&vellip;</td><td style = \"text-align: right;\">&vellip;</td><td style = \"text-align: right;\">&vellip;</td><td style = \"text-align: right;\">&vellip;</td><td style = \"text-align: right;\">&vellip;</td></tr><tr><td class = \"rowNumber\" style = \"font-weight: bold; text-align: right;\">792404</td><td style = \"text-align: left;\">2023-09-06T20:38:59.340</td><td style = \"text-align: right;\">34.213</td><td style = \"text-align: right;\">-117.918</td><td style = \"text-align: right;\">0.0</td><td style = \"text-align: right;\">0.5</td><td style = \"text-align: left;\">h</td><td style = \"text-align: left;\">D</td></tr><tr><td class = \"rowNumber\" style = \"font-weight: bold; text-align: right;\">792405</td><td style = \"text-align: left;\">2023-09-06T21:48:57.420</td><td style = \"text-align: right;\">33.395</td><td style = \"text-align: right;\">-116.848</td><td style = \"text-align: right;\">8.1</td><td style = \"text-align: right;\">0.68</td><td style = \"text-align: left;\">l</td><td style = \"text-align: left;\">A</td></tr><tr><td class = \"rowNumber\" style = \"font-weight: bold; text-align: right;\">792406</td><td style = \"text-align: left;\">2023-09-06T21:58:50.860</td><td style = \"text-align: right;\">34.371</td><td style = \"text-align: right;\">-119.388</td><td style = \"text-align: right;\">3.3</td><td style = \"text-align: right;\">1.4</td><td style = \"text-align: left;\">l</td><td style = \"text-align: left;\">A</td></tr><tr><td class = \"rowNumber\" style = \"font-weight: bold; text-align: right;\">792407</td><td style = \"text-align: left;\">2023-09-06T23:17:57.660</td><td style = \"text-align: right;\">33.429</td><td style = \"text-align: right;\">-116.427</td><td style = \"text-align: right;\">11.9</td><td style = \"text-align: right;\">0.69</td><td style = \"text-align: left;\">l</td><td style = \"text-align: left;\">A</td></tr><tr><td class = \"rowNumber\" style = \"font-weight: bold; text-align: right;\">792408</td><td style = \"text-align: left;\">2023-09-06T23:18:54.430</td><td style = \"text-align: right;\">33.429</td><td style = \"text-align: right;\">-116.428</td><td style = \"text-align: right;\">11.5</td><td style = \"text-align: right;\">0.72</td><td style = \"text-align: left;\">l</td><td style = \"text-align: left;\">A</td></tr><tr><td class = \"rowNumber\" style = \"font-weight: bold; text-align: right;\">792409</td><td style = \"text-align: left;\">2023-09-06T23:18:54.720</td><td style = \"text-align: right;\">33.433</td><td style = \"text-align: right;\">-116.428</td><td style = \"text-align: right;\">12.7</td><td style = \"text-align: right;\">0.69</td><td style = \"text-align: left;\">l</td><td style = \"text-align: left;\">A</td></tr><tr><td class = \"rowNumber\" style = \"font-weight: bold; text-align: right;\">792410</td><td style = \"text-align: left;\">2023-09-07T00:47:53.790</td><td style = \"text-align: right;\">33.489</td><td style = \"text-align: right;\">-116.588</td><td style = \"text-align: right;\">9.2</td><td style = \"text-align: right;\">0.44</td><td style = \"text-align: left;\">l</td><td style = \"text-align: left;\">A</td></tr><tr><td class = \"rowNumber\" style = \"font-weight: bold; text-align: right;\">792411</td><td style = \"text-align: left;\">2023-09-07T02:23:56.950</td><td style = \"text-align: right;\">34.411</td><td style = \"text-align: right;\">-119.19</td><td style = \"text-align: right;\">2.2</td><td style = \"text-align: right;\">1.48</td><td style = \"text-align: left;\">l</td><td style = \"text-align: left;\">A</td></tr><tr><td class = \"rowNumber\" style = \"font-weight: bold; text-align: right;\">792412</td><td style = \"text-align: left;\">2023-09-07T03:11:58.590</td><td style = \"text-align: right;\">35.665</td><td style = \"text-align: right;\">-117.563</td><td style = \"text-align: right;\">6.7</td><td style = \"text-align: right;\">1.62</td><td style = \"text-align: left;\">l</td><td style = \"text-align: left;\">A</td></tr><tr><td class = \"rowNumber\" style = \"font-weight: bold; text-align: right;\">792413</td><td style = \"text-align: left;\">2023-09-07T03:37:53.290</td><td style = \"text-align: right;\">33.056</td><td style = \"text-align: right;\">-116.416</td><td style = \"text-align: right;\">13.0</td><td style = \"text-align: right;\">0.8</td><td style = \"text-align: left;\">l</td><td style = \"text-align: left;\">A</td></tr><tr><td class = \"rowNumber\" style = \"font-weight: bold; text-align: right;\">792414</td><td style = \"text-align: left;\">2023-09-07T06:22:59.860</td><td style = \"text-align: right;\">35.888</td><td style = \"text-align: right;\">-117.698</td><td style = \"text-align: right;\">5.2</td><td style = \"text-align: right;\">0.85</td><td style = \"text-align: left;\">l</td><td style = \"text-align: left;\">A</td></tr><tr><td class = \"rowNumber\" style = \"font-weight: bold; text-align: right;\">792415</td><td style = \"text-align: left;\">2023-09-07T07:21:53.640</td><td style = \"text-align: right;\">33.932</td><td style = \"text-align: right;\">-116.81</td><td style = \"text-align: right;\">18.0</td><td style = \"text-align: right;\">1.36</td><td style = \"text-align: left;\">l</td><td style = \"text-align: left;\">A</td></tr></tbody></table></div>"
      ],
      "text/latex": [
       "\\begin{tabular}{r|ccccccc}\n",
       "\t& Datetime & Latitude & Longitude & Depth & Magnitude & Magnitude\\_Type & \\\\\n",
       "\t\\hline\n",
       "\t& DateTime & Float64 & Float64 & Float64 & Float64 & String3 & \\\\\n",
       "\t\\hline\n",
       "\t1 & 1977-01-01T01:00:51.800 & 34.458 & -117.96 & 4.3 & 2.93 & l & $\\dots$ \\\\\n",
       "\t2 & 1977-01-01T01:25:53.910 & 34.363 & -118.674 & 19.0 & 1.5 & h & $\\dots$ \\\\\n",
       "\t3 & 1977-01-01T04:39:53.120 & 32.809 & -115.503 & 6.8 & 1.6 & h & $\\dots$ \\\\\n",
       "\t4 & 1977-01-01T10:36:57.610 & 34.143 & -117.455 & 0.0 & 1.99 & h & $\\dots$ \\\\\n",
       "\t5 & 1977-01-01T12:08:59.700 & 35.271 & -118.604 & 4.8 & 1.8 & h & $\\dots$ \\\\\n",
       "\t6 & 1977-01-01T15:40:52.570 & 32.462 & -115.394 & 6.0 & 2.0 & h & $\\dots$ \\\\\n",
       "\t7 & 1977-01-01T19:21:50.100 & 33.014 & -116.297 & 7.0 & 1.9 & h & $\\dots$ \\\\\n",
       "\t8 & 1977-01-01T20:22:52.200 & 34.051 & -116.536 & 0.7 & 2.02 & h & $\\dots$ \\\\\n",
       "\t9 & 1977-01-01T20:31:59.250 & 34.052 & -116.531 & 4.0 & 2.0 & h & $\\dots$ \\\\\n",
       "\t10 & 1977-01-01T20:43:56.230 & 32.5 & -115.425 & 2.5 & 2.58 & l & $\\dots$ \\\\\n",
       "\t11 & 1977-01-02T03:15:54.310 & 33.854 & -116.547 & 9.5 & 1.8 & h & $\\dots$ \\\\\n",
       "\t12 & 1977-01-02T06:41:51.450 & 33.675 & -116.725 & 14.6 & 1.8 & h & $\\dots$ \\\\\n",
       "\t13 & 1977-01-02T09:04:55.160 & 33.469 & -116.493 & 5.7 & 2.16 & l & $\\dots$ \\\\\n",
       "\t14 & 1977-01-02T09:20:54.590 & 32.913 & -116.251 & 2.2 & 1.6 & h & $\\dots$ \\\\\n",
       "\t15 & 1977-01-02T12:19:57.600 & 34.923 & -119.106 & 11.7 & 1.8 & h & $\\dots$ \\\\\n",
       "\t16 & 1977-01-03T03:32:57.040 & 34.975 & -116.827 & 6.0 & 1.97 & h & $\\dots$ \\\\\n",
       "\t17 & 1977-01-03T05:14:57.230 & 34.309 & -118.556 & 12.0 & 1.6 & h & $\\dots$ \\\\\n",
       "\t18 & 1977-01-03T12:33:55.130 & 32.936 & -116.238 & 9.3 & 1.8 & h & $\\dots$ \\\\\n",
       "\t19 & 1977-01-03T18:55:58.760 & 33.13 & -115.695 & 1.1 & 2.0 & h & $\\dots$ \\\\\n",
       "\t20 & 1977-01-03T19:01:57.410 & 33.168 & -115.656 & 4.4 & 2.19 & h & $\\dots$ \\\\\n",
       "\t21 & 1977-01-03T19:55:58.550 & 33.7 & -116.749 & 15.9 & 1.7 & h & $\\dots$ \\\\\n",
       "\t22 & 1977-01-03T21:49:50.400 & 35.304 & -118.469 & 4.8 & 2.5 & l & $\\dots$ \\\\\n",
       "\t23 & 1977-01-04T06:31:54.710 & 33.96 & -116.672 & 18.8 & 1.8 & h & $\\dots$ \\\\\n",
       "\t24 & 1977-01-04T07:38:58.120 & 33.937 & -118.694 & 11.1 & 1.5 & h & $\\dots$ \\\\\n",
       "\t$\\dots$ & $\\dots$ & $\\dots$ & $\\dots$ & $\\dots$ & $\\dots$ & $\\dots$ &  \\\\\n",
       "\\end{tabular}\n"
      ],
      "text/plain": [
       "\u001b[1m792415×7 DataFrame\u001b[0m\n",
       "\u001b[1m    Row \u001b[0m│\u001b[1m Datetime                \u001b[0m\u001b[1m Latitude \u001b[0m\u001b[1m Longitude \u001b[0m\u001b[1m Depth   \u001b[0m\u001b[1m Magnitude \u001b[0m\u001b[1m Ma\u001b[0m ⋯\n",
       "        │\u001b[90m DateTime                \u001b[0m\u001b[90m Float64  \u001b[0m\u001b[90m Float64   \u001b[0m\u001b[90m Float64 \u001b[0m\u001b[90m Float64   \u001b[0m\u001b[90m St\u001b[0m ⋯\n",
       "────────┼───────────────────────────────────────────────────────────────────────\n",
       "      1 │ 1977-01-01T01:00:51.800    34.458   -117.96       4.3       2.93  l  ⋯\n",
       "      2 │ 1977-01-01T01:25:53.910    34.363   -118.674     19.0       1.5   h\n",
       "      3 │ 1977-01-01T04:39:53.120    32.809   -115.503      6.8       1.6   h\n",
       "      4 │ 1977-01-01T10:36:57.610    34.143   -117.455      0.0       1.99  h\n",
       "      5 │ 1977-01-01T12:08:59.700    35.271   -118.604      4.8       1.8   h  ⋯\n",
       "      6 │ 1977-01-01T15:40:52.570    32.462   -115.394      6.0       2.0   h\n",
       "      7 │ 1977-01-01T19:21:50.100    33.014   -116.297      7.0       1.9   h\n",
       "      8 │ 1977-01-01T20:22:52.200    34.051   -116.536      0.7       2.02  h\n",
       "   ⋮    │            ⋮                ⋮          ⋮         ⋮         ⋮         ⋱\n",
       " 792409 │ 2023-09-06T23:18:54.720    33.433   -116.428     12.7       0.69  l  ⋯\n",
       " 792410 │ 2023-09-07T00:47:53.790    33.489   -116.588      9.2       0.44  l\n",
       " 792411 │ 2023-09-07T02:23:56.950    34.411   -119.19       2.2       1.48  l\n",
       " 792412 │ 2023-09-07T03:11:58.590    35.665   -117.563      6.7       1.62  l\n",
       " 792413 │ 2023-09-07T03:37:53.290    33.056   -116.416     13.0       0.8   l  ⋯\n",
       " 792414 │ 2023-09-07T06:22:59.860    35.888   -117.698      5.2       0.85  l\n",
       " 792415 │ 2023-09-07T07:21:53.640    33.932   -116.81      18.0       1.36  l\n",
       "\u001b[36m                                               2 columns and 792400 rows omitted\u001b[0m"
      ]
     },
     "metadata": {},
     "output_type": "display_data"
    }
   ],
   "source": [
    "trim_year = 1932\n",
    "explore_trim_year = 1977\n",
    "\n",
    "df_trimmed = explore_timespan(df, region, trim_year, explore_trim_year; magnitude_threshold=0.0)"
   ]
  },
  {
   "cell_type": "code",
   "execution_count": 6,
   "metadata": {},
   "outputs": [],
   "source": []
  },
  {
   "cell_type": "code",
   "execution_count": 7,
   "metadata": {},
   "outputs": [
    {
     "ename": "TypeError",
     "evalue": "TypeError: non-boolean (Vector{Any}) used in boolean context",
     "output_type": "error",
     "traceback": [
      "TypeError: non-boolean (Vector{Any}) used in boolean context\n",
      "\n",
      "Stacktrace:\n",
      " [1] magtype_boxplot(df::DataFrame, region::String; mag_type_descriptions::Vector{Any})\n",
      "   @ Main /media/gabipana/work/Work/PROJECTS/seismic-networks/seismic-exploratory-data-analysis/src/eda.jl:119\n",
      " [2] top-level scope\n",
      "   @ /media/gabipana/work/Work/PROJECTS/seismic-networks/seismic-exploratory-data-analysis/eda_scedc.ipynb:2"
     ]
    }
   ],
   "source": [
    "if \"Magnitude_Type\" in names(df)\n",
    "    df_mag_type_count = magtype_boxplot(df, region, mag_type_descriptions=[])\n",
    "end\n",
    "\n",
    "if \"Quality\" in names(df)\n",
    "    df_quality_count = quality_boxplot(df, region)\n",
    "end"
   ]
  },
  {
   "cell_type": "code",
   "execution_count": 8,
   "metadata": {},
   "outputs": [],
   "source": []
  },
  {
   "cell_type": "code",
   "execution_count": 9,
   "metadata": {},
   "outputs": [],
   "source": [
    "# Write to CSV\n",
    "# CSV.write(\"./data/$(region).csv\", df_trimmed)"
   ]
  }
 ],
 "metadata": {
  "kernelspec": {
   "display_name": "Julia 1.8.5",
   "language": "julia",
   "name": "julia-1.8"
  },
  "language_info": {
   "file_extension": ".jl",
   "mimetype": "application/julia",
   "name": "julia",
   "version": "1.8.5"
  },
  "orig_nbformat": 4
 },
 "nbformat": 4,
 "nbformat_minor": 2
}
