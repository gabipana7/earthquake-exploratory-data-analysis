{
 "cells": [
  {
   "cell_type": "code",
   "execution_count": 1,
   "metadata": {},
   "outputs": [
    {
     "ename": "LoadError",
     "evalue": "LoadError: ArgumentError: Package StatsPlots not found in current path.\n- Run `import Pkg; Pkg.add(\"StatsPlots\")` to install the StatsPlots package.\nin expression starting at /home/anicolin/projects/earthquake-networks/earthquake-exploratory-data-analysis/src/eda.jl:3",
     "output_type": "error",
     "traceback": [
      "LoadError: ArgumentError: Package StatsPlots not found in current path.\n",
      "- Run `import Pkg; Pkg.add(\"StatsPlots\")` to install the StatsPlots package.\n",
      "in expression starting at /home/anicolin/projects/earthquake-networks/earthquake-exploratory-data-analysis/src/eda.jl:3\n",
      "\n",
      "Stacktrace:\n",
      " [1] macro expansion\n",
      "   @ ./loading.jl:1630 [inlined]\n",
      " [2] macro expansion\n",
      "   @ ./lock.jl:267 [inlined]\n",
      " [3] require(into::Module, mod::Symbol)\n",
      "   @ Base ./loading.jl:1611\n",
      " [4] include(fname::String)\n",
      "   @ Base.MainInclude ./client.jl:478\n",
      " [5] top-level scope\n",
      "   @ ~/projects/earthquake-networks/earthquake-exploratory-data-analysis/eda_scedc.ipynb:1"
     ]
    }
   ],
   "source": [
    "include(\"./src/eda.jl\")"
   ]
  },
  {
   "cell_type": "code",
   "execution_count": 2,
   "metadata": {},
   "outputs": [
    {
     "data": {
      "text/plain": [
       "\"scedc\""
      ]
     },
     "metadata": {},
     "output_type": "display_data"
    }
   ],
   "source": [
    "region = \"California\"\n",
    "catalog = \"scedc\""
   ]
  },
  {
   "cell_type": "code",
   "execution_count": 3,
   "metadata": {},
   "outputs": [
    {
     "ename": "UndefVarError",
     "evalue": "UndefVarError: `load_data` not defined",
     "output_type": "error",
     "traceback": [
      "UndefVarError: `load_data` not defined\n",
      "\n",
      "Stacktrace:\n",
      " [1] top-level scope\n",
      "   @ ~/projects/earthquake-networks/earthquake-exploratory-data-analysis/eda_scedc.ipynb:1"
     ]
    }
   ],
   "source": [
    "df = load_data(region, catalog)"
   ]
  },
  {
   "cell_type": "code",
   "execution_count": 4,
   "metadata": {},
   "outputs": [
    {
     "ename": "UndefVarError",
     "evalue": "UndefVarError: `events_histogram` not defined",
     "output_type": "error",
     "traceback": [
      "UndefVarError: `events_histogram` not defined\n",
      "\n",
      "Stacktrace:\n",
      " [1] top-level scope\n",
      "   @ ~/projects/earthquake-networks/earthquake-exploratory-data-analysis/eda_scedc.ipynb:1"
     ]
    }
   ],
   "source": [
    "events_histogram_fig = events_histogram(df, region)"
   ]
  },
  {
   "cell_type": "code",
   "execution_count": 5,
   "metadata": {},
   "outputs": [
    {
     "ename": "UndefVarError",
     "evalue": "UndefVarError: `explore_timespan` not defined",
     "output_type": "error",
     "traceback": [
      "UndefVarError: `explore_timespan` not defined\n",
      "\n",
      "Stacktrace:\n",
      " [1] top-level scope\n",
      "   @ ~/projects/earthquake-networks/earthquake-exploratory-data-analysis/eda_scedc.ipynb:4"
     ]
    }
   ],
   "source": [
    "trim_year = 1932\n",
    "explore_trim_year = 1977\n",
    "\n",
    "df_trimmed = explore_timespan(df, region, trim_year, explore_trim_year; magnitude_threshold=0.0)"
   ]
  },
  {
   "cell_type": "code",
   "execution_count": 6,
   "metadata": {},
   "outputs": [],
   "source": []
  },
  {
   "cell_type": "code",
   "execution_count": 7,
   "metadata": {},
   "outputs": [
    {
     "ename": "TypeError",
     "evalue": "TypeError: non-boolean (Vector{Any}) used in boolean context",
     "output_type": "error",
     "traceback": [
      "TypeError: non-boolean (Vector{Any}) used in boolean context\n",
      "\n",
      "Stacktrace:\n",
      " [1] magtype_boxplot(df::DataFrame, region::String; mag_type_descriptions::Vector{Any})\n",
      "   @ Main /media/gabipana/work/Work/PROJECTS/seismic-networks/seismic-exploratory-data-analysis/src/eda.jl:119\n",
      " [2] top-level scope\n",
      "   @ /media/gabipana/work/Work/PROJECTS/seismic-networks/seismic-exploratory-data-analysis/eda_scedc.ipynb:2"
     ]
    }
   ],
   "source": [
    "if \"Magnitude_Type\" in names(df)\n",
    "    df_mag_type_count = magtype_boxplot(df, region, mag_type_descriptions=[])\n",
    "end\n",
    "\n",
    "if \"Quality\" in names(df)\n",
    "    df_quality_count = quality_boxplot(df, region)\n",
    "end"
   ]
  },
  {
   "cell_type": "code",
   "execution_count": 8,
   "metadata": {},
   "outputs": [],
   "source": []
  },
  {
   "cell_type": "code",
   "execution_count": 9,
   "metadata": {},
   "outputs": [],
   "source": [
    "# Write to CSV\n",
    "# CSV.write(\"./data/$(region).csv\", df_trimmed)"
   ]
  }
 ],
 "metadata": {
  "kernelspec": {
   "display_name": "Julia 1.9.4",
   "language": "julia",
   "name": "julia-1.9"
  },
  "language_info": {
   "file_extension": ".jl",
   "mimetype": "application/julia",
   "name": "julia",
   "version": "1.9.4"
  },
  "orig_nbformat": 4
 },
 "nbformat": 4,
 "nbformat_minor": 2
}
