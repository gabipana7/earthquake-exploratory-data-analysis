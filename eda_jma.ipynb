{
 "cells": [
  {
   "cell_type": "code",
   "execution_count": 1,
   "metadata": {},
   "outputs": [
    {
     "data": {
      "text/plain": [
       "quality_boxplot (generic function with 1 method)"
      ]
     },
     "metadata": {},
     "output_type": "display_data"
    }
   ],
   "source": [
    "include(\"./src/eda.jl\")"
   ]
  },
  {
   "cell_type": "code",
   "execution_count": 2,
   "metadata": {},
   "outputs": [
    {
     "data": {
      "text/plain": [
       "\"jma\""
      ]
     },
     "metadata": {},
     "output_type": "display_data"
    }
   ],
   "source": [
    "region = \"Japan\"\n",
    "catalog = \"jma\""
   ]
  },
  {
   "cell_type": "code",
   "execution_count": 3,
   "metadata": {},
   "outputs": [
    {
     "name": "stdout",
     "output_type": "stream",
     "text": [
      "\u001b[1m5×6 DataFrame\u001b[0m\n",
      "\u001b[1m Row \u001b[0m│\u001b[1m Datetime                \u001b[0m\u001b[1m Latitude \u001b[0m\u001b[1m Longitude \u001b[0m\u001b[1m Depth   \u001b[0m\u001b[1m Magnitude \u001b[0m\u001b[1m Magnitude_type \u001b[0m\n",
      "     │\u001b[90m DateTime                \u001b[0m\u001b[90m Float64  \u001b[0m\u001b[90m Float64   \u001b[0m\u001b[90m Float64 \u001b[0m\u001b[90m Float64   \u001b[0m\u001b[90m String1        \u001b[0m\n",
      "─────┼──────────────────────────────────────────────────────────────────────────────────\n",
      "   1 │ 1983-01-01T00:36:05.840   33.0778    139.035     0.21        3.9  V\n",
      "   2 │ 1983-01-01T00:44:03.730   33.0892    139.042     0.0         3.2  V\n",
      "   3 │ 1983-01-01T01:05:05.160   33.0918    139.044     0.17        3.7  V\n",
      "   4 │ 1983-01-01T01:18:05.400   33.078     139.041     0.16        2.8  V\n",
      "   5 │ 1983-01-01T01:21:05.440   33.0798    139.034     0.09        2.9  V\u001b[1m6×7 DataFrame\u001b[0m\n",
      "\u001b[1m Row \u001b[0m│\u001b[1m variable       \u001b[0m\u001b[1m mean    \u001b[0m\u001b[1m min                     \u001b[0m\u001b[1m median                  \u001b[0m\u001b[1m max                     \u001b[0m\u001b[1m nmissing \u001b[0m\u001b[1m eltype   \u001b[0m\n",
      "     │\u001b[90m Symbol         \u001b[0m\u001b[90m Union…  \u001b[0m\u001b[90m Any                     \u001b[0m\u001b[90m Any                     \u001b[0m\u001b[90m Any                     \u001b[0m\u001b[90m Int64    \u001b[0m\u001b[90m DataType \u001b[0m\n",
      "─────┼────────────────────────────────────────────────────────────────────────────────────────────────────────────────────────\n",
      "   1 │ Datetime       \u001b[90m         \u001b[0m 1983-01-01T00:36:05.840  2011-04-13T18:59:57.415  2020-08-31T23:55:49.130         0  DateTime\n",
      "   2 │ Latitude        35.4498  17.4093                  35.6292                  50.4268                         0  Float64\n",
      "   3 │ Longitude       136.999  118.905                  138.574                  156.681                         0  Float64\n",
      "   4 │ Depth           22.4566  0.0                      11.27                    698.4                           0  Float64\n",
      "   5 │ Magnitude       1.31486  0.1                      1.1                      9.0                             0  Float64\n",
      "   6 │ Magnitude_type \u001b[90m         \u001b[0m D                       \u001b[90m                         \u001b[0m v                               0  String1"
     ]
    },
    {
     "name": "stdout",
     "output_type": "stream",
     "text": [
      "\n"
     ]
    },
    {
     "data": {
      "text/html": [
       "<div><div style = \"float: left;\"><span>3563558×6 DataFrame</span></div><div style = \"float: right;\"><span style = \"font-style: italic;\">3563533 rows omitted</span></div><div style = \"clear: both;\"></div></div><div class = \"data-frame\" style = \"overflow-x: scroll;\"><table class = \"data-frame\" style = \"margin-bottom: 6px;\"><thead><tr class = \"header\"><th class = \"rowNumber\" style = \"font-weight: bold; text-align: right;\">Row</th><th style = \"text-align: left;\">Datetime</th><th style = \"text-align: left;\">Latitude</th><th style = \"text-align: left;\">Longitude</th><th style = \"text-align: left;\">Depth</th><th style = \"text-align: left;\">Magnitude</th><th style = \"text-align: left;\">Magnitude_type</th></tr><tr class = \"subheader headerLastRow\"><th class = \"rowNumber\" style = \"font-weight: bold; text-align: right;\"></th><th title = \"DateTime\" style = \"text-align: left;\">DateTime</th><th title = \"Float64\" style = \"text-align: left;\">Float64</th><th title = \"Float64\" style = \"text-align: left;\">Float64</th><th title = \"Float64\" style = \"text-align: left;\">Float64</th><th title = \"Float64\" style = \"text-align: left;\">Float64</th><th title = \"String1\" style = \"text-align: left;\">String1</th></tr></thead><tbody><tr><td class = \"rowNumber\" style = \"font-weight: bold; text-align: right;\">1</td><td style = \"text-align: left;\">1983-01-01T00:36:05.840</td><td style = \"text-align: right;\">33.0778</td><td style = \"text-align: right;\">139.035</td><td style = \"text-align: right;\">0.21</td><td style = \"text-align: right;\">3.9</td><td style = \"text-align: left;\">V</td></tr><tr><td class = \"rowNumber\" style = \"font-weight: bold; text-align: right;\">2</td><td style = \"text-align: left;\">1983-01-01T00:44:03.730</td><td style = \"text-align: right;\">33.0892</td><td style = \"text-align: right;\">139.042</td><td style = \"text-align: right;\">0.0</td><td style = \"text-align: right;\">3.2</td><td style = \"text-align: left;\">V</td></tr><tr><td class = \"rowNumber\" style = \"font-weight: bold; text-align: right;\">3</td><td style = \"text-align: left;\">1983-01-01T01:05:05.160</td><td style = \"text-align: right;\">33.0918</td><td style = \"text-align: right;\">139.044</td><td style = \"text-align: right;\">0.17</td><td style = \"text-align: right;\">3.7</td><td style = \"text-align: left;\">V</td></tr><tr><td class = \"rowNumber\" style = \"font-weight: bold; text-align: right;\">4</td><td style = \"text-align: left;\">1983-01-01T01:18:05.400</td><td style = \"text-align: right;\">33.078</td><td style = \"text-align: right;\">139.041</td><td style = \"text-align: right;\">0.16</td><td style = \"text-align: right;\">2.8</td><td style = \"text-align: left;\">V</td></tr><tr><td class = \"rowNumber\" style = \"font-weight: bold; text-align: right;\">5</td><td style = \"text-align: left;\">1983-01-01T01:21:05.440</td><td style = \"text-align: right;\">33.0798</td><td style = \"text-align: right;\">139.034</td><td style = \"text-align: right;\">0.09</td><td style = \"text-align: right;\">2.9</td><td style = \"text-align: left;\">V</td></tr><tr><td class = \"rowNumber\" style = \"font-weight: bold; text-align: right;\">6</td><td style = \"text-align: left;\">1983-01-01T01:26:02.630</td><td style = \"text-align: right;\">33.0773</td><td style = \"text-align: right;\">139.042</td><td style = \"text-align: right;\">0.2</td><td style = \"text-align: right;\">3.4</td><td style = \"text-align: left;\">V</td></tr><tr><td class = \"rowNumber\" style = \"font-weight: bold; text-align: right;\">7</td><td style = \"text-align: left;\">1983-01-01T01:36:02.660</td><td style = \"text-align: right;\">33.0778</td><td style = \"text-align: right;\">139.044</td><td style = \"text-align: right;\">0.3</td><td style = \"text-align: right;\">3.0</td><td style = \"text-align: left;\">V</td></tr><tr><td class = \"rowNumber\" style = \"font-weight: bold; text-align: right;\">8</td><td style = \"text-align: left;\">1983-01-01T01:47:04.750</td><td style = \"text-align: right;\">33.0785</td><td style = \"text-align: right;\">139.033</td><td style = \"text-align: right;\">0.11</td><td style = \"text-align: right;\">2.6</td><td style = \"text-align: left;\">V</td></tr><tr><td class = \"rowNumber\" style = \"font-weight: bold; text-align: right;\">9</td><td style = \"text-align: left;\">1983-01-01T01:51:04.830</td><td style = \"text-align: right;\">33.0763</td><td style = \"text-align: right;\">139.039</td><td style = \"text-align: right;\">0.15</td><td style = \"text-align: right;\">3.0</td><td style = \"text-align: left;\">V</td></tr><tr><td class = \"rowNumber\" style = \"font-weight: bold; text-align: right;\">10</td><td style = \"text-align: left;\">1983-01-01T01:53:01.370</td><td style = \"text-align: right;\">33.0778</td><td style = \"text-align: right;\">139.038</td><td style = \"text-align: right;\">0.19</td><td style = \"text-align: right;\">3.1</td><td style = \"text-align: left;\">V</td></tr><tr><td class = \"rowNumber\" style = \"font-weight: bold; text-align: right;\">11</td><td style = \"text-align: left;\">1983-01-01T01:54:00.310</td><td style = \"text-align: right;\">33.079</td><td style = \"text-align: right;\">139.037</td><td style = \"text-align: right;\">0.19</td><td style = \"text-align: right;\">4.1</td><td style = \"text-align: left;\">J</td></tr><tr><td class = \"rowNumber\" style = \"font-weight: bold; text-align: right;\">12</td><td style = \"text-align: left;\">1983-01-01T02:18:03.090</td><td style = \"text-align: right;\">33.0762</td><td style = \"text-align: right;\">139.035</td><td style = \"text-align: right;\">0.17</td><td style = \"text-align: right;\">3.7</td><td style = \"text-align: left;\">V</td></tr><tr><td class = \"rowNumber\" style = \"font-weight: bold; text-align: right;\">13</td><td style = \"text-align: left;\">1983-01-01T02:19:04.690</td><td style = \"text-align: right;\">33.0788</td><td style = \"text-align: right;\">139.037</td><td style = \"text-align: right;\">0.26</td><td style = \"text-align: right;\">3.3</td><td style = \"text-align: left;\">V</td></tr><tr><td style = \"text-align: right;\">&vellip;</td><td style = \"text-align: right;\">&vellip;</td><td style = \"text-align: right;\">&vellip;</td><td style = \"text-align: right;\">&vellip;</td><td style = \"text-align: right;\">&vellip;</td><td style = \"text-align: right;\">&vellip;</td><td style = \"text-align: right;\">&vellip;</td></tr><tr><td class = \"rowNumber\" style = \"font-weight: bold; text-align: right;\">3563547</td><td style = \"text-align: left;\">2020-08-31T23:20:27.020</td><td style = \"text-align: right;\">34.9333</td><td style = \"text-align: right;\">135.579</td><td style = \"text-align: right;\">7.35</td><td style = \"text-align: right;\">0.2</td><td style = \"text-align: left;\">V</td></tr><tr><td class = \"rowNumber\" style = \"font-weight: bold; text-align: right;\">3563548</td><td style = \"text-align: left;\">2020-08-31T23:21:52.020</td><td style = \"text-align: right;\">32.3375</td><td style = \"text-align: right;\">132.068</td><td style = \"text-align: right;\">15.7</td><td style = \"text-align: right;\">1.3</td><td style = \"text-align: left;\">V</td></tr><tr><td class = \"rowNumber\" style = \"font-weight: bold; text-align: right;\">3563549</td><td style = \"text-align: left;\">2020-08-31T23:23:31.650</td><td style = \"text-align: right;\">35.884</td><td style = \"text-align: right;\">140.798</td><td style = \"text-align: right;\">37.74</td><td style = \"text-align: right;\">1.2</td><td style = \"text-align: left;\">V</td></tr><tr><td class = \"rowNumber\" style = \"font-weight: bold; text-align: right;\">3563550</td><td style = \"text-align: left;\">2020-08-31T23:34:00.050</td><td style = \"text-align: right;\">37.8845</td><td style = \"text-align: right;\">141.75</td><td style = \"text-align: right;\">40.83</td><td style = \"text-align: right;\">1.0</td><td style = \"text-align: left;\">V</td></tr><tr><td class = \"rowNumber\" style = \"font-weight: bold; text-align: right;\">3563551</td><td style = \"text-align: left;\">2020-08-31T23:36:45.060</td><td style = \"text-align: right;\">35.858</td><td style = \"text-align: right;\">140.448</td><td style = \"text-align: right;\">32.32</td><td style = \"text-align: right;\">0.6</td><td style = \"text-align: left;\">V</td></tr><tr><td class = \"rowNumber\" style = \"font-weight: bold; text-align: right;\">3563552</td><td style = \"text-align: left;\">2020-08-31T23:41:03.390</td><td style = \"text-align: right;\">36.241</td><td style = \"text-align: right;\">137.664</td><td style = \"text-align: right;\">7.22</td><td style = \"text-align: right;\">0.7</td><td style = \"text-align: left;\">V</td></tr><tr><td class = \"rowNumber\" style = \"font-weight: bold; text-align: right;\">3563553</td><td style = \"text-align: left;\">2020-08-31T23:42:18</td><td style = \"text-align: right;\">36.24</td><td style = \"text-align: right;\">137.672</td><td style = \"text-align: right;\">16.61</td><td style = \"text-align: right;\">0.3</td><td style = \"text-align: left;\">V</td></tr><tr><td class = \"rowNumber\" style = \"font-weight: bold; text-align: right;\">3563554</td><td style = \"text-align: left;\">2020-08-31T23:47:18.900</td><td style = \"text-align: right;\">35.5092</td><td style = \"text-align: right;\">135.985</td><td style = \"text-align: right;\">7.83</td><td style = \"text-align: right;\">0.4</td><td style = \"text-align: left;\">v</td></tr><tr><td class = \"rowNumber\" style = \"font-weight: bold; text-align: right;\">3563555</td><td style = \"text-align: left;\">2020-08-31T23:49:43.620</td><td style = \"text-align: right;\">37.148</td><td style = \"text-align: right;\">139.536</td><td style = \"text-align: right;\">6.89</td><td style = \"text-align: right;\">0.4</td><td style = \"text-align: left;\">V</td></tr><tr><td class = \"rowNumber\" style = \"font-weight: bold; text-align: right;\">3563556</td><td style = \"text-align: left;\">2020-08-31T23:51:10.010</td><td style = \"text-align: right;\">35.0288</td><td style = \"text-align: right;\">135.58</td><td style = \"text-align: right;\">11.0</td><td style = \"text-align: right;\">0.3</td><td style = \"text-align: left;\">V</td></tr><tr><td class = \"rowNumber\" style = \"font-weight: bold; text-align: right;\">3563557</td><td style = \"text-align: left;\">2020-08-31T23:54:46.940</td><td style = \"text-align: right;\">36.617</td><td style = \"text-align: right;\">140.06</td><td style = \"text-align: right;\">112.1</td><td style = \"text-align: right;\">1.1</td><td style = \"text-align: left;\">V</td></tr><tr><td class = \"rowNumber\" style = \"font-weight: bold; text-align: right;\">3563558</td><td style = \"text-align: left;\">2020-08-31T23:55:49.130</td><td style = \"text-align: right;\">35.8678</td><td style = \"text-align: right;\">137.645</td><td style = \"text-align: right;\">8.4</td><td style = \"text-align: right;\">0.4</td><td style = \"text-align: left;\">V</td></tr></tbody></table></div>"
      ],
      "text/latex": [
       "\\begin{tabular}{r|cccccc}\n",
       "\t& Datetime & Latitude & Longitude & Depth & Magnitude & Magnitude\\_type\\\\\n",
       "\t\\hline\n",
       "\t& DateTime & Float64 & Float64 & Float64 & Float64 & String1\\\\\n",
       "\t\\hline\n",
       "\t1 & 1983-01-01T00:36:05.840 & 33.0778 & 139.035 & 0.21 & 3.9 & V \\\\\n",
       "\t2 & 1983-01-01T00:44:03.730 & 33.0892 & 139.042 & 0.0 & 3.2 & V \\\\\n",
       "\t3 & 1983-01-01T01:05:05.160 & 33.0918 & 139.044 & 0.17 & 3.7 & V \\\\\n",
       "\t4 & 1983-01-01T01:18:05.400 & 33.078 & 139.041 & 0.16 & 2.8 & V \\\\\n",
       "\t5 & 1983-01-01T01:21:05.440 & 33.0798 & 139.034 & 0.09 & 2.9 & V \\\\\n",
       "\t6 & 1983-01-01T01:26:02.630 & 33.0773 & 139.042 & 0.2 & 3.4 & V \\\\\n",
       "\t7 & 1983-01-01T01:36:02.660 & 33.0778 & 139.044 & 0.3 & 3.0 & V \\\\\n",
       "\t8 & 1983-01-01T01:47:04.750 & 33.0785 & 139.033 & 0.11 & 2.6 & V \\\\\n",
       "\t9 & 1983-01-01T01:51:04.830 & 33.0763 & 139.039 & 0.15 & 3.0 & V \\\\\n",
       "\t10 & 1983-01-01T01:53:01.370 & 33.0778 & 139.038 & 0.19 & 3.1 & V \\\\\n",
       "\t11 & 1983-01-01T01:54:00.310 & 33.079 & 139.037 & 0.19 & 4.1 & J \\\\\n",
       "\t12 & 1983-01-01T02:18:03.090 & 33.0762 & 139.035 & 0.17 & 3.7 & V \\\\\n",
       "\t13 & 1983-01-01T02:19:04.690 & 33.0788 & 139.037 & 0.26 & 3.3 & V \\\\\n",
       "\t14 & 1983-01-01T02:26:00.800 & 33.0847 & 139.052 & 0.41 & 2.5 & V \\\\\n",
       "\t15 & 1983-01-01T02:55:00.720 & 36.0418 & 141.013 & 0.44 & 2.8 & V \\\\\n",
       "\t16 & 1983-01-01T02:55:02.400 & 33.0798 & 139.031 & 0.14 & 2.5 & V \\\\\n",
       "\t17 & 1983-01-01T02:56:05.040 & 33.0803 & 139.038 & 0.23 & 2.7 & V \\\\\n",
       "\t18 & 1983-01-01T03:03:00.380 & 33.0638 & 139.066 & 0.25 & 4.0 & V \\\\\n",
       "\t19 & 1983-01-01T03:15:00.460 & 33.0793 & 139.039 & 0.29 & 2.5 & V \\\\\n",
       "\t20 & 1983-01-01T03:17:01.430 & 33.0803 & 139.031 & 0.0 & 3.2 & V \\\\\n",
       "\t21 & 1983-01-01T03:19:00.770 & 33.0752 & 139.031 & 0.04 & 2.9 & V \\\\\n",
       "\t22 & 1983-01-01T03:31:01.720 & 33.0772 & 139.032 & 0.04 & 2.9 & V \\\\\n",
       "\t23 & 1983-01-01T03:41:00.110 & 33.0783 & 139.032 & 0.0 & 2.6 & V \\\\\n",
       "\t24 & 1983-01-01T03:49:01.570 & 33.0785 & 139.033 & 0.11 & 2.5 & V \\\\\n",
       "\t$\\dots$ & $\\dots$ & $\\dots$ & $\\dots$ & $\\dots$ & $\\dots$ & $\\dots$ \\\\\n",
       "\\end{tabular}\n"
      ],
      "text/plain": [
       "\u001b[1m3563558×6 DataFrame\u001b[0m\n",
       "\u001b[1m     Row \u001b[0m│\u001b[1m Datetime                \u001b[0m\u001b[1m Latitude \u001b[0m\u001b[1m Longitude \u001b[0m\u001b[1m Depth   \u001b[0m\u001b[1m Magnitude \u001b[0m\u001b[1m M\u001b[0m ⋯\n",
       "         │\u001b[90m DateTime                \u001b[0m\u001b[90m Float64  \u001b[0m\u001b[90m Float64   \u001b[0m\u001b[90m Float64 \u001b[0m\u001b[90m Float64   \u001b[0m\u001b[90m S\u001b[0m ⋯\n",
       "─────────┼──────────────────────────────────────────────────────────────────────\n",
       "       1 │ 1983-01-01T00:36:05.840   33.0778    139.035     0.21        3.9  V ⋯\n",
       "       2 │ 1983-01-01T00:44:03.730   33.0892    139.042     0.0         3.2  V\n",
       "       3 │ 1983-01-01T01:05:05.160   33.0918    139.044     0.17        3.7  V\n",
       "       4 │ 1983-01-01T01:18:05.400   33.078     139.041     0.16        2.8  V\n",
       "       5 │ 1983-01-01T01:21:05.440   33.0798    139.034     0.09        2.9  V ⋯\n",
       "       6 │ 1983-01-01T01:26:02.630   33.0773    139.042     0.2         3.4  V\n",
       "       7 │ 1983-01-01T01:36:02.660   33.0778    139.044     0.3         3.0  V\n",
       "       8 │ 1983-01-01T01:47:04.750   33.0785    139.033     0.11        2.6  V\n",
       "    ⋮    │            ⋮                ⋮          ⋮         ⋮         ⋮        ⋱\n",
       " 3563552 │ 2020-08-31T23:41:03.390   36.241     137.664     7.22        0.7  V ⋯\n",
       " 3563553 │ 2020-08-31T23:42:18       36.24      137.672    16.61        0.3  V\n",
       " 3563554 │ 2020-08-31T23:47:18.900   35.5092    135.985     7.83        0.4  v\n",
       " 3563555 │ 2020-08-31T23:49:43.620   37.148     139.536     6.89        0.4  V\n",
       " 3563556 │ 2020-08-31T23:51:10.010   35.0288    135.58     11.0         0.3  V ⋯\n",
       " 3563557 │ 2020-08-31T23:54:46.940   36.617     140.06    112.1         1.1  V\n",
       " 3563558 │ 2020-08-31T23:55:49.130   35.8678    137.645     8.4         0.4  V\n",
       "\u001b[36m                                               1 column and 3563543 rows omitted\u001b[0m"
      ]
     },
     "metadata": {},
     "output_type": "display_data"
    }
   ],
   "source": [
    "df = load_data(region, catalog)"
   ]
  },
  {
   "cell_type": "code",
   "execution_count": 4,
   "metadata": {},
   "outputs": [
    {
     "data": {
      "image/png": "[encoded data removed]"
     },
     "metadata": {},
     "output_type": "display_data"
    }
   ],
   "source": [
    "events_histogram_fig = events_histogram(df, region)"
   ]
  },
  {
   "cell_type": "code",
   "execution_count": 5,
   "metadata": {},
   "outputs": [
    {
     "data": {
      "text/html": [
       "<div><div style = \"float: left;\"><span>3422706×6 DataFrame</span></div><div style = \"float: right;\"><span style = \"font-style: italic;\">3422681 rows omitted</span></div><div style = \"clear: both;\"></div></div><div class = \"data-frame\" style = \"overflow-x: scroll;\"><table class = \"data-frame\" style = \"margin-bottom: 6px;\"><thead><tr class = \"header\"><th class = \"rowNumber\" style = \"font-weight: bold; text-align: right;\">Row</th><th style = \"text-align: left;\">Datetime</th><th style = \"text-align: left;\">Latitude</th><th style = \"text-align: left;\">Longitude</th><th style = \"text-align: left;\">Depth</th><th style = \"text-align: left;\">Magnitude</th><th style = \"text-align: left;\">Magnitude_type</th></tr><tr class = \"subheader headerLastRow\"><th class = \"rowNumber\" style = \"font-weight: bold; text-align: right;\"></th><th title = \"DateTime\" style = \"text-align: left;\">DateTime</th><th title = \"Float64\" style = \"text-align: left;\">Float64</th><th title = \"Float64\" style = \"text-align: left;\">Float64</th><th title = \"Float64\" style = \"text-align: left;\">Float64</th><th title = \"Float64\" style = \"text-align: left;\">Float64</th><th title = \"String1\" style = \"text-align: left;\">String1</th></tr></thead><tbody><tr><td class = \"rowNumber\" style = \"font-weight: bold; text-align: right;\">1</td><td style = \"text-align: left;\">1995-01-01T00:01:30.890</td><td style = \"text-align: right;\">38.9317</td><td style = \"text-align: right;\">142.515</td><td style = \"text-align: right;\">29.97</td><td style = \"text-align: right;\">1.7</td><td style = \"text-align: left;\">V</td></tr><tr><td class = \"rowNumber\" style = \"font-weight: bold; text-align: right;\">2</td><td style = \"text-align: left;\">1995-01-01T00:05:26.940</td><td style = \"text-align: right;\">33.6188</td><td style = \"text-align: right;\">131.883</td><td style = \"text-align: right;\">93.6</td><td style = \"text-align: right;\">1.8</td><td style = \"text-align: left;\">V</td></tr><tr><td class = \"rowNumber\" style = \"font-weight: bold; text-align: right;\">3</td><td style = \"text-align: left;\">1995-01-01T00:14:22.400</td><td style = \"text-align: right;\">36.6195</td><td style = \"text-align: right;\">139.435</td><td style = \"text-align: right;\">11.27</td><td style = \"text-align: right;\">1.8</td><td style = \"text-align: left;\">V</td></tr><tr><td class = \"rowNumber\" style = \"font-weight: bold; text-align: right;\">4</td><td style = \"text-align: left;\">1995-01-01T00:15:53.520</td><td style = \"text-align: right;\">40.2385</td><td style = \"text-align: right;\">143.69</td><td style = \"text-align: right;\">0.08</td><td style = \"text-align: right;\">2.6</td><td style = \"text-align: left;\">V</td></tr><tr><td class = \"rowNumber\" style = \"font-weight: bold; text-align: right;\">5</td><td style = \"text-align: left;\">1995-01-01T00:18:10.180</td><td style = \"text-align: right;\">40.2408</td><td style = \"text-align: right;\">143.597</td><td style = \"text-align: right;\">0.01</td><td style = \"text-align: right;\">3.1</td><td style = \"text-align: left;\">V</td></tr><tr><td class = \"rowNumber\" style = \"font-weight: bold; text-align: right;\">6</td><td style = \"text-align: left;\">1995-01-01T00:26:28.790</td><td style = \"text-align: right;\">43.6478</td><td style = \"text-align: right;\">147.391</td><td style = \"text-align: right;\">0.64</td><td style = \"text-align: right;\">2.2</td><td style = \"text-align: left;\">V</td></tr><tr><td class = \"rowNumber\" style = \"font-weight: bold; text-align: right;\">7</td><td style = \"text-align: left;\">1995-01-01T00:30:30.550</td><td style = \"text-align: right;\">32.038</td><td style = \"text-align: right;\">130.575</td><td style = \"text-align: right;\">0.04</td><td style = \"text-align: right;\">1.4</td><td style = \"text-align: left;\">V</td></tr><tr><td class = \"rowNumber\" style = \"font-weight: bold; text-align: right;\">8</td><td style = \"text-align: left;\">1995-01-01T00:37:31.360</td><td style = \"text-align: right;\">41.6385</td><td style = \"text-align: right;\">141.855</td><td style = \"text-align: right;\">0.51</td><td style = \"text-align: right;\">1.8</td><td style = \"text-align: left;\">V</td></tr><tr><td class = \"rowNumber\" style = \"font-weight: bold; text-align: right;\">9</td><td style = \"text-align: left;\">1995-01-01T00:39:53.640</td><td style = \"text-align: right;\">40.646</td><td style = \"text-align: right;\">142.409</td><td style = \"text-align: right;\">0.32</td><td style = \"text-align: right;\">1.7</td><td style = \"text-align: left;\">V</td></tr><tr><td class = \"rowNumber\" style = \"font-weight: bold; text-align: right;\">10</td><td style = \"text-align: left;\">1995-01-01T00:41:36.470</td><td style = \"text-align: right;\">35.6597</td><td style = \"text-align: right;\">135.577</td><td style = \"text-align: right;\">10.83</td><td style = \"text-align: right;\">1.9</td><td style = \"text-align: left;\">V</td></tr><tr><td class = \"rowNumber\" style = \"font-weight: bold; text-align: right;\">11</td><td style = \"text-align: left;\">1995-01-01T00:47:50.500</td><td style = \"text-align: right;\">43.3045</td><td style = \"text-align: right;\">146.952</td><td style = \"text-align: right;\">0.47</td><td style = \"text-align: right;\">2.1</td><td style = \"text-align: left;\">V</td></tr><tr><td class = \"rowNumber\" style = \"font-weight: bold; text-align: right;\">12</td><td style = \"text-align: left;\">1995-01-01T00:58:01.190</td><td style = \"text-align: right;\">40.16</td><td style = \"text-align: right;\">143.86</td><td style = \"text-align: right;\">0.12</td><td style = \"text-align: right;\">3.2</td><td style = \"text-align: left;\">V</td></tr><tr><td class = \"rowNumber\" style = \"font-weight: bold; text-align: right;\">13</td><td style = \"text-align: left;\">1995-01-01T01:08:40.880</td><td style = \"text-align: right;\">36.7177</td><td style = \"text-align: right;\">139.347</td><td style = \"text-align: right;\">11.34</td><td style = \"text-align: right;\">1.3</td><td style = \"text-align: left;\">V</td></tr><tr><td style = \"text-align: right;\">&vellip;</td><td style = \"text-align: right;\">&vellip;</td><td style = \"text-align: right;\">&vellip;</td><td style = \"text-align: right;\">&vellip;</td><td style = \"text-align: right;\">&vellip;</td><td style = \"text-align: right;\">&vellip;</td><td style = \"text-align: right;\">&vellip;</td></tr><tr><td class = \"rowNumber\" style = \"font-weight: bold; text-align: right;\">3422695</td><td style = \"text-align: left;\">2020-08-31T23:20:27.020</td><td style = \"text-align: right;\">34.9333</td><td style = \"text-align: right;\">135.579</td><td style = \"text-align: right;\">7.35</td><td style = \"text-align: right;\">0.2</td><td style = \"text-align: left;\">V</td></tr><tr><td class = \"rowNumber\" style = \"font-weight: bold; text-align: right;\">3422696</td><td style = \"text-align: left;\">2020-08-31T23:21:52.020</td><td style = \"text-align: right;\">32.3375</td><td style = \"text-align: right;\">132.068</td><td style = \"text-align: right;\">15.7</td><td style = \"text-align: right;\">1.3</td><td style = \"text-align: left;\">V</td></tr><tr><td class = \"rowNumber\" style = \"font-weight: bold; text-align: right;\">3422697</td><td style = \"text-align: left;\">2020-08-31T23:23:31.650</td><td style = \"text-align: right;\">35.884</td><td style = \"text-align: right;\">140.798</td><td style = \"text-align: right;\">37.74</td><td style = \"text-align: right;\">1.2</td><td style = \"text-align: left;\">V</td></tr><tr><td class = \"rowNumber\" style = \"font-weight: bold; text-align: right;\">3422698</td><td style = \"text-align: left;\">2020-08-31T23:34:00.050</td><td style = \"text-align: right;\">37.8845</td><td style = \"text-align: right;\">141.75</td><td style = \"text-align: right;\">40.83</td><td style = \"text-align: right;\">1.0</td><td style = \"text-align: left;\">V</td></tr><tr><td class = \"rowNumber\" style = \"font-weight: bold; text-align: right;\">3422699</td><td style = \"text-align: left;\">2020-08-31T23:36:45.060</td><td style = \"text-align: right;\">35.858</td><td style = \"text-align: right;\">140.448</td><td style = \"text-align: right;\">32.32</td><td style = \"text-align: right;\">0.6</td><td style = \"text-align: left;\">V</td></tr><tr><td class = \"rowNumber\" style = \"font-weight: bold; text-align: right;\">3422700</td><td style = \"text-align: left;\">2020-08-31T23:41:03.390</td><td style = \"text-align: right;\">36.241</td><td style = \"text-align: right;\">137.664</td><td style = \"text-align: right;\">7.22</td><td style = \"text-align: right;\">0.7</td><td style = \"text-align: left;\">V</td></tr><tr><td class = \"rowNumber\" style = \"font-weight: bold; text-align: right;\">3422701</td><td style = \"text-align: left;\">2020-08-31T23:42:18</td><td style = \"text-align: right;\">36.24</td><td style = \"text-align: right;\">137.672</td><td style = \"text-align: right;\">16.61</td><td style = \"text-align: right;\">0.3</td><td style = \"text-align: left;\">V</td></tr><tr><td class = \"rowNumber\" style = \"font-weight: bold; text-align: right;\">3422702</td><td style = \"text-align: left;\">2020-08-31T23:47:18.900</td><td style = \"text-align: right;\">35.5092</td><td style = \"text-align: right;\">135.985</td><td style = \"text-align: right;\">7.83</td><td style = \"text-align: right;\">0.4</td><td style = \"text-align: left;\">v</td></tr><tr><td class = \"rowNumber\" style = \"font-weight: bold; text-align: right;\">3422703</td><td style = \"text-align: left;\">2020-08-31T23:49:43.620</td><td style = \"text-align: right;\">37.148</td><td style = \"text-align: right;\">139.536</td><td style = \"text-align: right;\">6.89</td><td style = \"text-align: right;\">0.4</td><td style = \"text-align: left;\">V</td></tr><tr><td class = \"rowNumber\" style = \"font-weight: bold; text-align: right;\">3422704</td><td style = \"text-align: left;\">2020-08-31T23:51:10.010</td><td style = \"text-align: right;\">35.0288</td><td style = \"text-align: right;\">135.58</td><td style = \"text-align: right;\">11.0</td><td style = \"text-align: right;\">0.3</td><td style = \"text-align: left;\">V</td></tr><tr><td class = \"rowNumber\" style = \"font-weight: bold; text-align: right;\">3422705</td><td style = \"text-align: left;\">2020-08-31T23:54:46.940</td><td style = \"text-align: right;\">36.617</td><td style = \"text-align: right;\">140.06</td><td style = \"text-align: right;\">112.1</td><td style = \"text-align: right;\">1.1</td><td style = \"text-align: left;\">V</td></tr><tr><td class = \"rowNumber\" style = \"font-weight: bold; text-align: right;\">3422706</td><td style = \"text-align: left;\">2020-08-31T23:55:49.130</td><td style = \"text-align: right;\">35.8678</td><td style = \"text-align: right;\">137.645</td><td style = \"text-align: right;\">8.4</td><td style = \"text-align: right;\">0.4</td><td style = \"text-align: left;\">V</td></tr></tbody></table></div>"
      ],
      "text/latex": [
       "\\begin{tabular}{r|cccccc}\n",
       "\t& Datetime & Latitude & Longitude & Depth & Magnitude & Magnitude\\_type\\\\\n",
       "\t\\hline\n",
       "\t& DateTime & Float64 & Float64 & Float64 & Float64 & String1\\\\\n",
       "\t\\hline\n",
       "\t1 & 1995-01-01T00:01:30.890 & 38.9317 & 142.515 & 29.97 & 1.7 & V \\\\\n",
       "\t2 & 1995-01-01T00:05:26.940 & 33.6188 & 131.883 & 93.6 & 1.8 & V \\\\\n",
       "\t3 & 1995-01-01T00:14:22.400 & 36.6195 & 139.435 & 11.27 & 1.8 & V \\\\\n",
       "\t4 & 1995-01-01T00:15:53.520 & 40.2385 & 143.69 & 0.08 & 2.6 & V \\\\\n",
       "\t5 & 1995-01-01T00:18:10.180 & 40.2408 & 143.597 & 0.01 & 3.1 & V \\\\\n",
       "\t6 & 1995-01-01T00:26:28.790 & 43.6478 & 147.391 & 0.64 & 2.2 & V \\\\\n",
       "\t7 & 1995-01-01T00:30:30.550 & 32.038 & 130.575 & 0.04 & 1.4 & V \\\\\n",
       "\t8 & 1995-01-01T00:37:31.360 & 41.6385 & 141.855 & 0.51 & 1.8 & V \\\\\n",
       "\t9 & 1995-01-01T00:39:53.640 & 40.646 & 142.409 & 0.32 & 1.7 & V \\\\\n",
       "\t10 & 1995-01-01T00:41:36.470 & 35.6597 & 135.577 & 10.83 & 1.9 & V \\\\\n",
       "\t11 & 1995-01-01T00:47:50.500 & 43.3045 & 146.952 & 0.47 & 2.1 & V \\\\\n",
       "\t12 & 1995-01-01T00:58:01.190 & 40.16 & 143.86 & 0.12 & 3.2 & V \\\\\n",
       "\t13 & 1995-01-01T01:08:40.880 & 36.7177 & 139.347 & 11.34 & 1.3 & V \\\\\n",
       "\t14 & 1995-01-01T01:12:38.020 & 39.82 & 143.934 & 0.09 & 3.0 & V \\\\\n",
       "\t15 & 1995-01-01T01:19:59.760 & 43.191 & 146.722 & 46.88 & 2.3 & V \\\\\n",
       "\t16 & 1995-01-01T01:21:55.510 & 39.9565 & 142.814 & 0.0 & 2.1 & V \\\\\n",
       "\t17 & 1995-01-01T01:22:42.220 & 39.533 & 143.696 & 0.01 & 2.6 & V \\\\\n",
       "\t18 & 1995-01-01T01:25:38.330 & 40.258 & 143.649 & 0.07 & 2.7 & V \\\\\n",
       "\t19 & 1995-01-01T01:30:04.070 & 43.424 & 147.32 & 57.03 & 2.3 & V \\\\\n",
       "\t20 & 1995-01-01T01:32:18.960 & 40.181 & 143.457 & 0.0 & 2.9 & V \\\\\n",
       "\t21 & 1995-01-01T01:40:53.640 & 40.2587 & 142.947 & 6.92 & 2.1 & V \\\\\n",
       "\t22 & 1995-01-01T02:02:04.510 & 40.2762 & 143.291 & 0.0 & 2.5 & V \\\\\n",
       "\t23 & 1995-01-01T02:07:38.590 & 40.615 & 139.13 & 9.47 & 1.9 & V \\\\\n",
       "\t24 & 1995-01-01T02:17:26.230 & 40.2085 & 142.63 & 22.76 & 4.7 & D \\\\\n",
       "\t$\\dots$ & $\\dots$ & $\\dots$ & $\\dots$ & $\\dots$ & $\\dots$ & $\\dots$ \\\\\n",
       "\\end{tabular}\n"
      ],
      "text/plain": [
       "\u001b[1m3422706×6 DataFrame\u001b[0m\n",
       "\u001b[1m     Row \u001b[0m│\u001b[1m Datetime                \u001b[0m\u001b[1m Latitude \u001b[0m\u001b[1m Longitude \u001b[0m\u001b[1m Depth   \u001b[0m\u001b[1m Magnitude \u001b[0m\u001b[1m M\u001b[0m ⋯\n",
       "         │\u001b[90m DateTime                \u001b[0m\u001b[90m Float64  \u001b[0m\u001b[90m Float64   \u001b[0m\u001b[90m Float64 \u001b[0m\u001b[90m Float64   \u001b[0m\u001b[90m S\u001b[0m ⋯\n",
       "─────────┼──────────────────────────────────────────────────────────────────────\n",
       "       1 │ 1995-01-01T00:01:30.890   38.9317    142.515    29.97        1.7  V ⋯\n",
       "       2 │ 1995-01-01T00:05:26.940   33.6188    131.883    93.6         1.8  V\n",
       "       3 │ 1995-01-01T00:14:22.400   36.6195    139.435    11.27        1.8  V\n",
       "       4 │ 1995-01-01T00:15:53.520   40.2385    143.69      0.08        2.6  V\n",
       "       5 │ 1995-01-01T00:18:10.180   40.2408    143.597     0.01        3.1  V ⋯\n",
       "       6 │ 1995-01-01T00:26:28.790   43.6478    147.391     0.64        2.2  V\n",
       "       7 │ 1995-01-01T00:30:30.550   32.038     130.575     0.04        1.4  V\n",
       "       8 │ 1995-01-01T00:37:31.360   41.6385    141.855     0.51        1.8  V\n",
       "    ⋮    │            ⋮                ⋮          ⋮         ⋮         ⋮        ⋱\n",
       " 3422700 │ 2020-08-31T23:41:03.390   36.241     137.664     7.22        0.7  V ⋯\n",
       " 3422701 │ 2020-08-31T23:42:18       36.24      137.672    16.61        0.3  V\n",
       " 3422702 │ 2020-08-31T23:47:18.900   35.5092    135.985     7.83        0.4  v\n",
       " 3422703 │ 2020-08-31T23:49:43.620   37.148     139.536     6.89        0.4  V\n",
       " 3422704 │ 2020-08-31T23:51:10.010   35.0288    135.58     11.0         0.3  V ⋯\n",
       " 3422705 │ 2020-08-31T23:54:46.940   36.617     140.06    112.1         1.1  V\n",
       " 3422706 │ 2020-08-31T23:55:49.130   35.8678    137.645     8.4         0.4  V\n",
       "\u001b[36m                                               1 column and 3422691 rows omitted\u001b[0m"
      ]
     },
     "metadata": {},
     "output_type": "display_data"
    }
   ],
   "source": [
    "trim_year = year(minimum(df.Datetime))\n",
    "explore_trim_year = 1995\n",
    "\n",
    "df_trimmed = explore_timespan(df, region, trim_year, explore_trim_year; magnitude_threshold=0.0)"
   ]
  },
  {
   "cell_type": "code",
   "execution_count": 6,
   "metadata": {},
   "outputs": [],
   "source": []
  },
  {
   "cell_type": "code",
   "execution_count": 7,
   "metadata": {},
   "outputs": [],
   "source": [
    "if \"Magnitude_Type\" in names(df)\n",
    "    df_mag_type_count = magtype_boxplot(df, region, mag_type_descriptions=[])\n",
    "end\n",
    "\n",
    "if \"Quality\" in names(df)\n",
    "    df_quality_count = quality_boxplot(df, region)\n",
    "end"
   ]
  },
  {
   "cell_type": "code",
   "execution_count": 8,
   "metadata": {},
   "outputs": [],
   "source": []
  },
  {
   "cell_type": "code",
   "execution_count": 9,
   "metadata": {},
   "outputs": [],
   "source": [
    "# Write to CSV\n",
    "# CSV.write(\"./data/$(region).csv\", df_trimmed)"
   ]
  }
 ],
 "metadata": {
  "kernelspec": {
   "display_name": "Julia 1.8.5",
   "language": "julia",
   "name": "julia-1.8"
  },
  "language_info": {
   "file_extension": ".jl",
   "mimetype": "application/julia",
   "name": "julia",
   "version": "1.8.5"
  },
  "orig_nbformat": 4
 },
 "nbformat": 4,
 "nbformat_minor": 2
}
