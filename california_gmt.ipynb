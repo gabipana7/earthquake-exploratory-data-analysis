{
 "cells": [
  {
   "cell_type": "code",
   "execution_count": 45,
   "metadata": {},
   "outputs": [],
   "source": [
    "using CSV, FileIO, DataFrames, Dates\n",
    "using GMT"
   ]
  },
  {
   "cell_type": "code",
   "execution_count": 46,
   "metadata": {},
   "outputs": [
    {
     "data": {
      "text/plain": [
       "\"california\""
      ]
     },
     "metadata": {},
     "output_type": "display_data"
    }
   ],
   "source": [
    "region= \"california\""
   ]
  },
  {
   "cell_type": "code",
   "execution_count": 47,
   "metadata": {},
   "outputs": [],
   "source": [
    "# path for resulting maps\n",
    "mkpath(\"./results/$region/\")\n",
    "\n",
    "# read data\n",
    "df = CSV.read(\"./data/$region.csv\", DataFrame);"
   ]
  },
  {
   "cell_type": "code",
   "execution_count": 48,
   "metadata": {},
   "outputs": [
    {
     "data": {
      "text/html": [
       "<div><div style = \"float: left;\"><span>6×7 DataFrame</span></div><div style = \"clear: both;\"></div></div><div class = \"data-frame\" style = \"overflow-x: scroll;\"><table class = \"data-frame\" style = \"margin-bottom: 6px;\"><thead><tr class = \"header\"><th class = \"rowNumber\" style = \"font-weight: bold; text-align: right;\">Row</th><th style = \"text-align: left;\">variable</th><th style = \"text-align: left;\">mean</th><th style = \"text-align: left;\">min</th><th style = \"text-align: left;\">median</th><th style = \"text-align: left;\">max</th><th style = \"text-align: left;\">nmissing</th><th style = \"text-align: left;\">eltype</th></tr><tr class = \"subheader headerLastRow\"><th class = \"rowNumber\" style = \"font-weight: bold; text-align: right;\"></th><th title = \"Symbol\" style = \"text-align: left;\">Symbol</th><th title = \"Union{Nothing, Float64}\" style = \"text-align: left;\">Union…</th><th title = \"Any\" style = \"text-align: left;\">Any</th><th title = \"Any\" style = \"text-align: left;\">Any</th><th title = \"Any\" style = \"text-align: left;\">Any</th><th title = \"Int64\" style = \"text-align: left;\">Int64</th><th title = \"DataType\" style = \"text-align: left;\">DataType</th></tr></thead><tbody><tr><td class = \"rowNumber\" style = \"font-weight: bold; text-align: right;\">1</td><td style = \"text-align: left;\">Datetime</td><td style = \"font-style: italic; text-align: left;\"></td><td style = \"text-align: left;\">1977-01-01T01:00:51.800</td><td style = \"text-align: left;\">2003-02-24T12:11:55.920</td><td style = \"text-align: left;\">2023-03-07T07:30:55.530</td><td style = \"text-align: right;\">0</td><td style = \"text-align: left;\">DateTime</td></tr><tr><td class = \"rowNumber\" style = \"font-weight: bold; text-align: right;\">2</td><td style = \"text-align: left;\">Latitude</td><td style = \"text-align: left;\">34.3646</td><td style = \"text-align: left;\">32.0</td><td style = \"text-align: left;\">34.122</td><td style = \"text-align: left;\">37.0</td><td style = \"text-align: right;\">0</td><td style = \"text-align: left;\">Float64</td></tr><tr><td class = \"rowNumber\" style = \"font-weight: bold; text-align: right;\">3</td><td style = \"text-align: left;\">Longitude</td><td style = \"text-align: left;\">-117.049</td><td style = \"text-align: left;\">-122.0</td><td style = \"text-align: left;\">-116.82</td><td style = \"text-align: left;\">-114.0</td><td style = \"text-align: right;\">0</td><td style = \"text-align: left;\">Float64</td></tr><tr><td class = \"rowNumber\" style = \"font-weight: bold; text-align: right;\">4</td><td style = \"text-align: left;\">Depth</td><td style = \"text-align: left;\">6.86398</td><td style = \"text-align: left;\">0.0</td><td style = \"text-align: left;\">5.9</td><td style = \"text-align: left;\">51.1</td><td style = \"text-align: right;\">0</td><td style = \"text-align: left;\">Float64</td></tr><tr><td class = \"rowNumber\" style = \"font-weight: bold; text-align: right;\">5</td><td style = \"text-align: left;\">Magnitude</td><td style = \"text-align: left;\">1.39345</td><td style = \"text-align: left;\">0.01</td><td style = \"text-align: left;\">1.33</td><td style = \"text-align: left;\">7.3</td><td style = \"text-align: right;\">0</td><td style = \"text-align: left;\">Float64</td></tr><tr><td class = \"rowNumber\" style = \"font-weight: bold; text-align: right;\">6</td><td style = \"text-align: left;\">Magnitude_Type</td><td style = \"font-style: italic; text-align: left;\"></td><td style = \"text-align: left;\">b</td><td style = \"font-style: italic; text-align: left;\"></td><td style = \"text-align: left;\">w</td><td style = \"text-align: right;\">0</td><td style = \"text-align: left;\">String3</td></tr></tbody></table></div>"
      ],
      "text/latex": [
       "\\begin{tabular}{r|cccccc}\n",
       "\t& variable & mean & min & median & max & \\\\\n",
       "\t\\hline\n",
       "\t& Symbol & Union… & Any & Any & Any & \\\\\n",
       "\t\\hline\n",
       "\t1 & Datetime &  & 1977-01-01T01:00:51.800 & 2003-02-24T12:11:55.920 & 2023-03-07T07:30:55.530 & $\\dots$ \\\\\n",
       "\t2 & Latitude & 34.3646 & 32.0 & 34.122 & 37.0 & $\\dots$ \\\\\n",
       "\t3 & Longitude & -117.049 & -122.0 & -116.82 & -114.0 & $\\dots$ \\\\\n",
       "\t4 & Depth & 6.86398 & 0.0 & 5.9 & 51.1 & $\\dots$ \\\\\n",
       "\t5 & Magnitude & 1.39345 & 0.01 & 1.33 & 7.3 & $\\dots$ \\\\\n",
       "\t6 & Magnitude\\_Type &  & b &  & w & $\\dots$ \\\\\n",
       "\\end{tabular}\n"
      ],
      "text/plain": [
       "\u001b[1m6×7 DataFrame\u001b[0m\n",
       "\u001b[1m Row \u001b[0m│\u001b[1m variable       \u001b[0m\u001b[1m mean     \u001b[0m\u001b[1m min                     \u001b[0m\u001b[1m median              \u001b[0m ⋯\n",
       "     │\u001b[90m Symbol         \u001b[0m\u001b[90m Union…   \u001b[0m\u001b[90m Any                     \u001b[0m\u001b[90m Any                 \u001b[0m ⋯\n",
       "─────┼──────────────────────────────────────────────────────────────────────────\n",
       "   1 │ Datetime       \u001b[90m          \u001b[0m 1977-01-01T01:00:51.800  2003-02-24T12:11:55. ⋯\n",
       "   2 │ Latitude        34.3646   32.0                     34.122\n",
       "   3 │ Longitude       -117.049  -122.0                   -116.82\n",
       "   4 │ Depth           6.86398   0.0                      5.9\n",
       "   5 │ Magnitude       1.39345   0.01                     1.33                 ⋯\n",
       "   6 │ Magnitude_Type \u001b[90m          \u001b[0m b                       \u001b[90m                     \u001b[0m\n",
       "\u001b[36m                                                               4 columns omitted\u001b[0m"
      ]
     },
     "metadata": {},
     "output_type": "display_data"
    }
   ],
   "source": [
    "describe(df)"
   ]
  },
  {
   "cell_type": "code",
   "execution_count": null,
   "metadata": {},
   "outputs": [],
   "source": []
  },
  {
   "cell_type": "code",
   "execution_count": 27,
   "metadata": {},
   "outputs": [
    {
     "data": {
      "text/plain": [
       "\"Magnitude\""
      ]
     },
     "metadata": {},
     "output_type": "display_data"
    }
   ],
   "source": [
    "magnitude_threshold = 0.0\n",
    "z_control=\"Magnitude\""
   ]
  },
  {
   "cell_type": "code",
   "execution_count": 28,
   "metadata": {},
   "outputs": [
    {
     "name": "stderr",
     "output_type": "stream",
     "text": [
      "makecpt [WARNING]: Without inc in -T option, -Z has no effect (ignored)\n",
      "GMT [WARNING]: Remote dataset given to a data processing module but no registration was specified - default to gridline registration (if available)\n",
      "makecpt [WARNING]: Without inc in -T option, -Z has no effect (ignored)\n"
     ]
    }
   ],
   "source": [
    "df = df[df.Magnitude .>= magnitude_threshold,:];\n",
    "\n",
    "perspective=(145,40)\n",
    "\n",
    "# Get region's coordinates\n",
    "min_lon = minimum(df.Longitude)\n",
    "max_lon = maximum(df.Longitude)\n",
    "min_lat = minimum(df.Latitude)\n",
    "max_lat = maximum(df.Latitude);\n",
    "\n",
    "# Create the map coordinates\n",
    "map_coords = (min_lon,max_lon,min_lat,max_lat)\n",
    "\n",
    "# Colormap for the region topography\n",
    "C_map = makecpt(cmap=:geo, range=(-8000,8000), continuous=true);\n",
    "# Relief map of the region\n",
    "relief_map = grdcut(\"@earth_relief_30s\", region=map_coords);\n",
    "\n",
    "\n",
    "# control marker size based on magnitude\n",
    "marker_size = [2^x/100 for x in df.Magnitude];\n",
    "\n",
    "# control marker color either by Magnitude or by Depth\n",
    "C_markers = makecpt(cmap=:seis, range=(minimum(df[!, z_control]),maximum(df[!, z_control])),continuous=true, inverse=true);\n",
    "zcolor_control = df[!, z_control]\n",
    "\n",
    "\n",
    "basemap(region=map_coords,frame=(axes=:SE), proj=:merc, view=perspective)\n",
    "\n",
    "grdview!(relief_map, proj=:merc, axis=:none, surftype=(image=1000,), \n",
    "        cmap=C_map, zsize=1.5, alpha=20 , view=perspective)\n",
    "\n",
    "plot!(df.Longitude, df.Latitude, \n",
    "        markersize=marker_size, marker=:cc, markerline=:faint,\n",
    "        cmap=C_markers, zcolor=zcolor_control, alpha=40, view=perspective)\n",
    "\n",
    "\n",
    "# colorbar!(limits=map_coords, pos=(paper=(19,1.5), size=(8,0.5)), shade=0.4, xaxis=(annot=:auto,), frame=(xlabel=z_control,),par=(MAP_LABEL_OFFSET=0.4,),view=(180,90), \n",
    "#             savefig=\"./results/$region/$(region)_semi3D_mag_$(magnitude_threshold)_$(z_control).png\", show=true)\n",
    "\n",
    "colorbar!(pos=(outside=:MR, offset=(1.6,0)), shade=0.4, xaxis=(annot=:auto,), frame=(xlabel=z_control,),par=(MAP_LABEL_OFFSET=0.7,), \n",
    "            view=perspective, savefig=\"./results/$region/$(region)_semi3D_mag_$(magnitude_threshold)_$(z_control)_2.png\", show=true)# )"
   ]
  },
  {
   "cell_type": "code",
   "execution_count": 29,
   "metadata": {},
   "outputs": [
    {
     "data": {
      "text/plain": [
       "\"Depth\""
      ]
     },
     "metadata": {},
     "output_type": "display_data"
    }
   ],
   "source": [
    "magnitude_threshold = 0.0\n",
    "z_control=\"Depth\""
   ]
  },
  {
   "cell_type": "code",
   "execution_count": 30,
   "metadata": {},
   "outputs": [
    {
     "name": "stderr",
     "output_type": "stream",
     "text": [
      "makecpt [WARNING]: Without inc in -T option, -Z has no effect (ignored)\n",
      "GMT [WARNING]: Remote dataset given to a data processing module but no registration was specified - default to gridline registration (if available)\n",
      "makecpt [WARNING]: Without inc in -T option, -Z has no effect (ignored)\n"
     ]
    }
   ],
   "source": [
    "df = df[df.Magnitude .>= magnitude_threshold,:];\n",
    "\n",
    "perspective=(145,40)\n",
    "\n",
    "# Get region's coordinates\n",
    "min_lon = minimum(df.Longitude)\n",
    "max_lon = maximum(df.Longitude)\n",
    "min_lat = minimum(df.Latitude)\n",
    "max_lat = maximum(df.Latitude);\n",
    "\n",
    "# Create the map coordinates\n",
    "map_coords = (min_lon,max_lon,min_lat,max_lat)\n",
    "\n",
    "# Colormap for the region topography\n",
    "C_map = makecpt(cmap=:geo, range=(-8000,8000), continuous=true);\n",
    "# Relief map of the region\n",
    "relief_map = grdcut(\"@earth_relief_30s\", region=map_coords);\n",
    "\n",
    "\n",
    "# control marker size based on magnitude\n",
    "marker_size = [2^x/100 for x in df.Magnitude];\n",
    "\n",
    "# control marker color either by Magnitude or by Depth\n",
    "C_markers = makecpt(cmap=:seis, range=(minimum(df[!, z_control]),maximum(df[!, z_control])),continuous=true, inverse=true);\n",
    "zcolor_control = df[!, z_control]\n",
    "\n",
    "\n",
    "basemap(region=map_coords,frame=(axes=:SE), proj=:merc, view=perspective)\n",
    "\n",
    "grdview!(relief_map, proj=:merc, axis=:none, surftype=(image=1000,), \n",
    "        cmap=C_map, zsize=1.5, alpha=20 , view=perspective)\n",
    "\n",
    "plot!(df.Longitude, df.Latitude, \n",
    "        markersize=marker_size, marker=:cc, markerline=:faint,\n",
    "        cmap=C_markers, zcolor=zcolor_control, alpha=40, view=perspective)\n",
    "\n",
    "\n",
    "# colorbar!(limits=map_coords, pos=(paper=(19,1.5), size=(8,0.5)), shade=0.4, xaxis=(annot=:auto,), frame=(xlabel=z_control,),par=(MAP_LABEL_OFFSET=0.4,),view=(180,90), \n",
    "#             savefig=\"./results/$region/$(region)_semi3D_mag_$(magnitude_threshold)_$(z_control).png\", show=true)\n",
    "\n",
    "colorbar!(pos=(outside=:MR, offset=(1.6,0)), shade=0.4, xaxis=(annot=:auto,), frame=(xlabel=z_control,),par=(MAP_LABEL_OFFSET=0.7,), \n",
    "view=perspective, savefig=\"./results/$region/$(region)_semi3D_mag_$(magnitude_threshold)_$(z_control)_2.png\", show=true)"
   ]
  },
  {
   "cell_type": "code",
   "execution_count": null,
   "metadata": {},
   "outputs": [],
   "source": []
  }
 ],
 "metadata": {
  "kernelspec": {
   "display_name": "Julia 1.8.5",
   "language": "julia",
   "name": "julia-1.8"
  },
  "language_info": {
   "file_extension": ".jl",
   "mimetype": "application/julia",
   "name": "julia",
   "version": "1.8.5"
  },
  "orig_nbformat": 4
 },
 "nbformat": 4,
 "nbformat_minor": 2
}
