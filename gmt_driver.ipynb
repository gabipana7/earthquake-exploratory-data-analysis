{
 "cells": [
  {
   "cell_type": "code",
   "execution_count": 1,
   "metadata": {},
   "outputs": [
    {
     "data": {
      "text/plain": [
       "scatter_semi_3D (generic function with 1 method)"
      ]
     },
     "metadata": {},
     "output_type": "display_data"
    }
   ],
   "source": [
    "include(\"./src/gmt_maps.jl\")"
   ]
  },
  {
   "cell_type": "code",
   "execution_count": 5,
   "metadata": {},
   "outputs": [],
   "source": [
    "for region in [\"Romania\", \"Italy\", \"Japan\"]\n",
    "    df = CSV.read(\"./data/$region.csv\", DataFrame);\n",
    "    for mag in [0.0, 2.0]\n",
    "        scatter_2D(df, region, mag; z_control=\"Magnitude\")\n",
    "        scatter_2D(df, region, mag; z_control=\"Depth\")\n",
    "\n",
    "        scatter_semi_3D(df, region, mag; z_control=\"Magnitude\")\n",
    "        scatter_semi_3D(df, region, mag; z_control=\"Depth\")\n",
    "    end\n",
    "end"
   ]
  },
  {
   "cell_type": "code",
   "execution_count": null,
   "metadata": {},
   "outputs": [],
   "source": []
  },
  {
   "cell_type": "code",
   "execution_count": 3,
   "metadata": {},
   "outputs": [
    {
     "ename": "ArgumentError",
     "evalue": "ArgumentError: \"./data/japan.csv\" is not a valid file or doesn't exist",
     "output_type": "error",
     "traceback": [
      "ArgumentError: \"./data/japan.csv\" is not a valid file or doesn't exist\n",
      "\n",
      "Stacktrace:\n",
      " [1] CSV.Context(source::CSV.Arg, header::CSV.Arg, normalizenames::CSV.Arg, datarow::CSV.Arg, skipto::CSV.Arg, footerskip::CSV.Arg, transpose::CSV.Arg, comment::CSV.Arg, ignoreemptyrows::CSV.Arg, ignoreemptylines::CSV.Arg, select::CSV.Arg, drop::CSV.Arg, limit::CSV.Arg, buffer_in_memory::CSV.Arg, threaded::CSV.Arg, ntasks::CSV.Arg, tasks::CSV.Arg, rows_to_check::CSV.Arg, lines_to_check::CSV.Arg, missingstrings::CSV.Arg, missingstring::CSV.Arg, delim::CSV.Arg, ignorerepeated::CSV.Arg, quoted::CSV.Arg, quotechar::CSV.Arg, openquotechar::CSV.Arg, closequotechar::CSV.Arg, escapechar::CSV.Arg, dateformat::CSV.Arg, dateformats::CSV.Arg, decimal::CSV.Arg, truestrings::CSV.Arg, falsestrings::CSV.Arg, stripwhitespace::CSV.Arg, type::CSV.Arg, types::CSV.Arg, typemap::CSV.Arg, pool::CSV.Arg, downcast::CSV.Arg, lazystrings::CSV.Arg, stringtype::CSV.Arg, strict::CSV.Arg, silencewarnings::CSV.Arg, maxwarnings::CSV.Arg, debug::CSV.Arg, parsingdebug::CSV.Arg, validate::CSV.Arg, streaming::CSV.Arg)\n",
      "   @ CSV ~/.julia/packages/CSV/b8ebJ/src/context.jl:306\n",
      " [2] #File#28\n",
      "   @ ~/.julia/packages/CSV/b8ebJ/src/file.jl:221 [inlined]\n",
      " [3] File\n",
      "   @ ~/.julia/packages/CSV/b8ebJ/src/file.jl:162 [inlined]\n",
      " [4] read(source::String, sink::Type; copycols::Bool, kwargs::Base.Pairs{Symbol, Union{}, Tuple{}, NamedTuple{(), Tuple{}}})\n",
      "   @ CSV ~/.julia/packages/CSV/b8ebJ/src/CSV.jl:117\n",
      " [5] read(source::String, sink::Type)\n",
      "   @ CSV ~/.julia/packages/CSV/b8ebJ/src/CSV.jl:113\n",
      " [6] top-level scope\n",
      "   @ /media/gabipana/work/Work/PROJECTS/seismic-networks/seismic-exploratory-data-analysis/gmt_driver.ipynb:2"
     ]
    }
   ],
   "source": [
    "region = \"Japan\"\n",
    "df = CSV.read(\"./data/$region.csv\", DataFrame);\n",
    "\n",
    "df = df[(df.Datetime .> DateTime(2010,1,1,0,0,0)),:]\n",
    "\n",
    "for mag in [0.0, 2.0]\n",
    "    scatter_2D(df, region, mag; z_control=\"Magnitude\")\n",
    "    scatter_2D(df, region, mag; z_control=\"Depth\")\n",
    "\n",
    "    scatter_semi_3D(df, region, mag; z_control=\"Magnitude\")\n",
    "    scatter_semi_3D(df, region, mag; z_control=\"Depth\")\n",
    "end"
   ]
  },
  {
   "cell_type": "code",
   "execution_count": 4,
   "metadata": {},
   "outputs": [],
   "source": []
  }
 ],
 "metadata": {
  "kernelspec": {
   "display_name": "Julia 1.8.5",
   "language": "julia",
   "name": "julia-1.8"
  },
  "language_info": {
   "file_extension": ".jl",
   "mimetype": "application/julia",
   "name": "julia",
   "version": "1.8.5"
  },
  "orig_nbformat": 4
 },
 "nbformat": 4,
 "nbformat_minor": 2
}
