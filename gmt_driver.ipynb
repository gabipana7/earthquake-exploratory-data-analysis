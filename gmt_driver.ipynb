{
 "cells": [
  {
   "cell_type": "code",
   "execution_count": 1,
   "metadata": {},
   "outputs": [
    {
     "data": {
      "text/plain": [
       "scatter_semi_3D (generic function with 1 method)"
      ]
     },
     "metadata": {},
     "output_type": "display_data"
    }
   ],
   "source": [
    "include(\"./src/gmt_maps.jl\")"
   ]
  },
  {
   "cell_type": "code",
   "execution_count": 2,
   "metadata": {},
   "outputs": [
    {
     "name": "stderr",
     "output_type": "stream",
     "text": [
      "makecpt [WARNING]: Without inc in -T option, -Z has no effect (ignored)\n",
      "GMT [WARNING]: Remote dataset given to a data processing module but no registration was specified - default to gridline registration (if available)\n",
      "grdcut [WARNING]: (w - x_min) must equal (NX + eps) * x_inc), where NX is an integer and |eps| <= 0.0001.\n",
      "grdcut [WARNING]: w reset from 20.19 to 20.1833333333\n",
      "grdcut [WARNING]: (e - x_min) must equal (NX + eps) * x_inc), where NX is an integer and |eps| <= 0.0001.\n",
      "grdcut [WARNING]: e reset from 29.84 to 29.8416666667\n",
      "grdcut [WARNING]: (s - y_min) must equal (NY + eps) * y_inc), where NY is an integer and |eps| <= 0.0001.\n",
      "grdcut [WARNING]: s reset from 43.5941 to 43.5916666667\n",
      "grdcut [WARNING]: (n - y_min) must equal (NY + eps) * y_inc), where NY is an integer and |eps| <= 0.0001.\n",
      "grdcut [WARNING]: n reset from 48.23 to 48.2333333333\n",
      "ERROR 1: read: segment too long (4566) with max (73046) for codeblock 2 (p=0, b=2, r=2, c=0)\n",
      "\n",
      "ERROR 1: Failed to decode.\n",
      "\n",
      "ERROR 1: opj_get_decoded_tile() failed\n",
      "ERROR 1: /home/gabipana/.gmt/server/earth/earth_relief/earth_relief_30s_g/N30E015.earth_relief_30s_g.jp2, band 1: IReadBlock failed at X offset 1, Y offset 0: opj_get_decoded_tile() failed\n",
      "ERROR 1: Stream too short\n",
      "\n",
      "ERROR 1: opj_get_decoded_tile() failed\n",
      "ERROR 1: Stream too short\n",
      "\n",
      "ERROR 1: opj_get_decoded_tile() failed\n",
      "ERROR 1: read: segment too long (4566) with max (73046) for codeblock 2 (p=0, b=2, r=2, c=0)\n",
      "\n",
      "ERROR 1: Failed to decode.\n",
      "\n",
      "ERROR 1: opj_get_decoded_tile() failed\n",
      "ERROR 1: read: segment too long (4566) with max (73046) for codeblock 2 (p=0, b=2, r=2, c=0)\n",
      "\n",
      "ERROR 1: Failed to decode.\n",
      "\n",
      "ERROR 1: opj_get_decoded_tile() failed\n",
      "ERROR 1: /home/gabipana/.gmt/server/earth/earth_relief/earth_relief_30s_g/N30E015.earth_relief_30s_g.jp2, band 1: IReadBlock failed at X offset 1, Y offset 0: opj_get_decoded_tile() failed\n",
      "makecpt [WARNING]: Without inc in -T option, -Z has no effect (ignored)\n"
     ]
    },
    {
     "ename": "Base.IOError",
     "evalue": "IOError: open(\"./gmt/Romania/Romania_2D_mag_0.0_Magnitude.pdf\", 577, 33204): no such file or directory (ENOENT)",
     "output_type": "error",
     "traceback": [
      "IOError: open(\"./gmt/Romania/Romania_2D_mag_0.0_Magnitude.pdf\", 577, 33204): no such file or directory (ENOENT)\n",
      "\n",
      "Stacktrace:\n",
      "  [1] uv_error\n",
      "    @ ./libuv.jl:97 [inlined]\n",
      "  [2] open(path::String, flags::UInt16, mode::UInt64)\n",
      "    @ Base.Filesystem ./filesystem.jl:105\n",
      "  [3] sendfile(src::String, dst::String)\n",
      "    @ Base.Filesystem ./file.jl:994\n",
      "  [4] cp(src::String, dst::String; force::Bool, follow_symlinks::Bool)\n",
      "    @ Base.Filesystem ./file.jl:384\n",
      "  [5] rename(src::String, dst::String; force::Bool)\n",
      "    @ Base.Filesystem ./file.jl:981\n",
      "  [6] rename\n",
      "    @ ./file.jl:977 [inlined]\n",
      "  [7] #mv#15\n",
      "    @ ./file.jl:426 [inlined]\n",
      "  [8] showfig(d::Dict{Symbol, Any}, fname_ps::String, fname_ext::String, opt_T::String, K::Bool, fname::String)\n",
      "    @ GMT ~/.julia/packages/GMT/Dy7LE/src/common_options.jl:3820\n",
      "  [9] finish_PS_module(d::Dict{Symbol, Any}, cmd::Vector{String}, opt_extra::String, K::Bool, O::Bool, finish::Bool, args::GMT.GMTcpt)\n",
      "    @ GMT ~/.julia/packages/GMT/Dy7LE/src/common_options.jl:4099\n",
      " [10] finish_PS_module(d::Dict{Symbol, Any}, cmd::String, opt_extra::String, K::Bool, O::Bool, finish::Bool, args::GMT.GMTcpt)\n",
      "    @ GMT ~/.julia/packages/GMT/Dy7LE/src/common_options.jl:4005\n",
      " [11] colorbar(cmd0::String, arg1::Nothing; first::Bool, kwargs::Base.Pairs{Symbol, Any, NTuple{6, Symbol}, NamedTuple{(:pos, :shade, :xaxis, :frame, :par, :savefig), Tuple{NamedTuple{(:outside, :offset), Tuple{Symbol, Tuple{Float64, Int64}}}, Float64, NamedTuple{(:annot,), Tuple{Symbol}}, NamedTuple{(:xlabel,), Tuple{String}}, NamedTuple{(:MAP_LABEL_OFFSET,), Tuple{Float64}}, String}}})\n",
      "    @ GMT ~/.julia/packages/GMT/Dy7LE/src/psscale.jl:83\n",
      " [12] #colorbar!#532\n",
      "    @ ~/.julia/packages/GMT/Dy7LE/src/psscale.jl:91 [inlined]\n",
      " [13] scatter_2D(df::DataFrame, region::String, magnitude_threshold::Float64; z_control::String)\n",
      "    @ Main /media/gabipana/work/Work/PROJECTS/seismic-networks/seismic-exploratory-data-analysis/src/gmt_maps.jl:49\n",
      " [14] top-level scope\n",
      "    @ /media/gabipana/work/Work/PROJECTS/seismic-networks/seismic-exploratory-data-analysis/gmt_driver.ipynb:4"
     ]
    }
   ],
   "source": [
    "for region in [\"Romania\", \"Italy\", \"Japan\"]\n",
    "    df = CSV.read(\"./data/$region.csv\", DataFrame);\n",
    "    for mag in [0.0, 2.0]\n",
    "        scatter_2D(df, region, mag; z_control=\"Magnitude\")\n",
    "        scatter_2D(df, region, mag; z_control=\"Depth\")\n",
    "\n",
    "        scatter_semi_3D(df, region, mag; z_control=\"Magnitude\")\n",
    "        scatter_semi_3D(df, region, mag; z_control=\"Depth\")\n",
    "    end\n",
    "end"
   ]
  },
  {
   "cell_type": "code",
   "execution_count": 3,
   "metadata": {},
   "outputs": [],
   "source": []
  },
  {
   "cell_type": "code",
   "execution_count": 4,
   "metadata": {},
   "outputs": [
    {
     "ename": "ArgumentError",
     "evalue": "ArgumentError: \"./data/Japan.csv\" is not a valid file or doesn't exist",
     "output_type": "error",
     "traceback": [
      "ArgumentError: \"./data/Japan.csv\" is not a valid file or doesn't exist\n",
      "\n",
      "Stacktrace:\n",
      " [1] CSV.Context(source::CSV.Arg, header::CSV.Arg, normalizenames::CSV.Arg, datarow::CSV.Arg, skipto::CSV.Arg, footerskip::CSV.Arg, transpose::CSV.Arg, comment::CSV.Arg, ignoreemptyrows::CSV.Arg, ignoreemptylines::CSV.Arg, select::CSV.Arg, drop::CSV.Arg, limit::CSV.Arg, buffer_in_memory::CSV.Arg, threaded::CSV.Arg, ntasks::CSV.Arg, tasks::CSV.Arg, rows_to_check::CSV.Arg, lines_to_check::CSV.Arg, missingstrings::CSV.Arg, missingstring::CSV.Arg, delim::CSV.Arg, ignorerepeated::CSV.Arg, quoted::CSV.Arg, quotechar::CSV.Arg, openquotechar::CSV.Arg, closequotechar::CSV.Arg, escapechar::CSV.Arg, dateformat::CSV.Arg, dateformats::CSV.Arg, decimal::CSV.Arg, truestrings::CSV.Arg, falsestrings::CSV.Arg, stripwhitespace::CSV.Arg, type::CSV.Arg, types::CSV.Arg, typemap::CSV.Arg, pool::CSV.Arg, downcast::CSV.Arg, lazystrings::CSV.Arg, stringtype::CSV.Arg, strict::CSV.Arg, silencewarnings::CSV.Arg, maxwarnings::CSV.Arg, debug::CSV.Arg, parsingdebug::CSV.Arg, validate::CSV.Arg, streaming::CSV.Arg)\n",
      "   @ CSV ~/.julia/packages/CSV/b8ebJ/src/context.jl:306\n",
      " [2] #File#28\n",
      "   @ ~/.julia/packages/CSV/b8ebJ/src/file.jl:221 [inlined]\n",
      " [3] File\n",
      "   @ ~/.julia/packages/CSV/b8ebJ/src/file.jl:162 [inlined]\n",
      " [4] read(source::String, sink::Type; copycols::Bool, kwargs::Base.Pairs{Symbol, Union{}, Tuple{}, NamedTuple{(), Tuple{}}})\n",
      "   @ CSV ~/.julia/packages/CSV/b8ebJ/src/CSV.jl:117\n",
      " [5] read(source::String, sink::Type)\n",
      "   @ CSV ~/.julia/packages/CSV/b8ebJ/src/CSV.jl:113\n",
      " [6] top-level scope\n",
      "   @ /media/gabipana/work/Work/PROJECTS/seismic-networks/seismic-exploratory-data-analysis/gmt_driver.ipynb:2"
     ]
    }
   ],
   "source": [
    "region = \"Japan\"\n",
    "df = CSV.read(\"./data/$region.csv\", DataFrame);\n",
    "\n",
    "df = df[(df.Datetime .> DateTime(2010,1,1,0,0,0)),:]\n",
    "\n",
    "for mag in [0.0, 2.0]\n",
    "    scatter_2D(df, region, mag; z_control=\"Magnitude\")\n",
    "    scatter_2D(df, region, mag; z_control=\"Depth\")\n",
    "\n",
    "    scatter_semi_3D(df, region, mag; z_control=\"Magnitude\")\n",
    "    scatter_semi_3D(df, region, mag; z_control=\"Depth\")\n",
    "end"
   ]
  },
  {
   "cell_type": "code",
   "execution_count": 5,
   "metadata": {},
   "outputs": [],
   "source": []
  }
 ],
 "metadata": {
  "kernelspec": {
   "display_name": "Julia 1.8.5",
   "language": "julia",
   "name": "julia-1.8"
  },
  "language_info": {
   "file_extension": ".jl",
   "mimetype": "application/julia",
   "name": "julia",
   "version": "1.8.5"
  },
  "orig_nbformat": 4
 },
 "nbformat": 4,
 "nbformat_minor": 2
}
