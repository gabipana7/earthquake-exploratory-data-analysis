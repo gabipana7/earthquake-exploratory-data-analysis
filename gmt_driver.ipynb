{
 "cells": [
  {
   "cell_type": "code",
   "execution_count": 1,
   "metadata": {},
   "outputs": [
    {
     "data": {
      "text/plain": [
       "scatter_semi_3D (generic function with 1 method)"
      ]
     },
     "metadata": {},
     "output_type": "display_data"
    }
   ],
   "source": [
    "include(\"./src/gmt_maps.jl\")"
   ]
  },
  {
   "cell_type": "code",
   "execution_count": null,
   "metadata": {},
   "outputs": [],
   "source": [
    "for region in [\"Romania, Italy, Japan\"]\n",
    "    df = CSV.read(\"./data/$region.csv\", DataFrame);\n",
    "    for mag in [0.0, 2.0]\n",
    "        scatter_2D(df, region, mag; z_control=\"Magnitude\")\n",
    "        scatter_2D(df, region, mag; z_control=\"Depth\")\n",
    "\n",
    "        scatter_semi_3D(df, region, mag; z_control=\"Magnitude\")\n",
    "        scatter_semi_3D(df, region, mag; z_control=\"Depth\")\n",
    "    end\n",
    "end"
   ]
  },
  {
   "cell_type": "code",
   "execution_count": null,
   "metadata": {},
   "outputs": [],
   "source": [
    "region = \"japan\"\n",
    "df = CSV.read(\"./data/$region.csv\", DataFrame);\n",
    "\n",
    "df = df[(df.Datetime .> DateTime(2010,1,1,0,0,0)),:]\n",
    "\n",
    "for mag in [0.0, 2.0]\n",
    "    scatter_2D(df, region, mag; z_control=\"Magnitude\")\n",
    "    scatter_2D(df, region, mag; z_control=\"Depth\")\n",
    "\n",
    "    scatter_semi_3D(df, region, mag; z_control=\"Magnitude\")\n",
    "    scatter_semi_3D(df, region, mag; z_control=\"Depth\")\n",
    "end"
   ]
  },
  {
   "cell_type": "code",
   "execution_count": null,
   "metadata": {},
   "outputs": [],
   "source": []
  }
 ],
 "metadata": {
  "kernelspec": {
   "display_name": "Julia 1.8.5",
   "language": "julia",
   "name": "julia-1.8"
  },
  "language_info": {
   "file_extension": ".jl",
   "mimetype": "application/julia",
   "name": "julia",
   "version": "1.8.5"
  },
  "orig_nbformat": 4
 },
 "nbformat": 4,
 "nbformat_minor": 2
}
