{
 "cells": [
  {
   "cell_type": "code",
   "execution_count": 1,
   "metadata": {},
   "outputs": [],
   "source": [
    "using CSV, DataFrames, Dates\n",
    "using Tar, CodecZlib"
   ]
  },
  {
   "cell_type": "code",
   "execution_count": 2,
   "metadata": {},
   "outputs": [],
   "source": [
    "url = \"https://service.scedc.caltech.edu/ftp/catalogs/SCEC_DC/SCEDC_catalogs.tar.gz\"\n",
    "download(url,\"./california.tar.gz\")\n",
    "\n",
    "open(GzipDecompressorStream, \"./california.tar.gz\") do io\n",
    "    Tar.extract(io, \"output\")\n",
    "end;"
   ]
  },
  {
   "cell_type": "code",
   "execution_count": 3,
   "metadata": {},
   "outputs": [],
   "source": [
    "# Declare types of the needed columns\n",
    "datetime = Vector{String}()\n",
    "latitude, longitude, depth =  Vector{Float64}(), Vector{Float64}(), Vector{Float64}()\n",
    "magnitude =  Vector{Float64}()\n",
    "magnitude_type = Vector{String}()\n",
    "event_type = Vector{String}()\n",
    "quality = Vector{String}();"
   ]
  },
  {
   "cell_type": "code",
   "execution_count": 8,
   "metadata": {},
   "outputs": [],
   "source": [
    "for year=1932:2023\n",
    "    filename=\"./output/SCEC_DC/\" * string(year) *  \".catalog\"\n",
    "    open(filename) do io\n",
    "        # Skip first 10 lines\n",
    "        for i=1:10\n",
    "            line = readline(io)\n",
    "            # println(line)\n",
    "        end\n",
    "        # Parse all lines until you get an empty line (skip last 2 lines)\n",
    "        while true\n",
    "            line = readline(io)\n",
    "            # detect the end of the line\n",
    "            line == \"\" && break \n",
    "            # push to the vectors, the characters based on the position in the text file\n",
    "            # push!(date,  strip(line[1:10]))\n",
    "            push!(datetime,  strip(line[1:22]))\n",
    "            push!(event_type,  strip(line[24:25]))\n",
    "            push!(magnitude, parse(Float64, strip(line[30:33])))\n",
    "            push!(magnitude_type,strip(line[35:37]))\n",
    "            push!(latitude, parse(Float64,strip(line[40:45])))\n",
    "            push!(longitude, parse(Float64, strip(line[47:54])))\n",
    "            push!(depth, parse(Float64, strip(line[56:60])))\n",
    "            push!(quality, strip(line[62:62]))\n",
    "    \n",
    "        end\n",
    "    end\n",
    "end\n",
    "\n",
    "# Handling improper second formatting in original data\n",
    "for i in eachindex(datetime)\n",
    "    # try turning string into datetime\n",
    "    try\n",
    "        element_date = DateTime.(datetime[i],dateformat)\n",
    "    # catch the element that gives error\n",
    "    catch e\n",
    "        # collect each character of the string\n",
    "        as = collect(datetime[i])\n",
    "        # we know that the second gives problem; second is in 18 position\n",
    "        # seconds formated as \"60\", not possible. change to 50\n",
    "        as[18] = '5'\n",
    "        # join back the characters into string and modify in the original vector\n",
    "        datetime[i] = join(as)\n",
    "    end\n",
    "end\n",
    "\n",
    "\n",
    "df = DataFrame(Datetime=datetime, \n",
    "        Latitude=latitude, Longitude=longitude, Depth=depth,\n",
    "        Magnitude=magnitude, Event_Type=event_type, Magnitude_Type=magnitude_type, Quality=quality);"
   ]
  },
  {
   "cell_type": "code",
   "execution_count": 9,
   "metadata": {},
   "outputs": [],
   "source": [
    "dateformat = dateformat\"yyyy/mm/dd HH:MM:SS.ss\"\n",
    "df.Datetime = DateTime.(df.Datetime, dateformat);"
   ]
  },
  {
   "cell_type": "code",
   "execution_count": 10,
   "metadata": {},
   "outputs": [],
   "source": [
    "california = df[(df.Event_Type .== \"eq\") .& (df.Magnitude .> 0.0),:];"
   ]
  },
  {
   "cell_type": "code",
   "execution_count": 11,
   "metadata": {},
   "outputs": [
    {
     "data": {
      "text/html": [
       "<div><div style = \"float: left;\"><span>1631492×8 DataFrame</span></div><div style = \"float: right;\"><span style = \"font-style: italic;\">1631467 rows omitted</span></div><div style = \"clear: both;\"></div></div><div class = \"data-frame\" style = \"overflow-x: scroll;\"><table class = \"data-frame\" style = \"margin-bottom: 6px;\"><thead><tr class = \"header\"><th class = \"rowNumber\" style = \"font-weight: bold; text-align: right;\">Row</th><th style = \"text-align: left;\">Datetime</th><th style = \"text-align: left;\">Latitude</th><th style = \"text-align: left;\">Longitude</th><th style = \"text-align: left;\">Depth</th><th style = \"text-align: left;\">Magnitude</th><th style = \"text-align: left;\">Event_Type</th><th style = \"text-align: left;\">Magnitude_Type</th><th style = \"text-align: left;\">Quality</th></tr><tr class = \"subheader headerLastRow\"><th class = \"rowNumber\" style = \"font-weight: bold; text-align: right;\"></th><th title = \"DateTime\" style = \"text-align: left;\">DateTime</th><th title = \"Float64\" style = \"text-align: left;\">Float64</th><th title = \"Float64\" style = \"text-align: left;\">Float64</th><th title = \"Float64\" style = \"text-align: left;\">Float64</th><th title = \"Float64\" style = \"text-align: left;\">Float64</th><th title = \"String\" style = \"text-align: left;\">String</th><th title = \"String\" style = \"text-align: left;\">String</th><th title = \"String\" style = \"text-align: left;\">String</th></tr></thead><tbody><tr><td class = \"rowNumber\" style = \"font-weight: bold; text-align: right;\">1</td><td style = \"text-align: left;\">1932-01-02T16:42:53.680</td><td style = \"text-align: right;\">33.903</td><td style = \"text-align: right;\">-117.645</td><td style = \"text-align: right;\">6.0</td><td style = \"text-align: right;\">2.73</td><td style = \"text-align: left;\">eq</td><td style = \"text-align: left;\">l</td><td style = \"text-align: left;\">C</td></tr><tr><td class = \"rowNumber\" style = \"font-weight: bold; text-align: right;\">2</td><td style = \"text-align: left;\">1932-01-03T17:58:50.010</td><td style = \"text-align: right;\">32.0</td><td style = \"text-align: right;\">-116.0</td><td style = \"text-align: right;\">6.0</td><td style = \"text-align: right;\">3.0</td><td style = \"text-align: left;\">eq</td><td style = \"text-align: left;\">h</td><td style = \"text-align: left;\">D</td></tr><tr><td class = \"rowNumber\" style = \"font-weight: bold; text-align: right;\">3</td><td style = \"text-align: left;\">1932-01-04T21:30:50.960</td><td style = \"text-align: right;\">33.771</td><td style = \"text-align: right;\">-117.494</td><td style = \"text-align: right;\">6.0</td><td style = \"text-align: right;\">2.0</td><td style = \"text-align: left;\">eq</td><td style = \"text-align: left;\">h</td><td style = \"text-align: left;\">C</td></tr><tr><td class = \"rowNumber\" style = \"font-weight: bold; text-align: right;\">4</td><td style = \"text-align: left;\">1932-01-05T02:37:57.960</td><td style = \"text-align: right;\">33.559</td><td style = \"text-align: right;\">-118.442</td><td style = \"text-align: right;\">6.0</td><td style = \"text-align: right;\">1.5</td><td style = \"text-align: left;\">eq</td><td style = \"text-align: left;\">h</td><td style = \"text-align: left;\">C</td></tr><tr><td class = \"rowNumber\" style = \"font-weight: bold; text-align: right;\">5</td><td style = \"text-align: left;\">1932-01-06T08:08:58.620</td><td style = \"text-align: right;\">34.143</td><td style = \"text-align: right;\">-117.475</td><td style = \"text-align: right;\">6.0</td><td style = \"text-align: right;\">2.0</td><td style = \"text-align: left;\">eq</td><td style = \"text-align: left;\">h</td><td style = \"text-align: left;\">C</td></tr><tr><td class = \"rowNumber\" style = \"font-weight: bold; text-align: right;\">6</td><td style = \"text-align: left;\">1932-01-07T02:29:52.370</td><td style = \"text-align: right;\">33.992</td><td style = \"text-align: right;\">-118.194</td><td style = \"text-align: right;\">6.0</td><td style = \"text-align: right;\">1.0</td><td style = \"text-align: left;\">eq</td><td style = \"text-align: left;\">h</td><td style = \"text-align: left;\">C</td></tr><tr><td class = \"rowNumber\" style = \"font-weight: bold; text-align: right;\">7</td><td style = \"text-align: left;\">1932-01-07T05:39:53.730</td><td style = \"text-align: right;\">34.094</td><td style = \"text-align: right;\">-117.263</td><td style = \"text-align: right;\">6.0</td><td style = \"text-align: right;\">1.0</td><td style = \"text-align: left;\">eq</td><td style = \"text-align: left;\">h</td><td style = \"text-align: left;\">C</td></tr><tr><td class = \"rowNumber\" style = \"font-weight: bold; text-align: right;\">8</td><td style = \"text-align: left;\">1932-01-07T14:55:53.920</td><td style = \"text-align: right;\">32.0</td><td style = \"text-align: right;\">-116.0</td><td style = \"text-align: right;\">6.0</td><td style = \"text-align: right;\">3.0</td><td style = \"text-align: left;\">eq</td><td style = \"text-align: left;\">h</td><td style = \"text-align: left;\">D</td></tr><tr><td class = \"rowNumber\" style = \"font-weight: bold; text-align: right;\">9</td><td style = \"text-align: left;\">1932-01-07T21:25:55.850</td><td style = \"text-align: right;\">34.775</td><td style = \"text-align: right;\">-118.814</td><td style = \"text-align: right;\">6.0</td><td style = \"text-align: right;\">2.0</td><td style = \"text-align: left;\">eq</td><td style = \"text-align: left;\">h</td><td style = \"text-align: left;\">D</td></tr><tr><td class = \"rowNumber\" style = \"font-weight: bold; text-align: right;\">10</td><td style = \"text-align: left;\">1932-01-10T10:44:54.530</td><td style = \"text-align: right;\">33.857</td><td style = \"text-align: right;\">-117.537</td><td style = \"text-align: right;\">6.0</td><td style = \"text-align: right;\">3.05</td><td style = \"text-align: left;\">eq</td><td style = \"text-align: left;\">h</td><td style = \"text-align: left;\">C</td></tr><tr><td class = \"rowNumber\" style = \"font-weight: bold; text-align: right;\">11</td><td style = \"text-align: left;\">1932-01-10T11:25:56.530</td><td style = \"text-align: right;\">34.15</td><td style = \"text-align: right;\">-117.515</td><td style = \"text-align: right;\">6.0</td><td style = \"text-align: right;\">2.0</td><td style = \"text-align: left;\">eq</td><td style = \"text-align: left;\">h</td><td style = \"text-align: left;\">C</td></tr><tr><td class = \"rowNumber\" style = \"font-weight: bold; text-align: right;\">12</td><td style = \"text-align: left;\">1932-01-10T15:39:59.570</td><td style = \"text-align: right;\">33.657</td><td style = \"text-align: right;\">-116.846</td><td style = \"text-align: right;\">6.0</td><td style = \"text-align: right;\">3.0</td><td style = \"text-align: left;\">eq</td><td style = \"text-align: left;\">h</td><td style = \"text-align: left;\">D</td></tr><tr><td class = \"rowNumber\" style = \"font-weight: bold; text-align: right;\">13</td><td style = \"text-align: left;\">1932-01-11T21:08:58.790</td><td style = \"text-align: right;\">33.985</td><td style = \"text-align: right;\">-117.673</td><td style = \"text-align: right;\">6.0</td><td style = \"text-align: right;\">2.5</td><td style = \"text-align: left;\">eq</td><td style = \"text-align: left;\">h</td><td style = \"text-align: left;\">C</td></tr><tr><td style = \"text-align: right;\">&vellip;</td><td style = \"text-align: right;\">&vellip;</td><td style = \"text-align: right;\">&vellip;</td><td style = \"text-align: right;\">&vellip;</td><td style = \"text-align: right;\">&vellip;</td><td style = \"text-align: right;\">&vellip;</td><td style = \"text-align: right;\">&vellip;</td><td style = \"text-align: right;\">&vellip;</td><td style = \"text-align: right;\">&vellip;</td></tr><tr><td class = \"rowNumber\" style = \"font-weight: bold; text-align: right;\">1631481</td><td style = \"text-align: left;\">2023-09-06T20:38:59.340</td><td style = \"text-align: right;\">34.213</td><td style = \"text-align: right;\">-117.918</td><td style = \"text-align: right;\">-0.7</td><td style = \"text-align: right;\">0.5</td><td style = \"text-align: left;\">eq</td><td style = \"text-align: left;\">h</td><td style = \"text-align: left;\">D</td></tr><tr><td class = \"rowNumber\" style = \"font-weight: bold; text-align: right;\">1631482</td><td style = \"text-align: left;\">2023-09-06T21:48:17.420</td><td style = \"text-align: right;\">33.395</td><td style = \"text-align: right;\">-116.848</td><td style = \"text-align: right;\">8.1</td><td style = \"text-align: right;\">0.68</td><td style = \"text-align: left;\">eq</td><td style = \"text-align: left;\">l</td><td style = \"text-align: left;\">A</td></tr><tr><td class = \"rowNumber\" style = \"font-weight: bold; text-align: right;\">1631483</td><td style = \"text-align: left;\">2023-09-06T21:58:40.860</td><td style = \"text-align: right;\">34.371</td><td style = \"text-align: right;\">-119.388</td><td style = \"text-align: right;\">3.3</td><td style = \"text-align: right;\">1.4</td><td style = \"text-align: left;\">eq</td><td style = \"text-align: left;\">l</td><td style = \"text-align: left;\">A</td></tr><tr><td class = \"rowNumber\" style = \"font-weight: bold; text-align: right;\">1631484</td><td style = \"text-align: left;\">2023-09-06T23:17:57.660</td><td style = \"text-align: right;\">33.429</td><td style = \"text-align: right;\">-116.427</td><td style = \"text-align: right;\">11.9</td><td style = \"text-align: right;\">0.69</td><td style = \"text-align: left;\">eq</td><td style = \"text-align: left;\">l</td><td style = \"text-align: left;\">A</td></tr><tr><td class = \"rowNumber\" style = \"font-weight: bold; text-align: right;\">1631485</td><td style = \"text-align: left;\">2023-09-06T23:18:24.430</td><td style = \"text-align: right;\">33.429</td><td style = \"text-align: right;\">-116.428</td><td style = \"text-align: right;\">11.5</td><td style = \"text-align: right;\">0.72</td><td style = \"text-align: left;\">eq</td><td style = \"text-align: left;\">l</td><td style = \"text-align: left;\">A</td></tr><tr><td class = \"rowNumber\" style = \"font-weight: bold; text-align: right;\">1631486</td><td style = \"text-align: left;\">2023-09-06T23:18:34.720</td><td style = \"text-align: right;\">33.433</td><td style = \"text-align: right;\">-116.428</td><td style = \"text-align: right;\">12.7</td><td style = \"text-align: right;\">0.69</td><td style = \"text-align: left;\">eq</td><td style = \"text-align: left;\">l</td><td style = \"text-align: left;\">A</td></tr><tr><td class = \"rowNumber\" style = \"font-weight: bold; text-align: right;\">1631487</td><td style = \"text-align: left;\">2023-09-07T00:47:53.790</td><td style = \"text-align: right;\">33.489</td><td style = \"text-align: right;\">-116.588</td><td style = \"text-align: right;\">9.2</td><td style = \"text-align: right;\">0.44</td><td style = \"text-align: left;\">eq</td><td style = \"text-align: left;\">l</td><td style = \"text-align: left;\">A</td></tr><tr><td class = \"rowNumber\" style = \"font-weight: bold; text-align: right;\">1631488</td><td style = \"text-align: left;\">2023-09-07T02:23:26.950</td><td style = \"text-align: right;\">34.411</td><td style = \"text-align: right;\">-119.19</td><td style = \"text-align: right;\">2.2</td><td style = \"text-align: right;\">1.48</td><td style = \"text-align: left;\">eq</td><td style = \"text-align: left;\">l</td><td style = \"text-align: left;\">A</td></tr><tr><td class = \"rowNumber\" style = \"font-weight: bold; text-align: right;\">1631489</td><td style = \"text-align: left;\">2023-09-07T03:11:38.590</td><td style = \"text-align: right;\">35.665</td><td style = \"text-align: right;\">-117.563</td><td style = \"text-align: right;\">6.7</td><td style = \"text-align: right;\">1.62</td><td style = \"text-align: left;\">eq</td><td style = \"text-align: left;\">l</td><td style = \"text-align: left;\">A</td></tr><tr><td class = \"rowNumber\" style = \"font-weight: bold; text-align: right;\">1631490</td><td style = \"text-align: left;\">2023-09-07T03:37:33.290</td><td style = \"text-align: right;\">33.056</td><td style = \"text-align: right;\">-116.416</td><td style = \"text-align: right;\">13.0</td><td style = \"text-align: right;\">0.8</td><td style = \"text-align: left;\">eq</td><td style = \"text-align: left;\">l</td><td style = \"text-align: left;\">A</td></tr><tr><td class = \"rowNumber\" style = \"font-weight: bold; text-align: right;\">1631491</td><td style = \"text-align: left;\">2023-09-07T06:22:59.860</td><td style = \"text-align: right;\">35.888</td><td style = \"text-align: right;\">-117.698</td><td style = \"text-align: right;\">5.2</td><td style = \"text-align: right;\">0.85</td><td style = \"text-align: left;\">eq</td><td style = \"text-align: left;\">l</td><td style = \"text-align: left;\">A</td></tr><tr><td class = \"rowNumber\" style = \"font-weight: bold; text-align: right;\">1631492</td><td style = \"text-align: left;\">2023-09-07T07:21:53.640</td><td style = \"text-align: right;\">33.932</td><td style = \"text-align: right;\">-116.81</td><td style = \"text-align: right;\">18.0</td><td style = \"text-align: right;\">1.36</td><td style = \"text-align: left;\">eq</td><td style = \"text-align: left;\">l</td><td style = \"text-align: left;\">A</td></tr></tbody></table></div>"
      ],
      "text/latex": [
       "\\begin{tabular}{r|cccccccc}\n",
       "\t& Datetime & Latitude & Longitude & Depth & Magnitude & Event\\_Type & Magnitude\\_Type & \\\\\n",
       "\t\\hline\n",
       "\t& DateTime & Float64 & Float64 & Float64 & Float64 & String & String & \\\\\n",
       "\t\\hline\n",
       "\t1 & 1932-01-02T16:42:53.680 & 33.903 & -117.645 & 6.0 & 2.73 & eq & l & $\\dots$ \\\\\n",
       "\t2 & 1932-01-03T17:58:50.010 & 32.0 & -116.0 & 6.0 & 3.0 & eq & h & $\\dots$ \\\\\n",
       "\t3 & 1932-01-04T21:30:50.960 & 33.771 & -117.494 & 6.0 & 2.0 & eq & h & $\\dots$ \\\\\n",
       "\t4 & 1932-01-05T02:37:57.960 & 33.559 & -118.442 & 6.0 & 1.5 & eq & h & $\\dots$ \\\\\n",
       "\t5 & 1932-01-06T08:08:58.620 & 34.143 & -117.475 & 6.0 & 2.0 & eq & h & $\\dots$ \\\\\n",
       "\t6 & 1932-01-07T02:29:52.370 & 33.992 & -118.194 & 6.0 & 1.0 & eq & h & $\\dots$ \\\\\n",
       "\t7 & 1932-01-07T05:39:53.730 & 34.094 & -117.263 & 6.0 & 1.0 & eq & h & $\\dots$ \\\\\n",
       "\t8 & 1932-01-07T14:55:53.920 & 32.0 & -116.0 & 6.0 & 3.0 & eq & h & $\\dots$ \\\\\n",
       "\t9 & 1932-01-07T21:25:55.850 & 34.775 & -118.814 & 6.0 & 2.0 & eq & h & $\\dots$ \\\\\n",
       "\t10 & 1932-01-10T10:44:54.530 & 33.857 & -117.537 & 6.0 & 3.05 & eq & h & $\\dots$ \\\\\n",
       "\t11 & 1932-01-10T11:25:56.530 & 34.15 & -117.515 & 6.0 & 2.0 & eq & h & $\\dots$ \\\\\n",
       "\t12 & 1932-01-10T15:39:59.570 & 33.657 & -116.846 & 6.0 & 3.0 & eq & h & $\\dots$ \\\\\n",
       "\t13 & 1932-01-11T21:08:58.790 & 33.985 & -117.673 & 6.0 & 2.5 & eq & h & $\\dots$ \\\\\n",
       "\t14 & 1932-01-14T00:51:55.310 & 34.162 & -119.878 & 6.0 & 3.0 & eq & h & $\\dots$ \\\\\n",
       "\t15 & 1932-01-14T03:16:51.460 & 36.545 & -118.046 & 6.0 & 3.23 & eq & l & $\\dots$ \\\\\n",
       "\t16 & 1932-01-14T08:55:58.010 & 34.057 & -118.597 & 6.0 & 3.0 & eq & h & $\\dots$ \\\\\n",
       "\t17 & 1932-01-14T19:35:51.600 & 33.88 & -118.094 & 6.0 & 3.0 & eq & h & $\\dots$ \\\\\n",
       "\t18 & 1932-01-16T12:17:52.420 & 33.946 & -117.614 & 6.0 & 2.0 & eq & h & $\\dots$ \\\\\n",
       "\t19 & 1932-01-17T20:06:57.250 & 33.891 & -117.294 & 6.0 & 2.74 & eq & l & $\\dots$ \\\\\n",
       "\t20 & 1932-01-18T04:29:57.170 & 33.77 & -118.797 & 6.0 & 2.0 & eq & h & $\\dots$ \\\\\n",
       "\t21 & 1932-01-20T16:29:54.880 & 33.434 & -118.248 & 6.0 & 2.89 & eq & h & $\\dots$ \\\\\n",
       "\t22 & 1932-01-20T20:21:58.360 & 33.47 & -118.3 & 6.0 & 3.5 & eq & h & $\\dots$ \\\\\n",
       "\t23 & 1932-01-21T03:05:54.860 & 34.025 & -117.392 & 21.9 & 1.5 & eq & h & $\\dots$ \\\\\n",
       "\t24 & 1932-01-21T03:07:56.900 & 34.086 & -117.426 & 15.2 & 3.0 & eq & h & $\\dots$ \\\\\n",
       "\t$\\dots$ & $\\dots$ & $\\dots$ & $\\dots$ & $\\dots$ & $\\dots$ & $\\dots$ & $\\dots$ &  \\\\\n",
       "\\end{tabular}\n"
      ],
      "text/plain": [
       "\u001b[1m1631492×8 DataFrame\u001b[0m\n",
       "\u001b[1m     Row \u001b[0m│\u001b[1m Datetime                \u001b[0m\u001b[1m Latitude \u001b[0m\u001b[1m Longitude \u001b[0m\u001b[1m Depth   \u001b[0m\u001b[1m Magnitude \u001b[0m\u001b[1m E\u001b[0m ⋯\n",
       "         │\u001b[90m DateTime                \u001b[0m\u001b[90m Float64  \u001b[0m\u001b[90m Float64   \u001b[0m\u001b[90m Float64 \u001b[0m\u001b[90m Float64   \u001b[0m\u001b[90m S\u001b[0m ⋯\n",
       "─────────┼──────────────────────────────────────────────────────────────────────\n",
       "       1 │ 1932-01-02T16:42:53.680    33.903   -117.645      6.0       2.73  e ⋯\n",
       "       2 │ 1932-01-03T17:58:50.010    32.0     -116.0        6.0       3.0   e\n",
       "       3 │ 1932-01-04T21:30:50.960    33.771   -117.494      6.0       2.0   e\n",
       "       4 │ 1932-01-05T02:37:57.960    33.559   -118.442      6.0       1.5   e\n",
       "       5 │ 1932-01-06T08:08:58.620    34.143   -117.475      6.0       2.0   e ⋯\n",
       "       6 │ 1932-01-07T02:29:52.370    33.992   -118.194      6.0       1.0   e\n",
       "       7 │ 1932-01-07T05:39:53.730    34.094   -117.263      6.0       1.0   e\n",
       "       8 │ 1932-01-07T14:55:53.920    32.0     -116.0        6.0       3.0   e\n",
       "    ⋮    │            ⋮                ⋮          ⋮         ⋮         ⋮        ⋱\n",
       " 1631486 │ 2023-09-06T23:18:34.720    33.433   -116.428     12.7       0.69  e ⋯\n",
       " 1631487 │ 2023-09-07T00:47:53.790    33.489   -116.588      9.2       0.44  e\n",
       " 1631488 │ 2023-09-07T02:23:26.950    34.411   -119.19       2.2       1.48  e\n",
       " 1631489 │ 2023-09-07T03:11:38.590    35.665   -117.563      6.7       1.62  e\n",
       " 1631490 │ 2023-09-07T03:37:33.290    33.056   -116.416     13.0       0.8   e ⋯\n",
       " 1631491 │ 2023-09-07T06:22:59.860    35.888   -117.698      5.2       0.85  e\n",
       " 1631492 │ 2023-09-07T07:21:53.640    33.932   -116.81      18.0       1.36  e\n",
       "\u001b[36m                                              3 columns and 1631477 rows omitted\u001b[0m"
      ]
     },
     "metadata": {},
     "output_type": "display_data"
    }
   ],
   "source": [
    "california"
   ]
  },
  {
   "cell_type": "code",
   "execution_count": 194,
   "metadata": {},
   "outputs": [
    {
     "data": {
      "text/plain": [
       "\"./california.csv\""
      ]
     },
     "metadata": {},
     "output_type": "display_data"
    }
   ],
   "source": [
    "# CSV.write(\"../../data/california.csv\", california)\n",
    "CSV.write(\"./california.csv\", california)"
   ]
  },
  {
   "cell_type": "code",
   "execution_count": 195,
   "metadata": {},
   "outputs": [
    {
     "data": {
      "text/plain": [
       "\"../../data/california.csv\""
      ]
     },
     "metadata": {},
     "output_type": "display_data"
    }
   ],
   "source": [
    "CSV.write(\"../../data/california.csv\", california)"
   ]
  },
  {
   "cell_type": "code",
   "execution_count": 198,
   "metadata": {},
   "outputs": [],
   "source": [
    "# Remove downloaded and extracted data\n",
    "rm(\"output\", recursive=true)\n",
    "rm(\"california.tar.gz\")"
   ]
  },
  {
   "cell_type": "code",
   "execution_count": null,
   "metadata": {},
   "outputs": [],
   "source": []
  }
 ],
 "metadata": {
  "kernelspec": {
   "display_name": "Julia 1.8.5",
   "language": "julia",
   "name": "julia-1.8"
  },
  "language_info": {
   "file_extension": ".jl",
   "mimetype": "application/julia",
   "name": "julia",
   "version": "1.8.5"
  },
  "orig_nbformat": 4
 },
 "nbformat": 4,
 "nbformat_minor": 2
}
