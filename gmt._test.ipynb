{
 "cells": [
  {
   "cell_type": "code",
   "execution_count": 1,
   "metadata": {},
   "outputs": [],
   "source": [
    "using GMT"
   ]
  },
  {
   "cell_type": "code",
   "execution_count": 2,
   "metadata": {},
   "outputs": [],
   "source": [
    "topo = makecpt(color=:rainbow, range=(1000,5000,500), continuous=true);\n",
    "grdview(\"@tut_relief.nc\", proj=:Mercator, zsize=1, shade=(azim=100, norm=\"e0.8\"), view=(135,30),\n",
    "        frame=:a, Q=\"i100\", show=true)"
   ]
  },
  {
   "cell_type": "code",
   "execution_count": 3,
   "metadata": {},
   "outputs": [],
   "source": [
    "basemap(region=(10,70,-3,8), proj=:linear, figsize=(10,7.5),\n",
    "        frame=(fill=:lightred, title=\"My first plot\"), show=true)"
   ]
  },
  {
   "cell_type": "code",
   "execution_count": 4,
   "metadata": {},
   "outputs": [],
   "source": [
    "coast(region=(-90,-70,0,20), proj=:merc, land=:chocolate, show=true)"
   ]
  },
  {
   "cell_type": "code",
   "execution_count": 20,
   "metadata": {},
   "outputs": [],
   "source": [
    "coast(region=(270,290,0,20), proj=:merc, land=:gray, rivers=\"a\", shore=\"0.25p\", show=true)"
   ]
  },
  {
   "attachments": {},
   "cell_type": "markdown",
   "metadata": {},
   "source": [
    "### Italy"
   ]
  },
  {
   "cell_type": "code",
   "execution_count": null,
   "metadata": {},
   "outputs": [],
   "source": [
    "# italy = df[(df.Longitude .>= 6.6166 ) .& (df.Longitude .<= 18.5166) .&\n",
    "# \t\t\t\t  (df.Latitude .>=35.5) .& (df.Latitude .<= 47.0833) ,:]"
   ]
  },
  {
   "cell_type": "code",
   "execution_count": 21,
   "metadata": {},
   "outputs": [],
   "source": [
    "coast(region=(6.6166,18.5166,35.5,47.0833), proj=:merc, land=:gray, rivers=\"a\", shore=\"0.25p\", show=true)"
   ]
  },
  {
   "cell_type": "code",
   "execution_count": 22,
   "metadata": {},
   "outputs": [],
   "source": [
    "using CSV, FileIO, DataFrames, Dates"
   ]
  },
  {
   "cell_type": "code",
   "execution_count": 23,
   "metadata": {},
   "outputs": [
    {
     "data": {
      "text/plain": [
       "\"INGV\""
      ]
     },
     "metadata": {},
     "output_type": "display_data"
    }
   ],
   "source": [
    "region=\"italy\"\n",
    "catalog=\"INGV\""
   ]
  },
  {
   "cell_type": "code",
   "execution_count": 24,
   "metadata": {},
   "outputs": [],
   "source": [
    "df = CSV.read(\"./data/$region.csv\", DataFrame);"
   ]
  },
  {
   "cell_type": "code",
   "execution_count": 26,
   "metadata": {},
   "outputs": [],
   "source": [
    "italy = df[(df.Longitude .>= 6.6166 ) .& (df.Longitude .<= 18.5166) .&\n",
    "\t\t\t\t  (df.Latitude .>=35.5) .& (df.Latitude .<= 47.0833) .&\n",
    "                  (df.Magnitude .>=3.0),:];"
   ]
  },
  {
   "cell_type": "code",
   "execution_count": 30,
   "metadata": {},
   "outputs": [],
   "source": [
    "coast(region=(6.6166,18.5166,35.5,47.0833), proj=:merc, land=:gray, rivers=\"a\", shore=\"0.25p\")\n",
    "plot!(italy.Longitude, italy.Latitude, show=true)"
   ]
  },
  {
   "cell_type": "code",
   "execution_count": 31,
   "metadata": {},
   "outputs": [],
   "source": [
    "C = makecpt(cmap=\"red,green,blue\", range=\"0,100,300,10000\");\n",
    "coast(region=(130,150,35,50), land=:gray, proj=:merc)\n",
    "plot!(\"@tut_quakes.ngdc\", incols=\"4,3,5,6s0.1\", header=3, symbol=\"cc\", markerline=:faint, color=C, show=true)"
   ]
  },
  {
   "cell_type": "code",
   "execution_count": 156,
   "metadata": {},
   "outputs": [],
   "source": [
    "marker_size = [0.4^(x-1) for x in italy.Magnitude];\n",
    "C = makecpt(cmap=\"red,blue\", range=(minimum(italy.Depth),maximum(italy.Depth)),continuous=true,);"
   ]
  },
  {
   "cell_type": "code",
   "execution_count": 161,
   "metadata": {},
   "outputs": [
    {
     "ename": "ErrorException",
     "evalue": "GMT: Expects a Matrix for input",
     "output_type": "error",
     "traceback": [
      "GMT: Expects a Matrix for input\n",
      "\n",
      "Stacktrace:\n",
      " [1] error(s::String)\n",
      "   @ Base .\\error.jl:35\n",
      " [2] gmt(cmd::String, args::Nothing)\n",
      "   @ GMT C:\\Users\\gabipana\\.julia\\packages\\GMT\\Dy7LE\\src\\gmt_main.jl:299\n",
      " [3] finish_PS_module(d::Dict{Symbol, Any}, cmd::Vector{String}, opt_extra::String, K::Bool, O::Bool, finish::Bool, args::Nothing)\n",
      "   @ GMT C:\\Users\\gabipana\\.julia\\packages\\GMT\\Dy7LE\\src\\common_options.jl:4078\n",
      " [4] finish_PS_module\n",
      "   @ C:\\Users\\gabipana\\.julia\\packages\\GMT\\Dy7LE\\src\\common_options.jl:4005 [inlined]\n",
      " [5] colorbar(cmd0::String, arg1::Nothing; first::Bool, kwargs::Base.Pairs{Symbol, Any, NTuple{5, Symbol}, NamedTuple{(:pos, :shade, :xaxis, :ylabel, :show), Tuple{NamedTuple{(:outside,), Tuple{Symbol}}, Float64, NamedTuple{(:annot,), Tuple{Symbol}}, Symbol, Bool}}})\n",
      "   @ GMT C:\\Users\\gabipana\\.julia\\packages\\GMT\\Dy7LE\\src\\psscale.jl:83\n",
      " [6] #colorbar!#532\n",
      "   @ C:\\Users\\gabipana\\.julia\\packages\\GMT\\Dy7LE\\src\\psscale.jl:91 [inlined]\n",
      " [7] top-level scope\n",
      "   @ d:\\projects\\seismic-networks\\seismic-exploratory-data-analysis\\gmt._test.ipynb:8"
     ]
    }
   ],
   "source": [
    "coast(region=(6.6166,18.5166,35.5,47.0833), \n",
    "        proj=:merc, land=:gray, rivers=\"a\", shore=\"0.25p\", alpha=50, \n",
    "        frame=(axes=:WSnE,))\n",
    "plot!(italy.Longitude, italy.Latitude, \n",
    "        markersize=marker_size, marker=:c, markerline=:faint,\n",
    "        color=C, zcolor=italy.Depth, alpha=50, \n",
    "        frame=(axes=:WSnE,), show=true)\n",
    "colorbar!(pos=(outside=:TC,), shade=0.4, xaxis=(annot=:auto,), ylabel=:m, show=true)\n"
   ]
  },
  {
   "cell_type": "code",
   "execution_count": 155,
   "metadata": {},
   "outputs": [],
   "source": [
    "coast(region=(6.6166,18.5166,35.5,47.0833), \n",
    "        proj=:merc, land=:gray, rivers=\"a\", shore=\"0.25p\")\n",
    "plot3d!(italy.Longitude, italy.Latitude, italy.Depth,\n",
    "markersize=marker_size, marker=:c, markerline=:faint,\n",
    "color=C, zcolor=italy.Depth, alpha=80, \n",
    "show=true)"
   ]
  },
  {
   "cell_type": "code",
   "execution_count": null,
   "metadata": {},
   "outputs": [],
   "source": []
  },
  {
   "cell_type": "code",
   "execution_count": 162,
   "metadata": {},
   "outputs": [
    {
     "name": "stderr",
     "output_type": "stream",
     "text": [
      "grdblend [NOTICE]: Remote data courtesy of GMT data server oceania [http://oceania.generic-mapping-tools.org]\n",
      "\n",
      "grdblend [NOTICE]: SRTM15 Earth Relief at 30x30 arc seconds reduced by Gaussian Cartesian filtering (1 km fullwidth) [Tozer et al., 2019].\n",
      "grdblend [NOTICE]:   -> Download 15x15 degree grid tile (earth_relief_30s_p): N30W120\n"
     ]
    }
   ],
   "source": [
    "C = makecpt(cmap=:rainbow, range=(1000,5000));\n",
    "grdimage(\"@earth_relief_30s\", region=(-108,-103,35,40), proj=:merc, frame=(axes=:WSnE,))\n",
    "colorbar!(pos=(outside=:TC,), shade=0.4, xaxis=(annot=:auto,), ylabel=:m, show=true)"
   ]
  },
  {
   "cell_type": "code",
   "execution_count": 165,
   "metadata": {},
   "outputs": [
    {
     "name": "stderr",
     "output_type": "stream",
     "text": [
      "GMT [WARNING]: Remote dataset given to a data processing module but no registration was specified - default to gridline registration (if available)\n",
      "grdcut [WARNING]: (w - x_min) must equal (NX + eps) * x_inc), where NX is an integer and |eps| <= 0.0001.\n",
      "grdcut [WARNING]: w reset from 6.6166 to 6.60833333333\n",
      "grdcut [WARNING]: (e - x_min) must equal (NX + eps) * x_inc), where NX is an integer and |eps| <= 0.0001.\n",
      "grdcut [WARNING]: e reset from 18.5166 to 18.5166666667\n",
      "grdcut [WARNING]: (n - y_min) must equal (NY + eps) * y_inc), where NY is an integer and |eps| <= 0.0001.\n",
      "grdcut [WARNING]: n reset from 47.0833 to 47.0833333333\n"
     ]
    }
   ],
   "source": [
    "C = makecpt(cmap=:rainbow, range=(-200,2000));\n",
    "G = grdcut(\"@earth_relief_30s\", region=(6.6166,18.5166,35.5,47.0833));\n",
    "Ggrad = grdgradient(G, norm=(laplace=0.8,), azim=100, colinfo=:g);\n",
    "grdimage(G, shade=Ggrad, proj=:merc, frame=(axes=:WSnE,))\n",
    "colorbar!(pos=(outside=:TC,), shade=0.4, xaxis=(annot=:auto,), ylabel=:m, show=true)"
   ]
  },
  {
   "cell_type": "code",
   "execution_count": 177,
   "metadata": {},
   "outputs": [
    {
     "name": "stderr",
     "output_type": "stream",
     "text": [
      "GMT [WARNING]: Remote dataset given to a data processing module but no registration was specified - default to gridline registration (if available)\n",
      "grdcut [WARNING]: (w - x_min) must equal (NX + eps) * x_inc), where NX is an integer and |eps| <= 0.0001.\n",
      "grdcut [WARNING]: w reset from 6.6166 to 6.60833333333\n",
      "grdcut [WARNING]: (e - x_min) must equal (NX + eps) * x_inc), where NX is an integer and |eps| <= 0.0001.\n",
      "grdcut [WARNING]: e reset from 18.5166 to 18.5166666667\n",
      "grdcut [WARNING]: (n - y_min) must equal (NY + eps) * y_inc), where NY is an integer and |eps| <= 0.0001.\n",
      "grdcut [WARNING]: n reset from 47.0833 to 47.0833333333\n"
     ]
    }
   ],
   "source": [
    "C = makecpt(cmap=:dem2, range=(0,2000));\n",
    "G = grdcut(\"@earth_relief_30s\", region=(6.6166,18.5166,35.5,47.0833));\n",
    "Ggrad = grdgradient(G, norm=(laplace=0.8,), azim=100, colinfo=:g);\n",
    "grdview(G, proj=:merc, figsize=10, view=(135,35), surftype=(image=50,), \n",
    "                shade=Ggrad, zsize=1.25, alpha=50)\n",
    "plot3d!(italy.Longitude, italy.Latitude, -italy.Depth,\n",
    "        markersize=marker_size, marker=:c, markerline=:faint,\n",
    "        color=C, zcolor=italy.Depth, alpha=20, \n",
    "        show=true)"
   ]
  },
  {
   "cell_type": "code",
   "execution_count": 189,
   "metadata": {},
   "outputs": [],
   "source": [
    "grdview(\"@earth_relief_30s\",  region=(6.6166,18.5166,35.5,47.0833), proj=:merc, zsize=5, figsize=13, view=(135,30), alpha=95)\n",
    "scatter3!(italy.Longitude, italy.Latitude, -italy.Depth,\n",
    "        markersize=marker_size, marker=:dot, markerline=:faint,\n",
    "        color=C, zcolor=italy.Depth, alpha=20, \n",
    "        show=true)"
   ]
  },
  {
   "cell_type": "code",
   "execution_count": 176,
   "metadata": {},
   "outputs": [],
   "source": [
    "plot3d(italy.Longitude, italy.Latitude, -italy.Depth,\n",
    "        markersize=marker_size, marker=:dot, markerline=:faint,\n",
    "        color=C, zcolor=italy.Depth, alpha=50, \n",
    "        show=true)"
   ]
  },
  {
   "cell_type": "code",
   "execution_count": null,
   "metadata": {},
   "outputs": [],
   "source": []
  }
 ],
 "metadata": {
  "kernelspec": {
   "display_name": "Julia 1.8.5",
   "language": "julia",
   "name": "julia-1.8"
  },
  "language_info": {
   "file_extension": ".jl",
   "mimetype": "application/julia",
   "name": "julia",
   "version": "1.8.5"
  },
  "orig_nbformat": 4
 },
 "nbformat": 4,
 "nbformat_minor": 2
}
