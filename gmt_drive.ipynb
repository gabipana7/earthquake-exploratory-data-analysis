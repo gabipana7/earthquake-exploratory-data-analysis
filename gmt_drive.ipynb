{
 "cells": [
  {
   "cell_type": "code",
   "execution_count": 51,
   "metadata": {},
   "outputs": [],
   "source": [
    "using CSV, FileIO, DataFrames, Dates\n",
    "using GMT"
   ]
  },
  {
   "cell_type": "code",
   "execution_count": 52,
   "metadata": {},
   "outputs": [],
   "source": [
    "region = \"Japan\"\n",
    "df = CSV.read(\"./data/$region.csv\", DataFrame);\n",
    "\n",
    "df = df[(df.Datetime .> DateTime(2010,1,1,0,0,0)),:];\n",
    "\n",
    "perspective = (140,40)\n",
    "z_control = \"Depth\"\n",
    "magnitude_threshold  = 4.0\n",
    "\n",
    "\n",
    "# path for resulting maps\n",
    "mkpath(\"./gmt/$region/\")\n",
    "\n",
    "# read data\n",
    "# df = CSV.read(\"./data/$region.csv\", DataFrame);\n",
    "\n",
    "# temporary path to store gmt generation files\n",
    "# mkpath(\"./tmp/$region/\")\n",
    "# cd(\"./tmp/$region/\")\n",
    "\n",
    "df = df[df.Magnitude .>= magnitude_threshold,:];"
   ]
  },
  {
   "cell_type": "code",
   "execution_count": 53,
   "metadata": {},
   "outputs": [
    {
     "data": {
      "text/plain": [
       "(119.9615, 155.8417, 18.3353, 49.1833)"
      ]
     },
     "metadata": {},
     "output_type": "display_data"
    }
   ],
   "source": [
    "# Get region's coordinates\n",
    "min_lon = minimum(df.Longitude)\n",
    "max_lon = maximum(df.Longitude)\n",
    "min_lat = minimum(df.Latitude)\n",
    "max_lat = maximum(df.Latitude);\n",
    "\n",
    "# Create the map coordinates\n",
    "map_coords = (min_lon,max_lon,min_lat,max_lat)"
   ]
  },
  {
   "cell_type": "code",
   "execution_count": 54,
   "metadata": {},
   "outputs": [
    {
     "name": "stderr",
     "output_type": "stream",
     "text": [
      "makecpt [WARNING]: Without inc in -T option, -Z has no effect (ignored)\n",
      "GMT [WARNING]: Remote dataset given to a data processing module but no registration was specified - default to gridline registration (if available)\n",
      "grdcut [WARNING]: (w - x_min) must equal (NX + eps) * x_inc), where NX is an integer and |eps| <= 0.0001.\n",
      "grdcut [WARNING]: w reset from 119.8615 to 119.85\n",
      "grdcut [WARNING]: (e - x_min) must equal (NX + eps) * x_inc), where NX is an integer and |eps| <= 0.0001.\n",
      "grdcut [WARNING]: e reset from 155.9417 to 155.95\n",
      "grdcut [WARNING]: (s - y_min) must equal (NY + eps) * y_inc), where NY is an integer and |eps| <= 0.0001.\n",
      "grdcut [WARNING]: s reset from 18.2353 to 18.2\n",
      "grdcut [WARNING]: (n - y_min) must equal (NY + eps) * y_inc), where NY is an integer and |eps| <= 0.0001.\n",
      "grdcut [WARNING]: n reset from 49.2833 to 49.3\n",
      "makecpt [WARNING]: Without inc in -T option, -Z has no effect (ignored)\n"
     ]
    }
   ],
   "source": [
    "# # Get region's coordinates\n",
    "# min_lon = minimum(df.Longitude)\n",
    "# max_lon = maximum(df.Longitude)\n",
    "# min_lat = minimum(df.Latitude)\n",
    "# max_lat = maximum(df.Latitude);\n",
    "\n",
    "# # Create the map coordinates\n",
    "map_coords = (min_lon-0.1,max_lon+0.1,min_lat-0.1,max_lat+0.1)\n",
    "# map_coords = (118.0, 152.0, 17.0, 40.0)\n",
    "\n",
    "# Colormap for the region topography\n",
    "C_map = makecpt(cmap=:geo, range=(-8000,8000), continuous=true);\n",
    "# Relief map of the region\n",
    "# relief_map = grdcut(\"@earth_relief_30s\", region=map_coords);\n",
    "relief_map = grdcut(\"@earth_relief_03m\", region=map_coords);\n",
    "\n",
    "\n",
    "# control marker size based on magnitude\n",
    "marker_size = [1.8^x/100 for x in df.Magnitude];\n",
    "\n",
    "# control marker color either by Magnitude or by Depth\n",
    "C_markers = makecpt(cmap=:seis, range=(minimum(df[!, z_control]),maximum(df[!, z_control])),continuous=true, inverse=true);\n",
    "zcolor_control = df[!, z_control];"
   ]
  },
  {
   "cell_type": "code",
   "execution_count": 67,
   "metadata": {},
   "outputs": [],
   "source": [
    "basemap(region=map_coords,frame=(axes=:SE), proj=:merc, t=50, view=perspective)\n",
    "\n",
    "grdview!(relief_map, proj=:merc, axis=:none, surftype=(image=100,), \n",
    "    cmap=C_map, zsize=1.5, t=50 , view=perspective)\n",
    "\n",
    "plot!(df.Longitude, df.Latitude, \n",
    "    markersize=marker_size, marker=:cc, markerline=:faint,\n",
    "    cmap=C_markers, zcolor=zcolor_control, t=50, view=perspective)\n",
    "\n",
    "\n",
    "colorbar!(pos=(outside=:MR, offset=(1.6,0)), shade=0.4, xaxis=(annot=:auto,), frame=(xlabel=z_control,),par=(MAP_LABEL_OFFSET=0.8,), \n",
    "            view=perspective, t=50, savefig=\"./gmt/$region/$(region)_semi3D_mag_$(magnitude_threshold)_$(z_control)_2.pdf\", show=true)\n",
    "\n",
    "\n",
    "            "
   ]
  },
  {
   "cell_type": "code",
   "execution_count": 56,
   "metadata": {},
   "outputs": [],
   "source": []
  },
  {
   "cell_type": "code",
   "execution_count": 57,
   "metadata": {},
   "outputs": [],
   "source": []
  },
  {
   "cell_type": "code",
   "execution_count": 58,
   "metadata": {},
   "outputs": [],
   "source": [
    "# region = \"Japan\"\n",
    "# df = CSV.read(\"./data/$region.csv\", DataFrame);\n",
    "\n",
    "# df = df[(df.Datetime .> DateTime(2010,1,1,0,0,0)),:];\n",
    "\n",
    "# magnitude_threshold = 2.0\n",
    "# z_control = \"Magnitude\"\n",
    "\n",
    "# mkpath(\"./gmt/$region/\")\n",
    "\n",
    "# # read data\n",
    "# # df = CSV.read(\"./data/$region.csv\", DataFrame);\n",
    "\n",
    "# # temporary path to store gmt generation files\n",
    "# mkpath(\"./tmp/$region/\")\n",
    "# cd(\"./tmp/$region/\")\n",
    "\n",
    "# df = df[df.Magnitude .>= magnitude_threshold,:];\n",
    "\n",
    "# # Get region's coordinates\n",
    "# min_lon = minimum(df.Longitude)\n",
    "# max_lon = maximum(df.Longitude)\n",
    "# min_lat = minimum(df.Latitude)\n",
    "# max_lat = maximum(df.Latitude);\n",
    "\n",
    "# # Create the map coordinates\n",
    "# map_coords = (min_lon,max_lon,min_lat,max_lat)\n",
    "\n",
    "\n",
    "# # Colormap for the region topography\n",
    "# C_map = makecpt(cmap=:geo, range=(-8000,8000), continuous=true);\n",
    "# # Relief map of the region\n",
    "# relief_map = grdcut(\"@earth_relief_30s\", region=map_coords);\n",
    "\n",
    "\n",
    "# basemap(region=map_coords,frame=(axes=:WSne), proj=:merc)\n",
    "\n",
    "# grdview!(relief_map, proj=:merc, axis=:none, surftype=(image=100,), \n",
    "#         cmap=C_map, zsize=1.5, alpha=30)\n",
    "\n",
    "# plot!(df.Longitude, df.Latitude, \n",
    "#         markersize=marker_size, marker=:cc, markerline=:faint,\n",
    "#         cmap=C_markers, zcolor=zcolor_control, alpha=60)\n",
    "\n",
    "\n",
    "# colorbar!(pos=(outside=:MR, offset=(1.0,0)), shade=0.4, xaxis=(annot=:auto,), frame=(xlabel=z_control,),par=(MAP_LABEL_OFFSET=0.8,), \n",
    "#         savefig=\"../../gmt/$region/$(region)_2D_mag_$(magnitude_threshold)_$(z_control).png\")\n",
    "\n",
    "\n",
    "# cd(\"..\")\n",
    "# cd(\"..\")"
   ]
  }
 ],
 "metadata": {
  "kernelspec": {
   "display_name": "Julia 1.8.5",
   "language": "julia",
   "name": "julia-1.8"
  },
  "language_info": {
   "file_extension": ".jl",
   "mimetype": "application/julia",
   "name": "julia",
   "version": "1.8.5"
  },
  "orig_nbformat": 4
 },
 "nbformat": 4,
 "nbformat_minor": 2
}
