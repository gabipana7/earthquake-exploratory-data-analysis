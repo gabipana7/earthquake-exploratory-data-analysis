{
 "cells": [
  {
   "cell_type": "code",
   "execution_count": 1,
   "metadata": {},
   "outputs": [],
   "source": [
    "using CSV, FileIO, DataFrames, Dates\n",
    "using GMT"
   ]
  },
  {
   "cell_type": "code",
   "execution_count": 2,
   "metadata": {},
   "outputs": [
    {
     "data": {
      "text/plain": [
       "\"./gmt/Japan\""
      ]
     },
     "metadata": {},
     "output_type": "display_data"
    }
   ],
   "source": [
    "region = \"Japan\"\n",
    "df = CSV.read(\"./data/$region.csv\", DataFrame);\n",
    "\n",
    "df = df[(df.Datetime .> DateTime(2010,1,1,0,0,0)),:];\n",
    "\n",
    "perspective = (140,40)\n",
<<<<<<< HEAD
    "z_control = \"Magnitude\"\n",
=======
    "z_control = \"Depth\"\n",
>>>>>>> 0297457257caee25618eb3eeb3f4b214f903c9e4
    "magnitude_threshold  = 2.0\n",
    "\n",
    "\n",
    "# path for resulting maps\n",
    "mkpath(\"./gmt/$region/\")\n",
    "\n",
    "# read data\n",
    "# df = CSV.read(\"./data/$region.csv\", DataFrame);\n",
    "\n",
    "# temporary path to store gmt generation files\n",
    "# mkpath(\"./tmp/$region/\")\n",
    "# cd(\"./tmp/$region/\")\n",
    "\n"
   ]
  },
  {
   "cell_type": "code",
   "execution_count": 3,
<<<<<<< HEAD
   "metadata": {},
   "outputs": [
    {
     "data": {
      "text/html": [
       "<div><div style = \"float: left;\"><span>367127×6 DataFrame</span></div><div style = \"float: right;\"><span style = \"font-style: italic;\">367102 rows omitted</span></div><div style = \"clear: both;\"></div></div><div class = \"data-frame\" style = \"overflow-x: scroll;\"><table class = \"data-frame\" style = \"margin-bottom: 6px;\"><thead><tr class = \"header\"><th class = \"rowNumber\" style = \"font-weight: bold; text-align: right;\">Row</th><th style = \"text-align: left;\">Datetime</th><th style = \"text-align: left;\">Latitude</th><th style = \"text-align: left;\">Longitude</th><th style = \"text-align: left;\">Depth</th><th style = \"text-align: left;\">Magnitude</th><th style = \"text-align: left;\">Magnitude_type</th></tr><tr class = \"subheader headerLastRow\"><th class = \"rowNumber\" style = \"font-weight: bold; text-align: right;\"></th><th title = \"DateTime\" style = \"text-align: left;\">DateTime</th><th title = \"Float64\" style = \"text-align: left;\">Float64</th><th title = \"Float64\" style = \"text-align: left;\">Float64</th><th title = \"Float64\" style = \"text-align: left;\">Float64</th><th title = \"Float64\" style = \"text-align: left;\">Float64</th><th title = \"String1\" style = \"text-align: left;\">String1</th></tr></thead><tbody><tr><td class = \"rowNumber\" style = \"font-weight: bold; text-align: right;\">1</td><td style = \"text-align: left;\">2010-01-01T01:22:35.100</td><td style = \"text-align: right;\">24.3348</td><td style = \"text-align: right;\">125.111</td><td style = \"text-align: right;\">0.04</td><td style = \"text-align: right;\">2.5</td><td style = \"text-align: left;\">v</td></tr><tr><td class = \"rowNumber\" style = \"font-weight: bold; text-align: right;\">2</td><td style = \"text-align: left;\">2010-01-01T01:53:34.810</td><td style = \"text-align: right;\">31.0007</td><td style = \"text-align: right;\">130.383</td><td style = \"text-align: right;\">131.63</td><td style = \"text-align: right;\">2.0</td><td style = \"text-align: left;\">V</td></tr><tr><td class = \"rowNumber\" style = \"font-weight: bold; text-align: right;\">3</td><td style = \"text-align: left;\">2010-01-01T03:28:59.320</td><td style = \"text-align: right;\">41.9255</td><td style = \"text-align: right;\">142.944</td><td style = \"text-align: right;\">42.23</td><td style = \"text-align: right;\">3.0</td><td style = \"text-align: left;\">V</td></tr><tr><td class = \"rowNumber\" style = \"font-weight: bold; text-align: right;\">4</td><td style = \"text-align: left;\">2010-01-01T03:44:09.970</td><td style = \"text-align: right;\">29.585</td><td style = \"text-align: right;\">130.086</td><td style = \"text-align: right;\">60.12</td><td style = \"text-align: right;\">2.5</td><td style = \"text-align: left;\">V</td></tr><tr><td class = \"rowNumber\" style = \"font-weight: bold; text-align: right;\">5</td><td style = \"text-align: left;\">2010-01-01T04:02:09.450</td><td style = \"text-align: right;\">38.3563</td><td style = \"text-align: right;\">142.292</td><td style = \"text-align: right;\">35.56</td><td style = \"text-align: right;\">2.2</td><td style = \"text-align: left;\">V</td></tr><tr><td class = \"rowNumber\" style = \"font-weight: bold; text-align: right;\">6</td><td style = \"text-align: left;\">2010-01-01T04:12:23.270</td><td style = \"text-align: right;\">28.1098</td><td style = \"text-align: right;\">128.076</td><td style = \"text-align: right;\">7.57</td><td style = \"text-align: right;\">2.7</td><td style = \"text-align: left;\">V</td></tr><tr><td class = \"rowNumber\" style = \"font-weight: bold; text-align: right;\">7</td><td style = \"text-align: left;\">2010-01-01T04:24:35.640</td><td style = \"text-align: right;\">27.8093</td><td style = \"text-align: right;\">127.922</td><td style = \"text-align: right;\">0.0</td><td style = \"text-align: right;\">2.4</td><td style = \"text-align: left;\">V</td></tr><tr><td class = \"rowNumber\" style = \"font-weight: bold; text-align: right;\">8</td><td style = \"text-align: left;\">2010-01-01T04:29:07.320</td><td style = \"text-align: right;\">28.9317</td><td style = \"text-align: right;\">129.473</td><td style = \"text-align: right;\">0.42</td><td style = \"text-align: right;\">2.7</td><td style = \"text-align: left;\">V</td></tr><tr><td class = \"rowNumber\" style = \"font-weight: bold; text-align: right;\">9</td><td style = \"text-align: left;\">2010-01-01T04:32:28.980</td><td style = \"text-align: right;\">27.8225</td><td style = \"text-align: right;\">127.908</td><td style = \"text-align: right;\">0.06</td><td style = \"text-align: right;\">3.0</td><td style = \"text-align: left;\">V</td></tr><tr><td class = \"rowNumber\" style = \"font-weight: bold; text-align: right;\">10</td><td style = \"text-align: left;\">2010-01-01T04:40:04.270</td><td style = \"text-align: right;\">27.8298</td><td style = \"text-align: right;\">127.914</td><td style = \"text-align: right;\">0.0</td><td style = \"text-align: right;\">3.2</td><td style = \"text-align: left;\">V</td></tr><tr><td class = \"rowNumber\" style = \"font-weight: bold; text-align: right;\">11</td><td style = \"text-align: left;\">2010-01-01T04:40:14.140</td><td style = \"text-align: right;\">23.9535</td><td style = \"text-align: right;\">122.641</td><td style = \"text-align: right;\">0.15</td><td style = \"text-align: right;\">2.3</td><td style = \"text-align: left;\">V</td></tr><tr><td class = \"rowNumber\" style = \"font-weight: bold; text-align: right;\">12</td><td style = \"text-align: left;\">2010-01-01T05:24:43.940</td><td style = \"text-align: right;\">31.8402</td><td style = \"text-align: right;\">131.892</td><td style = \"text-align: right;\">34.65</td><td style = \"text-align: right;\">2.3</td><td style = \"text-align: left;\">V</td></tr><tr><td class = \"rowNumber\" style = \"font-weight: bold; text-align: right;\">13</td><td style = \"text-align: left;\">2010-01-01T05:42:15.270</td><td style = \"text-align: right;\">34.818</td><td style = \"text-align: right;\">138.502</td><td style = \"text-align: right;\">18.43</td><td style = \"text-align: right;\">2.8</td><td style = \"text-align: left;\">V</td></tr><tr><td style = \"text-align: right;\">&vellip;</td><td style = \"text-align: right;\">&vellip;</td><td style = \"text-align: right;\">&vellip;</td><td style = \"text-align: right;\">&vellip;</td><td style = \"text-align: right;\">&vellip;</td><td style = \"text-align: right;\">&vellip;</td><td style = \"text-align: right;\">&vellip;</td></tr><tr><td class = \"rowNumber\" style = \"font-weight: bold; text-align: right;\">367116</td><td style = \"text-align: left;\">2020-08-31T16:01:10.410</td><td style = \"text-align: right;\">37.3053</td><td style = \"text-align: right;\">142.054</td><td style = \"text-align: right;\">28.8</td><td style = \"text-align: right;\">2.1</td><td style = \"text-align: left;\">V</td></tr><tr><td class = \"rowNumber\" style = \"font-weight: bold; text-align: right;\">367117</td><td style = \"text-align: left;\">2020-08-31T16:05:58.860</td><td style = \"text-align: right;\">36.6157</td><td style = \"text-align: right;\">138.375</td><td style = \"text-align: right;\">1.29</td><td style = \"text-align: right;\">2.3</td><td style = \"text-align: left;\">V</td></tr><tr><td class = \"rowNumber\" style = \"font-weight: bold; text-align: right;\">367118</td><td style = \"text-align: left;\">2020-08-31T16:42:59.460</td><td style = \"text-align: right;\">35.8013</td><td style = \"text-align: right;\">140.966</td><td style = \"text-align: right;\">30.84</td><td style = \"text-align: right;\">2.1</td><td style = \"text-align: left;\">V</td></tr><tr><td class = \"rowNumber\" style = \"font-weight: bold; text-align: right;\">367119</td><td style = \"text-align: left;\">2020-08-31T18:38:42.400</td><td style = \"text-align: right;\">39.5537</td><td style = \"text-align: right;\">143.875</td><td style = \"text-align: right;\">0.2</td><td style = \"text-align: right;\">2.4</td><td style = \"text-align: left;\">v</td></tr><tr><td class = \"rowNumber\" style = \"font-weight: bold; text-align: right;\">367120</td><td style = \"text-align: left;\">2020-08-31T18:46:30.430</td><td style = \"text-align: right;\">23.9832</td><td style = \"text-align: right;\">121.719</td><td style = \"text-align: right;\">59.38</td><td style = \"text-align: right;\">2.9</td><td style = \"text-align: left;\">v</td></tr><tr><td class = \"rowNumber\" style = \"font-weight: bold; text-align: right;\">367121</td><td style = \"text-align: left;\">2020-08-31T19:34:29.050</td><td style = \"text-align: right;\">42.8735</td><td style = \"text-align: right;\">145.688</td><td style = \"text-align: right;\">46.43</td><td style = \"text-align: right;\">2.1</td><td style = \"text-align: left;\">V</td></tr><tr><td class = \"rowNumber\" style = \"font-weight: bold; text-align: right;\">367122</td><td style = \"text-align: left;\">2020-08-31T19:37:46.150</td><td style = \"text-align: right;\">33.5178</td><td style = \"text-align: right;\">140.827</td><td style = \"text-align: right;\">0.55</td><td style = \"text-align: right;\">2.2</td><td style = \"text-align: left;\">v</td></tr><tr><td class = \"rowNumber\" style = \"font-weight: bold; text-align: right;\">367123</td><td style = \"text-align: left;\">2020-08-31T20:34:27.220</td><td style = \"text-align: right;\">32.7028</td><td style = \"text-align: right;\">141.759</td><td style = \"text-align: right;\">1.08</td><td style = \"text-align: right;\">2.8</td><td style = \"text-align: left;\">V</td></tr><tr><td class = \"rowNumber\" style = \"font-weight: bold; text-align: right;\">367124</td><td style = \"text-align: left;\">2020-08-31T21:06:42.860</td><td style = \"text-align: right;\">24.8243</td><td style = \"text-align: right;\">121.957</td><td style = \"text-align: right;\">0.4</td><td style = \"text-align: right;\">2.9</td><td style = \"text-align: left;\">v</td></tr><tr><td class = \"rowNumber\" style = \"font-weight: bold; text-align: right;\">367125</td><td style = \"text-align: left;\">2020-08-31T21:40:20.120</td><td style = \"text-align: right;\">43.9847</td><td style = \"text-align: right;\">148.015</td><td style = \"text-align: right;\">0.0</td><td style = \"text-align: right;\">3.0</td><td style = \"text-align: left;\">v</td></tr><tr><td class = \"rowNumber\" style = \"font-weight: bold; text-align: right;\">367126</td><td style = \"text-align: left;\">2020-08-31T21:56:12.180</td><td style = \"text-align: right;\">37.282</td><td style = \"text-align: right;\">142.176</td><td style = \"text-align: right;\">21.43</td><td style = \"text-align: right;\">2.2</td><td style = \"text-align: left;\">V</td></tr><tr><td class = \"rowNumber\" style = \"font-weight: bold; text-align: right;\">367127</td><td style = \"text-align: left;\">2020-08-31T22:56:40.520</td><td style = \"text-align: right;\">38.3535</td><td style = \"text-align: right;\">142.097</td><td style = \"text-align: right;\">29.74</td><td style = \"text-align: right;\">2.0</td><td style = \"text-align: left;\">V</td></tr></tbody></table></div>"
      ],
      "text/latex": [
       "\\begin{tabular}{r|cccccc}\n",
       "\t& Datetime & Latitude & Longitude & Depth & Magnitude & Magnitude\\_type\\\\\n",
       "\t\\hline\n",
       "\t& DateTime & Float64 & Float64 & Float64 & Float64 & String1\\\\\n",
       "\t\\hline\n",
       "\t1 & 2010-01-01T01:22:35.100 & 24.3348 & 125.111 & 0.04 & 2.5 & v \\\\\n",
       "\t2 & 2010-01-01T01:53:34.810 & 31.0007 & 130.383 & 131.63 & 2.0 & V \\\\\n",
       "\t3 & 2010-01-01T03:28:59.320 & 41.9255 & 142.944 & 42.23 & 3.0 & V \\\\\n",
       "\t4 & 2010-01-01T03:44:09.970 & 29.585 & 130.086 & 60.12 & 2.5 & V \\\\\n",
       "\t5 & 2010-01-01T04:02:09.450 & 38.3563 & 142.292 & 35.56 & 2.2 & V \\\\\n",
       "\t6 & 2010-01-01T04:12:23.270 & 28.1098 & 128.076 & 7.57 & 2.7 & V \\\\\n",
       "\t7 & 2010-01-01T04:24:35.640 & 27.8093 & 127.922 & 0.0 & 2.4 & V \\\\\n",
       "\t8 & 2010-01-01T04:29:07.320 & 28.9317 & 129.473 & 0.42 & 2.7 & V \\\\\n",
       "\t9 & 2010-01-01T04:32:28.980 & 27.8225 & 127.908 & 0.06 & 3.0 & V \\\\\n",
       "\t10 & 2010-01-01T04:40:04.270 & 27.8298 & 127.914 & 0.0 & 3.2 & V \\\\\n",
       "\t11 & 2010-01-01T04:40:14.140 & 23.9535 & 122.641 & 0.15 & 2.3 & V \\\\\n",
       "\t12 & 2010-01-01T05:24:43.940 & 31.8402 & 131.892 & 34.65 & 2.3 & V \\\\\n",
       "\t13 & 2010-01-01T05:42:15.270 & 34.818 & 138.502 & 18.43 & 2.8 & V \\\\\n",
       "\t14 & 2010-01-01T06:04:14.020 & 43.2837 & 146.157 & 45.0 & 2.8 & V \\\\\n",
       "\t15 & 2010-01-01T06:27:04.680 & 39.0625 & 143.898 & 0.14 & 2.3 & V \\\\\n",
       "\t16 & 2010-01-01T06:29:55.070 & 24.7222 & 123.18 & 97.81 & 3.0 & V \\\\\n",
       "\t17 & 2010-01-01T06:52:00.370 & 43.1713 & 144.521 & 89.39 & 2.6 & V \\\\\n",
       "\t18 & 2010-01-01T06:52:56.990 & 37.8788 & 141.574 & 79.67 & 2.6 & V \\\\\n",
       "\t19 & 2010-01-01T07:27:43.470 & 27.8197 & 127.922 & 4.16 & 2.8 & V \\\\\n",
       "\t20 & 2010-01-01T07:41:07.220 & 25.543 & 128.444 & 0.54 & 2.3 & V \\\\\n",
       "\t21 & 2010-01-01T09:01:09.170 & 41.184 & 138.922 & 19.47 & 2.3 & V \\\\\n",
       "\t22 & 2010-01-01T09:04:56.500 & 36.6102 & 139.978 & 95.35 & 2.1 & V \\\\\n",
       "\t23 & 2010-01-01T09:15:08.520 & 27.1282 & 130.042 & 0.44 & 2.4 & V \\\\\n",
       "\t24 & 2010-01-01T09:19:31.730 & 41.1877 & 138.905 & 32.8 & 2.9 & V \\\\\n",
       "\t$\\dots$ & $\\dots$ & $\\dots$ & $\\dots$ & $\\dots$ & $\\dots$ & $\\dots$ \\\\\n",
       "\\end{tabular}\n"
      ],
      "text/plain": [
       "\u001b[1m367127×6 DataFrame\u001b[0m\n",
       "\u001b[1m    Row \u001b[0m│\u001b[1m Datetime                \u001b[0m\u001b[1m Latitude \u001b[0m\u001b[1m Longitude \u001b[0m\u001b[1m Depth   \u001b[0m\u001b[1m Magnitude \u001b[0m\u001b[1m Ma\u001b[0m ⋯\n",
       "        │\u001b[90m DateTime                \u001b[0m\u001b[90m Float64  \u001b[0m\u001b[90m Float64   \u001b[0m\u001b[90m Float64 \u001b[0m\u001b[90m Float64   \u001b[0m\u001b[90m St\u001b[0m ⋯\n",
       "────────┼───────────────────────────────────────────────────────────────────────\n",
       "      1 │ 2010-01-01T01:22:35.100   24.3348    125.111     0.04        2.5  v  ⋯\n",
       "      2 │ 2010-01-01T01:53:34.810   31.0007    130.383   131.63        2.0  V\n",
       "      3 │ 2010-01-01T03:28:59.320   41.9255    142.944    42.23        3.0  V\n",
       "      4 │ 2010-01-01T03:44:09.970   29.585     130.086    60.12        2.5  V\n",
       "      5 │ 2010-01-01T04:02:09.450   38.3563    142.292    35.56        2.2  V  ⋯\n",
       "      6 │ 2010-01-01T04:12:23.270   28.1098    128.076     7.57        2.7  V\n",
       "      7 │ 2010-01-01T04:24:35.640   27.8093    127.922     0.0         2.4  V\n",
       "      8 │ 2010-01-01T04:29:07.320   28.9317    129.473     0.42        2.7  V\n",
       "   ⋮    │            ⋮                ⋮          ⋮         ⋮         ⋮         ⋱\n",
       " 367121 │ 2020-08-31T19:34:29.050   42.8735    145.688    46.43        2.1  V  ⋯\n",
       " 367122 │ 2020-08-31T19:37:46.150   33.5178    140.827     0.55        2.2  v\n",
       " 367123 │ 2020-08-31T20:34:27.220   32.7028    141.759     1.08        2.8  V\n",
       " 367124 │ 2020-08-31T21:06:42.860   24.8243    121.957     0.4         2.9  v\n",
       " 367125 │ 2020-08-31T21:40:20.120   43.9847    148.015     0.0         3.0  v  ⋯\n",
       " 367126 │ 2020-08-31T21:56:12.180   37.282     142.176    21.43        2.2  V\n",
       " 367127 │ 2020-08-31T22:56:40.520   38.3535    142.097    29.74        2.0  V\n",
       "\u001b[36m                                                1 column and 367112 rows omitted\u001b[0m"
      ]
     },
     "metadata": {},
     "output_type": "display_data"
    }
   ],
   "source": [
    "df"
   ]
  },
  {
   "cell_type": "code",
   "execution_count": 4,
   "metadata": {},
   "outputs": [
    {
     "data": {
      "text/html": [
       "<div><div style = \"float: left;\"><span>6×7 DataFrame</span></div><div style = \"clear: both;\"></div></div><div class = \"data-frame\" style = \"overflow-x: scroll;\"><table class = \"data-frame\" style = \"margin-bottom: 6px;\"><thead><tr class = \"header\"><th class = \"rowNumber\" style = \"font-weight: bold; text-align: right;\">Row</th><th style = \"text-align: left;\">variable</th><th style = \"text-align: left;\">mean</th><th style = \"text-align: left;\">min</th><th style = \"text-align: left;\">median</th><th style = \"text-align: left;\">max</th><th style = \"text-align: left;\">nmissing</th><th style = \"text-align: left;\">eltype</th></tr><tr class = \"subheader headerLastRow\"><th class = \"rowNumber\" style = \"font-weight: bold; text-align: right;\"></th><th title = \"Symbol\" style = \"text-align: left;\">Symbol</th><th title = \"Union{Nothing, Float64}\" style = \"text-align: left;\">Union…</th><th title = \"Any\" style = \"text-align: left;\">Any</th><th title = \"Any\" style = \"text-align: left;\">Any</th><th title = \"Any\" style = \"text-align: left;\">Any</th><th title = \"Int64\" style = \"text-align: left;\">Int64</th><th title = \"DataType\" style = \"text-align: left;\">DataType</th></tr></thead><tbody><tr><td class = \"rowNumber\" style = \"font-weight: bold; text-align: right;\">1</td><td style = \"text-align: left;\">Datetime</td><td style = \"font-style: italic; text-align: left;\"></td><td style = \"text-align: left;\">2010-01-01T01:22:35.100</td><td style = \"text-align: left;\">2013-11-29T06:36:41.040</td><td style = \"text-align: left;\">2020-08-31T22:56:40.520</td><td style = \"text-align: right;\">0</td><td style = \"text-align: left;\">DateTime</td></tr><tr><td class = \"rowNumber\" style = \"font-weight: bold; text-align: right;\">2</td><td style = \"text-align: left;\">Latitude</td><td style = \"text-align: left;\">34.9884</td><td style = \"text-align: left;\">18.3353</td><td style = \"text-align: left;\">36.6412</td><td style = \"text-align: left;\">49.1833</td><td style = \"text-align: right;\">0</td><td style = \"text-align: left;\">Float64</td></tr><tr><td class = \"rowNumber\" style = \"font-weight: bold; text-align: right;\">3</td><td style = \"text-align: left;\">Longitude</td><td style = \"text-align: left;\">137.87</td><td style = \"text-align: left;\">119.962</td><td style = \"text-align: left;\">140.943</td><td style = \"text-align: left;\">155.842</td><td style = \"text-align: right;\">0</td><td style = \"text-align: left;\">Float64</td></tr><tr><td class = \"rowNumber\" style = \"font-weight: bold; text-align: right;\">4</td><td style = \"text-align: left;\">Depth</td><td style = \"text-align: left;\">29.3165</td><td style = \"text-align: left;\">0.0</td><td style = \"text-align: left;\">18.35</td><td style = \"text-align: left;\">698.4</td><td style = \"text-align: right;\">0</td><td style = \"text-align: left;\">Float64</td></tr><tr><td class = \"rowNumber\" style = \"font-weight: bold; text-align: right;\">5</td><td style = \"text-align: left;\">Magnitude</td><td style = \"text-align: left;\">2.67951</td><td style = \"text-align: left;\">2.0</td><td style = \"text-align: left;\">2.5</td><td style = \"text-align: left;\">9.0</td><td style = \"text-align: right;\">0</td><td style = \"text-align: left;\">Float64</td></tr><tr><td class = \"rowNumber\" style = \"font-weight: bold; text-align: right;\">6</td><td style = \"text-align: left;\">Magnitude_type</td><td style = \"font-style: italic; text-align: left;\"></td><td style = \"text-align: left;\">D</td><td style = \"font-style: italic; text-align: left;\"></td><td style = \"text-align: left;\">v</td><td style = \"text-align: right;\">0</td><td style = \"text-align: left;\">String1</td></tr></tbody></table></div>"
      ],
      "text/latex": [
       "\\begin{tabular}{r|cccccc}\n",
       "\t& variable & mean & min & median & max & \\\\\n",
       "\t\\hline\n",
       "\t& Symbol & Union… & Any & Any & Any & \\\\\n",
       "\t\\hline\n",
       "\t1 & Datetime &  & 2010-01-01T01:22:35.100 & 2013-11-29T06:36:41.040 & 2020-08-31T22:56:40.520 & $\\dots$ \\\\\n",
       "\t2 & Latitude & 34.9884 & 18.3353 & 36.6412 & 49.1833 & $\\dots$ \\\\\n",
       "\t3 & Longitude & 137.87 & 119.962 & 140.943 & 155.842 & $\\dots$ \\\\\n",
       "\t4 & Depth & 29.3165 & 0.0 & 18.35 & 698.4 & $\\dots$ \\\\\n",
       "\t5 & Magnitude & 2.67951 & 2.0 & 2.5 & 9.0 & $\\dots$ \\\\\n",
       "\t6 & Magnitude\\_type &  & D &  & v & $\\dots$ \\\\\n",
       "\\end{tabular}\n"
      ],
      "text/plain": [
       "\u001b[1m6×7 DataFrame\u001b[0m\n",
       "\u001b[1m Row \u001b[0m│\u001b[1m variable       \u001b[0m\u001b[1m mean    \u001b[0m\u001b[1m min                     \u001b[0m\u001b[1m median               \u001b[0m ⋯\n",
       "     │\u001b[90m Symbol         \u001b[0m\u001b[90m Union…  \u001b[0m\u001b[90m Any                     \u001b[0m\u001b[90m Any                  \u001b[0m ⋯\n",
       "─────┼──────────────────────────────────────────────────────────────────────────\n",
       "   1 │ Datetime       \u001b[90m         \u001b[0m 2010-01-01T01:22:35.100  2013-11-29T06:36:41.0 ⋯\n",
       "   2 │ Latitude        34.9884  18.3353                  36.6412\n",
       "   3 │ Longitude       137.87   119.962                  140.943\n",
       "   4 │ Depth           29.3165  0.0                      18.35\n",
       "   5 │ Magnitude       2.67951  2.0                      2.5                   ⋯\n",
       "   6 │ Magnitude_type \u001b[90m         \u001b[0m D                       \u001b[90m                      \u001b[0m\n",
       "\u001b[36m                                                               4 columns omitted\u001b[0m"
      ]
     },
     "metadata": {},
     "output_type": "display_data"
    }
   ],
   "source": [
    "describe(df)"
   ]
  },
  {
   "cell_type": "code",
   "execution_count": 3,
=======
>>>>>>> 0297457257caee25618eb3eeb3f4b214f903c9e4
   "metadata": {},
   "outputs": [
    {
     "data": {
      "text/plain": [
       "(119.9615, 155.8417, 18.3353, 49.1833)"
      ]
     },
     "metadata": {},
     "output_type": "display_data"
    }
   ],
   "source": [
    "# Get region's coordinates\n",
    "min_lon = minimum(df.Longitude)\n",
    "max_lon = maximum(df.Longitude)\n",
    "min_lat = minimum(df.Latitude)\n",
    "max_lat = maximum(df.Latitude);\n",
    "\n",
    "# Create the map coordinates\n",
    "map_coords = (min_lon,max_lon,min_lat,max_lat)"
   ]
  },
  {
   "cell_type": "code",
   "execution_count": 4,
   "metadata": {},
   "outputs": [
    {
     "name": "stderr",
     "output_type": "stream",
     "text": [
      "makecpt [WARNING]: Without inc in -T option, -Z has no effect (ignored)\n",
      "GMT [WARNING]: Remote dataset given to a data processing module but no registration was specified - default to gridline registration (if available)\n",
      "grdcut [WARNING]: (w - x_min) must equal (NX + eps) * x_inc), where NX is an integer and |eps| <= 0.0001.\n",
      "grdcut [WARNING]: w reset from 119.8615 to 119.85\n",
      "grdcut [WARNING]: (e - x_min) must equal (NX + eps) * x_inc), where NX is an integer and |eps| <= 0.0001.\n",
      "grdcut [WARNING]: e reset from 155.9417 to 155.95\n",
      "grdcut [WARNING]: (s - y_min) must equal (NY + eps) * y_inc), where NY is an integer and |eps| <= 0.0001.\n",
      "grdcut [WARNING]: s reset from 18.2353 to 18.2\n",
      "grdcut [WARNING]: (n - y_min) must equal (NY + eps) * y_inc), where NY is an integer and |eps| <= 0.0001.\n",
      "grdcut [WARNING]: n reset from 49.2833 to 49.3\n",
      "makecpt [WARNING]: Without inc in -T option, -Z has no effect (ignored)\n"
     ]
    }
   ],
   "source": [
    "# # Get region's coordinates\n",
    "# min_lon = minimum(df.Longitude)\n",
    "# max_lon = maximum(df.Longitude)\n",
    "# min_lat = minimum(df.Latitude)\n",
    "# max_lat = maximum(df.Latitude);\n",
    "\n",
    "# # Create the map coordinates\n",
    "map_coords = (min_lon-0.1,max_lon+0.1,min_lat-0.1,max_lat+0.1)\n",
    "# map_coords = (118.0, 152.0, 17.0, 40.0)\n",
    "\n",
    "# Colormap for the region topography\n",
    "C_map = makecpt(cmap=:geo, range=(-8000,8000), continuous=true);\n",
    "# Relief map of the region\n",
    "\n",
    "\n",
    "# relief_map = grdcut(\"@earth_relief_06m\", region=map_coords);\n",
    "\n",
    "# Japan working\n",
    "relief_map = grdcut(\"@earth_relief_03m\", region=map_coords);\n",
    "\n",
    "\n",
    "# control marker size based on magnitude\n",
    "marker_size = [1.8^x/100 for x in df.Magnitude];\n",
    "\n",
    "# control marker color either by Magnitude or by Depth\n",
    "C_markers = makecpt(cmap=:seis, range=(minimum(df[!, z_control]),maximum(df[!, z_control])),continuous=true, inverse=true);\n",
    "zcolor_control = df[!, z_control];"
   ]
  },
  {
   "cell_type": "code",
   "execution_count": 5,
   "metadata": {},
   "outputs": [],
   "source": [
    "basemap(region=map_coords,frame=(axes=:SE), proj=:merc, view=perspective)\n",
    "\n",
    "grdview!(relief_map, proj=:merc, axis=:none, surftype=(image=2000,), \n",
<<<<<<< HEAD
    "    cmap=C_map, zsize=1.5, alpha=50 , view=perspective)\n",
    "\n",
    "plot!(df.Longitude, df.Latitude, \n",
    "    markersize=marker_size, marker=:cc, markerline=:faint,\n",
    "    cmap=C_markers, zcolor=zcolor_control, alpha=50, view=perspective)\n",
    "\n",
    "\n",
    "colorbar!(pos=(outside=:MR, offset=(1.6,0)), shade=0.4, xaxis=(annot=:auto,), frame=(xlabel=z_control,),par=(MAP_LABEL_OFFSET=0.8,), \n",
    "            view=perspective, savefig=\"./gmt/$region/$(region)_semi3D_mag_$(magnitude_threshold)_$(z_control).png\", show=true)\n",
    "\n",
    "\n",
    "            "
=======
    "    cmap=C_map, zsize=1.5, alpha=7 , view=perspective)\n",
    "\n",
    "plot!(df.Longitude, df.Latitude, \n",
    "    markersize=marker_size, marker=:cc, markerline=:faint,\n",
    "    cmap=C_markers, zcolor=zcolor_control, alpha=60, view=perspective)\n",
    "\n",
    "\n",
    "colorbar!(pos=(outside=:MR, offset=(1.6,0)), shade=0.4, xaxis=(annot=:auto,), frame=(xlabel=z_control,),par=(MAP_LABEL_OFFSET=0.8,), \n",
    "            view=perspective, savefig=\"./gmt/$region/$(region)_semi3D_mag_$(magnitude_threshold)_$(z_control).png\")\n",
    "\n"
>>>>>>> 0297457257caee25618eb3eeb3f4b214f903c9e4
   ]
  },
  {
   "cell_type": "code",
<<<<<<< HEAD
   "execution_count": 6,
=======
   "execution_count": null,
>>>>>>> 0297457257caee25618eb3eeb3f4b214f903c9e4
   "metadata": {},
   "outputs": [],
   "source": []
  },
  {
   "cell_type": "code",
<<<<<<< HEAD
   "execution_count": 7,
=======
   "execution_count": null,
>>>>>>> 0297457257caee25618eb3eeb3f4b214f903c9e4
   "metadata": {},
   "outputs": [],
   "source": []
  },
  {
   "cell_type": "code",
<<<<<<< HEAD
   "execution_count": 8,
=======
   "execution_count": null,
>>>>>>> 0297457257caee25618eb3eeb3f4b214f903c9e4
   "metadata": {},
   "outputs": [],
   "source": [
    "# region = \"Japan\"\n",
    "# df = CSV.read(\"./data/$region.csv\", DataFrame);\n",
    "\n",
    "# df = df[(df.Datetime .> DateTime(2010,1,1,0,0,0)),:];\n",
    "\n",
    "# magnitude_threshold = 2.0\n",
    "# z_control = \"Magnitude\"\n",
    "\n",
    "# mkpath(\"./gmt/$region/\")\n",
    "\n",
    "# # read data\n",
    "# # df = CSV.read(\"./data/$region.csv\", DataFrame);\n",
    "\n",
    "# # temporary path to store gmt generation files\n",
    "# mkpath(\"./tmp/$region/\")\n",
    "# cd(\"./tmp/$region/\")\n",
    "\n",
    "# df = df[df.Magnitude .>= magnitude_threshold,:];\n",
    "\n",
    "# # Get region's coordinates\n",
    "# min_lon = minimum(df.Longitude)\n",
    "# max_lon = maximum(df.Longitude)\n",
    "# min_lat = minimum(df.Latitude)\n",
    "# max_lat = maximum(df.Latitude);\n",
    "\n",
    "# # Create the map coordinates\n",
    "# map_coords = (min_lon,max_lon,min_lat,max_lat)\n",
    "\n",
    "\n",
    "# # Colormap for the region topography\n",
    "# C_map = makecpt(cmap=:geo, range=(-8000,8000), continuous=true);\n",
    "# # Relief map of the region\n",
    "# relief_map = grdcut(\"@earth_relief_30s\", region=map_coords);\n",
    "\n",
    "\n",
    "# basemap(region=map_coords,frame=(axes=:WSne), proj=:merc)\n",
    "\n",
    "# grdview!(relief_map, proj=:merc, axis=:none, surftype=(image=100,), \n",
    "#         cmap=C_map, zsize=1.5, alpha=30)\n",
    "\n",
    "# plot!(df.Longitude, df.Latitude, \n",
    "#         markersize=marker_size, marker=:cc, markerline=:faint,\n",
    "#         cmap=C_markers, zcolor=zcolor_control, alpha=60)\n",
    "\n",
    "\n",
    "# colorbar!(pos=(outside=:MR, offset=(1.0,0)), shade=0.4, xaxis=(annot=:auto,), frame=(xlabel=z_control,),par=(MAP_LABEL_OFFSET=0.8,), \n",
    "#         savefig=\"../../gmt/$region/$(region)_2D_mag_$(magnitude_threshold)_$(z_control).png\")\n",
    "\n",
    "\n",
    "# cd(\"..\")\n",
    "# cd(\"..\")"
   ]
  }
 ],
 "metadata": {
  "kernelspec": {
   "display_name": "Julia 1.8.5",
   "language": "julia",
   "name": "julia-1.8"
  },
  "language_info": {
   "file_extension": ".jl",
   "mimetype": "application/julia",
   "name": "julia",
   "version": "1.8.5"
  },
  "orig_nbformat": 4
 },
 "nbformat": 4,
 "nbformat_minor": 2
}
