{
 "cells": [
  {
   "cell_type": "code",
   "execution_count": 5,
   "metadata": {},
   "outputs": [],
   "source": [
    "using CSV, FileIO, DataFrames, Dates\n",
    "using GMT"
   ]
  },
  {
   "cell_type": "code",
   "execution_count": 6,
   "metadata": {},
   "outputs": [
    {
     "data": {
      "text/html": [
       "<div><div style = \"float: left;\"><span>5×5 DataFrame</span></div><div style = \"clear: both;\"></div></div><div class = \"data-frame\" style = \"overflow-x: scroll;\"><table class = \"data-frame\" style = \"margin-bottom: 6px;\"><thead><tr class = \"header\"><th class = \"rowNumber\" style = \"font-weight: bold; text-align: right;\">Row</th><th style = \"text-align: left;\">Datetime</th><th style = \"text-align: left;\">Latitude</th><th style = \"text-align: left;\">Longitude</th><th style = \"text-align: left;\">Depth</th><th style = \"text-align: left;\">Magnitude</th></tr><tr class = \"subheader headerLastRow\"><th class = \"rowNumber\" style = \"font-weight: bold; text-align: right;\"></th><th title = \"DateTime\" style = \"text-align: left;\">DateTime</th><th title = \"Float64\" style = \"text-align: left;\">Float64</th><th title = \"Float64\" style = \"text-align: left;\">Float64</th><th title = \"Float64\" style = \"text-align: left;\">Float64</th><th title = \"Float64\" style = \"text-align: left;\">Float64</th></tr></thead><tbody><tr><td class = \"rowNumber\" style = \"font-weight: bold; text-align: right;\">1</td><td style = \"text-align: left;\">1977-03-04T19:21:54.100</td><td style = \"text-align: right;\">45.77</td><td style = \"text-align: right;\">26.76</td><td style = \"text-align: right;\">94.0</td><td style = \"text-align: right;\">7.4</td></tr><tr><td class = \"rowNumber\" style = \"font-weight: bold; text-align: right;\">2</td><td style = \"text-align: left;\">1977-03-04T21:21:01.100</td><td style = \"text-align: right;\">45.22</td><td style = \"text-align: right;\">26.65</td><td style = \"text-align: right;\">141.0</td><td style = \"text-align: right;\">3.0</td></tr><tr><td class = \"rowNumber\" style = \"font-weight: bold; text-align: right;\">3</td><td style = \"text-align: left;\">1977-03-05T02:35:22</td><td style = \"text-align: right;\">45.63</td><td style = \"text-align: right;\">26.19</td><td style = \"text-align: right;\">121.3</td><td style = \"text-align: right;\">3.0</td></tr><tr><td class = \"rowNumber\" style = \"font-weight: bold; text-align: right;\">4</td><td style = \"text-align: left;\">1977-03-05T12:08:42</td><td style = \"text-align: right;\">45.37</td><td style = \"text-align: right;\">26.3</td><td style = \"text-align: right;\">124.0</td><td style = \"text-align: right;\">3.5</td></tr><tr><td class = \"rowNumber\" style = \"font-weight: bold; text-align: right;\">5</td><td style = \"text-align: left;\">1977-03-06T13:27:06.300</td><td style = \"text-align: right;\">45.83</td><td style = \"text-align: right;\">26.63</td><td style = \"text-align: right;\">112.3</td><td style = \"text-align: right;\">2.6</td></tr></tbody></table></div>"
      ],
      "text/latex": [
       "\\begin{tabular}{r|ccccc}\n",
       "\t& Datetime & Latitude & Longitude & Depth & Magnitude\\\\\n",
       "\t\\hline\n",
       "\t& DateTime & Float64 & Float64 & Float64 & Float64\\\\\n",
       "\t\\hline\n",
       "\t1 & 1977-03-04T19:21:54.100 & 45.77 & 26.76 & 94.0 & 7.4 \\\\\n",
       "\t2 & 1977-03-04T21:21:01.100 & 45.22 & 26.65 & 141.0 & 3.0 \\\\\n",
       "\t3 & 1977-03-05T02:35:22 & 45.63 & 26.19 & 121.3 & 3.0 \\\\\n",
       "\t4 & 1977-03-05T12:08:42 & 45.37 & 26.3 & 124.0 & 3.5 \\\\\n",
       "\t5 & 1977-03-06T13:27:06.300 & 45.83 & 26.63 & 112.3 & 2.6 \\\\\n",
       "\\end{tabular}\n"
      ],
      "text/plain": [
       "\u001b[1m5×5 DataFrame\u001b[0m\n",
       "\u001b[1m Row \u001b[0m│\u001b[1m Datetime                \u001b[0m\u001b[1m Latitude \u001b[0m\u001b[1m Longitude \u001b[0m\u001b[1m Depth   \u001b[0m\u001b[1m Magnitude \u001b[0m\n",
       "     │\u001b[90m DateTime                \u001b[0m\u001b[90m Float64  \u001b[0m\u001b[90m Float64   \u001b[0m\u001b[90m Float64 \u001b[0m\u001b[90m Float64   \u001b[0m\n",
       "─────┼──────────────────────────────────────────────────────────────────\n",
       "   1 │ 1977-03-04T19:21:54.100     45.77      26.76     94.0        7.4\n",
       "   2 │ 1977-03-04T21:21:01.100     45.22      26.65    141.0        3.0\n",
       "   3 │ 1977-03-05T02:35:22         45.63      26.19    121.3        3.0\n",
       "   4 │ 1977-03-05T12:08:42         45.37      26.3     124.0        3.5\n",
       "   5 │ 1977-03-06T13:27:06.300     45.83      26.63    112.3        2.6"
      ]
     },
     "metadata": {},
     "output_type": "display_data"
    }
   ],
   "source": [
    "region=\"vrancea\"\n",
    "mkpath(\"./results/$region/\")\n",
    "\n",
    "df = CSV.read(\"./data/$region.csv\", DataFrame);\n",
    "first(df,5)"
   ]
  },
  {
   "cell_type": "code",
   "execution_count": 7,
   "metadata": {},
   "outputs": [],
   "source": [
    "min_lon = minimum(df.Longitude)\n",
    "max_lon = maximum(df.Longitude)\n",
    "min_lat = minimum(df.Latitude)\n",
    "max_lat = maximum(df.Latitude)\n",
    "min_dep = minimum(df.Depth)\n",
    "max_dep = maximum(df.Depth);"
   ]
  },
  {
   "cell_type": "code",
   "execution_count": 8,
   "metadata": {},
   "outputs": [
    {
     "data": {
      "text/plain": [
       "(26.0, 27.0, 45.2, 46.0, -196.0, 50.0)"
      ]
     },
     "metadata": {},
     "output_type": "display_data"
    }
   ],
   "source": [
    "map_coords = (min_lon,max_lon,min_lat,max_lat)\n",
    "map_coords_depth = (min_lon,max_lon,min_lat,max_lat,-max_dep,min_dep)"
   ]
  },
  {
   "cell_type": "code",
   "execution_count": 9,
   "metadata": {},
   "outputs": [],
   "source": [
    "coast(region=map_coords, proj=:merc, land=:gray, rivers=\"a\", shore=\"0.25p\", show=true)"
   ]
  },
  {
   "cell_type": "code",
   "execution_count": 10,
   "metadata": {},
   "outputs": [
    {
     "data": {
      "text/plain": [
       "scatter_2D (generic function with 1 method)"
      ]
     },
     "metadata": {},
     "output_type": "display_data"
    }
   ],
   "source": [
    "function scatter_2D(df, region, magnitude_threshold; z_control=\"Magnitude\")\n",
    "\n",
    "    df = df[df.Magnitude .>= magnitude_threshold,:];\n",
    "\n",
    "    # Get region's coordinates\n",
    "    min_lon = minimum(df.Longitude)\n",
    "    max_lon = maximum(df.Longitude)\n",
    "    min_lat = minimum(df.Latitude)\n",
    "    max_lat = maximum(df.Latitude);\n",
    "\n",
    "    # Create the map coordinates\n",
    "    map_coords = (min_lon,max_lon,min_lat,max_lat)\n",
    "    \n",
    "    # Colormap for the region topography\n",
    "    C_map = makecpt(cmap=:geo, range=(-8000,8000), continuous=true);\n",
    "    # Relief map of the region\n",
    "    relief_map = grdcut(\"@earth_relief_30s\", region=map_coords);\n",
    "\n",
    "    \n",
    "    # control marker size based on magnitude\n",
    "    marker_size = [2^x/100 for x in df.Magnitude];\n",
    "\n",
    "    # control marker color either by Magnitude or by Depth\n",
    "    C_markers = makecpt(cmap=:seis, range=(minimum(df[!, z_control]),maximum(df[!, z_control])),continuous=true, inverse=true);\n",
    "    colorbar_label = z_control\n",
    "    zcolor_control = df[!, z_control]\n",
    "\n",
    "    basemap(region=map_coords,frame=(axes=:WSne), proj=:merc)\n",
    "\n",
    "    grdview!(relief_map, proj=:merc, axis=:none, surftype=(image=1000,), \n",
    "            cmap=C_map, zsize=1.5, alpha=40)\n",
    "\n",
    "    plot!(df.Longitude, df.Latitude, \n",
    "            markersize=marker_size, marker=:cc, markerline=:faint,\n",
    "            cmap=C_markers, zcolor=zcolor_control, alpha=60)\n",
    "\n",
    "    colorbar!(pos=(outside=:MR, offset=(1.0,0)), shade=0.4, xaxis=(annot=:auto,), frame=(xlabel=colorbar_label,),par=(MAP_LABEL_OFFSET=0.8,), \n",
    "                savefig=\"./results/$region/$(region)_2D_mag_$(magnitude_threshold)_$(colorbar_label).png\", show=true)\n",
    "\n",
    "end"
   ]
  },
  {
   "cell_type": "code",
   "execution_count": null,
   "metadata": {},
   "outputs": [],
   "source": [
    "function scatter_semi_3D(df, region, magnitude_threshold; z_control=\"Magnitude\")\n",
    "\n",
    "    df = df[df.Magnitude .>= magnitude_threshold,:];\n",
    "\n",
    "    # Get region's coordinates\n",
    "    min_lon = minimum(df.Longitude)\n",
    "    max_lon = maximum(df.Longitude)\n",
    "    min_lat = minimum(df.Latitude)\n",
    "    max_lat = maximum(df.Latitude);\n",
    "\n",
    "    # Create the map coordinates\n",
    "    map_coords = (min_lon,max_lon,min_lat,max_lat)\n",
    "    \n",
    "    # Colormap for the region topography\n",
    "    C_map = makecpt(cmap=:geo, range=(-8000,8000), continuous=true);\n",
    "    # Relief map of the region\n",
    "    relief_map = grdcut(\"@earth_relief_30s\", region=map_coords);\n",
    "\n",
    "    \n",
    "    # control marker size based on magnitude\n",
    "    marker_size = [2^x/100 for x in df.Magnitude];\n",
    "\n",
    "    # control marker color either by Magnitude or by Depth\n",
    "    C_markers = makecpt(cmap=:seis, range=(minimum(df[!, z_control]),maximum(df[!, z_control])),continuous=true, inverse=true);\n",
    "    zcolor_control = df[!, z_control]\n",
    "\n",
    "\n",
    "    basemap(region=map_coords,frame=(axes=:SE), proj=:merc, view=(145,45))\n",
    "\n",
    "    grdview!(relief_map, proj=:merc, axis=:none, surftype=(image=1000,), \n",
    "            cmap=C_map, zsize=1.5, alpha=40 , view=(145,45))\n",
    "\n",
    "    plot!(df.Longitude, df.Latitude, \n",
    "            markersize=marker_size, marker=:cc, markerline=:faint,\n",
    "            cmap=C_markers, zcolor=zcolor_control, alpha=60, view=(145,45))\n",
    "\n",
    "    colorbar!(pos=(outside=:MR, offset=(1.5,0)), shade=0.4, xaxis=(annot=:auto,), frame=(xlabel=z_control,),par=(MAP_LABEL_OFFSET=0.8,), \n",
    "                view=(145,45), savefig=\"./results/$region/$(region)_semi3D_mag_$(magnitude_threshold)_$(z_control).png\", show=true)\n",
    "\n",
    "end"
   ]
  },
  {
   "cell_type": "code",
   "execution_count": 11,
   "metadata": {},
   "outputs": [
    {
     "name": "stderr",
     "output_type": "stream",
     "text": [
      "makecpt [WARNING]: Without inc in -T option, -Z has no effect (ignored)\n",
      "GMT [WARNING]: Remote dataset given to a data processing module but no registration was specified - default to gridline registration (if available)\n",
      "makecpt [WARNING]: Without inc in -T option, -Z has no effect (ignored)\n"
     ]
    }
   ],
   "source": [
    "scatter_2D(df,region,2.0,z_control=\"Magnitude\")"
   ]
  },
  {
   "cell_type": "code",
   "execution_count": null,
   "metadata": {},
   "outputs": [],
   "source": []
  }
 ],
 "metadata": {
  "kernelspec": {
   "display_name": "Julia 1.8.5",
   "language": "julia",
   "name": "julia-1.8"
  },
  "language_info": {
   "file_extension": ".jl",
   "mimetype": "application/julia",
   "name": "julia",
   "version": "1.8.5"
  },
  "orig_nbformat": 4
 },
 "nbformat": 4,
 "nbformat_minor": 2
}
