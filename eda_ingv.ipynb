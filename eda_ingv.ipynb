{
 "cells": [
  {
   "cell_type": "code",
   "execution_count": 1,
   "metadata": {},
   "outputs": [
    {
     "data": {
      "text/plain": [
       "quality_boxplot (generic function with 1 method)"
      ]
     },
     "metadata": {},
     "output_type": "display_data"
    }
   ],
   "source": [
    "include(\"./src/eda.jl\")"
   ]
  },
  {
   "cell_type": "code",
   "execution_count": 2,
   "metadata": {},
   "outputs": [
    {
     "data": {
      "text/plain": [
       "\"ingv\""
      ]
     },
     "metadata": {},
     "output_type": "display_data"
    }
   ],
   "source": [
    "region = \"Italy\"\n",
    "catalog = \"ingv\""
   ]
  },
  {
   "cell_type": "code",
   "execution_count": 3,
   "metadata": {},
   "outputs": [
    {
     "name": "stdout",
     "output_type": "stream",
     "text": [
      "\u001b[1m5×6 DataFrame\u001b[0m\n",
      "\u001b[1m Row \u001b[0m│\u001b[1m Datetime                \u001b[0m\u001b[1m Latitude \u001b[0m\u001b[1m Longitude \u001b[0m\u001b[1m Depth   \u001b[0m\u001b[1m Magnitude_Type \u001b[0m\u001b[1m Magnitude \u001b[0m\n",
      "     │\u001b[90m DateTime                \u001b[0m\u001b[90m Float64  \u001b[0m\u001b[90m Float64   \u001b[0m\u001b[90m Float64 \u001b[0m\u001b[90m String7        \u001b[0m\u001b[90m Float64   \u001b[0m\n",
      "─────┼──────────────────────────────────────────────────────────────────────────────────\n",
      "   1 │ 1985-01-02T18:39:30.740    48.092      7.061     10.0  M                     4.0\n",
      "   2 │ 1985-01-02T22:57:43.090    41.715     13.941      5.8  Md                    2.6\n",
      "   3 │ 1985-01-03T00:46:16.990    41.677     13.931      6.1  Md                    2.5\n",
      "   4 │ 1985-01-04T16:57:40.240    46.158      7.174     10.0  M                     3.8\n",
      "   5 │ 1985-01-04T23:59:54.820    45.338      6.641      5.0  M                     3.7\u001b[1m6×7 DataFrame\u001b[0m\n",
      "\u001b[1m Row \u001b[0m│\u001b[1m variable       \u001b[0m\u001b[1m mean    \u001b[0m\u001b[1m min                     \u001b[0m\u001b[1m median                  \u001b[0m\u001b[1m max                     \u001b[0m\u001b[1m nmissing \u001b[0m\u001b[1m eltype   \u001b[0m\n",
      "     │\u001b[90m Symbol         \u001b[0m\u001b[90m Union…  \u001b[0m\u001b[90m Any                     \u001b[0m\u001b[90m Any                     \u001b[0m\u001b[90m Any                     \u001b[0m\u001b[90m Int64    \u001b[0m\u001b[90m DataType \u001b[0m\n",
      "─────┼────────────────────────────────────────────────────────────────────────────────────────────────────────────────────────\n",
      "   1 │ Datetime       \u001b[90m         \u001b[0m 1985-01-02T18:39:30.740  2015-05-11T22:01:58.240  2023-03-08T11:05:17.900         0  DateTime\n",
      "   2 │ Latitude        42.2295  -69.757                  42.8268                  84.3258                         0  Float64\n",
      "   3 │ Longitude       13.3849  -179.99                  13.1407                  179.939                         0  Float64\n",
      "   4 │ Depth           12.8846  0.0                      10.0                     675.4                           0  Float64\n",
      "   5 │ Magnitude_Type \u001b[90m         \u001b[0m M                       \u001b[90m                         \u001b[0m mb                              0  String7\n",
      "   6 │ Magnitude       1.58785  0.1                      1.4                      9.0                             0  Float64"
     ]
    },
    {
     "name": "stdout",
     "output_type": "stream",
     "text": [
      "\n"
     ]
    },
    {
     "data": {
      "text/html": [
       "<div><div style = \"float: left;\"><span>418580×6 DataFrame</span></div><div style = \"float: right;\"><span style = \"font-style: italic;\">418555 rows omitted</span></div><div style = \"clear: both;\"></div></div><div class = \"data-frame\" style = \"overflow-x: scroll;\"><table class = \"data-frame\" style = \"margin-bottom: 6px;\"><thead><tr class = \"header\"><th class = \"rowNumber\" style = \"font-weight: bold; text-align: right;\">Row</th><th style = \"text-align: left;\">Datetime</th><th style = \"text-align: left;\">Latitude</th><th style = \"text-align: left;\">Longitude</th><th style = \"text-align: left;\">Depth</th><th style = \"text-align: left;\">Magnitude_Type</th><th style = \"text-align: left;\">Magnitude</th></tr><tr class = \"subheader headerLastRow\"><th class = \"rowNumber\" style = \"font-weight: bold; text-align: right;\"></th><th title = \"DateTime\" style = \"text-align: left;\">DateTime</th><th title = \"Float64\" style = \"text-align: left;\">Float64</th><th title = \"Float64\" style = \"text-align: left;\">Float64</th><th title = \"Float64\" style = \"text-align: left;\">Float64</th><th title = \"String7\" style = \"text-align: left;\">String7</th><th title = \"Float64\" style = \"text-align: left;\">Float64</th></tr></thead><tbody><tr><td class = \"rowNumber\" style = \"font-weight: bold; text-align: right;\">1</td><td style = \"text-align: left;\">1985-01-02T18:39:30.740</td><td style = \"text-align: right;\">48.092</td><td style = \"text-align: right;\">7.061</td><td style = \"text-align: right;\">10.0</td><td style = \"text-align: left;\">M</td><td style = \"text-align: right;\">4.0</td></tr><tr><td class = \"rowNumber\" style = \"font-weight: bold; text-align: right;\">2</td><td style = \"text-align: left;\">1985-01-02T22:57:43.090</td><td style = \"text-align: right;\">41.715</td><td style = \"text-align: right;\">13.941</td><td style = \"text-align: right;\">5.8</td><td style = \"text-align: left;\">Md</td><td style = \"text-align: right;\">2.6</td></tr><tr><td class = \"rowNumber\" style = \"font-weight: bold; text-align: right;\">3</td><td style = \"text-align: left;\">1985-01-03T00:46:16.990</td><td style = \"text-align: right;\">41.677</td><td style = \"text-align: right;\">13.931</td><td style = \"text-align: right;\">6.1</td><td style = \"text-align: left;\">Md</td><td style = \"text-align: right;\">2.5</td></tr><tr><td class = \"rowNumber\" style = \"font-weight: bold; text-align: right;\">4</td><td style = \"text-align: left;\">1985-01-04T16:57:40.240</td><td style = \"text-align: right;\">46.158</td><td style = \"text-align: right;\">7.174</td><td style = \"text-align: right;\">10.0</td><td style = \"text-align: left;\">M</td><td style = \"text-align: right;\">3.8</td></tr><tr><td class = \"rowNumber\" style = \"font-weight: bold; text-align: right;\">5</td><td style = \"text-align: left;\">1985-01-04T23:59:54.820</td><td style = \"text-align: right;\">45.338</td><td style = \"text-align: right;\">6.641</td><td style = \"text-align: right;\">5.0</td><td style = \"text-align: left;\">M</td><td style = \"text-align: right;\">3.7</td></tr><tr><td class = \"rowNumber\" style = \"font-weight: bold; text-align: right;\">6</td><td style = \"text-align: left;\">1985-01-05T03:47:03.640</td><td style = \"text-align: right;\">45.409</td><td style = \"text-align: right;\">6.627</td><td style = \"text-align: right;\">10.0</td><td style = \"text-align: left;\">M</td><td style = \"text-align: right;\">3.2</td></tr><tr><td class = \"rowNumber\" style = \"font-weight: bold; text-align: right;\">7</td><td style = \"text-align: left;\">1985-01-05T08:32:41.900</td><td style = \"text-align: right;\">43.056</td><td style = \"text-align: right;\">13.139</td><td style = \"text-align: right;\">2.8</td><td style = \"text-align: left;\">Md</td><td style = \"text-align: right;\">2.6</td></tr><tr><td class = \"rowNumber\" style = \"font-weight: bold; text-align: right;\">8</td><td style = \"text-align: left;\">1985-01-05T10:13:26.800</td><td style = \"text-align: right;\">45.15</td><td style = \"text-align: right;\">7.86</td><td style = \"text-align: right;\">20.8</td><td style = \"text-align: left;\">Md</td><td style = \"text-align: right;\">2.2</td></tr><tr><td class = \"rowNumber\" style = \"font-weight: bold; text-align: right;\">9</td><td style = \"text-align: left;\">1985-01-05T13:06:33.110</td><td style = \"text-align: right;\">42.62</td><td style = \"text-align: right;\">22.312</td><td style = \"text-align: right;\">10.0</td><td style = \"text-align: left;\">M</td><td style = \"text-align: right;\">4.5</td></tr><tr><td class = \"rowNumber\" style = \"font-weight: bold; text-align: right;\">10</td><td style = \"text-align: left;\">1985-01-06T03:52:23.380</td><td style = \"text-align: right;\">43.357</td><td style = \"text-align: right;\">12.537</td><td style = \"text-align: right;\">10.0</td><td style = \"text-align: left;\">Md</td><td style = \"text-align: right;\">2.4</td></tr><tr><td class = \"rowNumber\" style = \"font-weight: bold; text-align: right;\">11</td><td style = \"text-align: left;\">1985-01-06T04:19:36.650</td><td style = \"text-align: right;\">43.37</td><td style = \"text-align: right;\">12.545</td><td style = \"text-align: right;\">10.0</td><td style = \"text-align: left;\">Md</td><td style = \"text-align: right;\">2.3</td></tr><tr><td class = \"rowNumber\" style = \"font-weight: bold; text-align: right;\">12</td><td style = \"text-align: left;\">1985-01-06T14:38:40.570</td><td style = \"text-align: right;\">41.781</td><td style = \"text-align: right;\">13.857</td><td style = \"text-align: right;\">15.5</td><td style = \"text-align: left;\">Md</td><td style = \"text-align: right;\">2.4</td></tr><tr><td class = \"rowNumber\" style = \"font-weight: bold; text-align: right;\">13</td><td style = \"text-align: left;\">1985-01-06T17:22:58.540</td><td style = \"text-align: right;\">39.291</td><td style = \"text-align: right;\">16.765</td><td style = \"text-align: right;\">5.0</td><td style = \"text-align: left;\">Md</td><td style = \"text-align: right;\">3.0</td></tr><tr><td style = \"text-align: right;\">&vellip;</td><td style = \"text-align: right;\">&vellip;</td><td style = \"text-align: right;\">&vellip;</td><td style = \"text-align: right;\">&vellip;</td><td style = \"text-align: right;\">&vellip;</td><td style = \"text-align: right;\">&vellip;</td><td style = \"text-align: right;\">&vellip;</td></tr><tr><td class = \"rowNumber\" style = \"font-weight: bold; text-align: right;\">418569</td><td style = \"text-align: left;\">2023-03-08T07:12:38.810</td><td style = \"text-align: right;\">43.0307</td><td style = \"text-align: right;\">12.9673</td><td style = \"text-align: right;\">10.8</td><td style = \"text-align: left;\">ML</td><td style = \"text-align: right;\">1.0</td></tr><tr><td class = \"rowNumber\" style = \"font-weight: bold; text-align: right;\">418570</td><td style = \"text-align: left;\">2023-03-08T07:19:14.930</td><td style = \"text-align: right;\">43.5873</td><td style = \"text-align: right;\">12.5523</td><td style = \"text-align: right;\">1.0</td><td style = \"text-align: left;\">ML</td><td style = \"text-align: right;\">0.6</td></tr><tr><td class = \"rowNumber\" style = \"font-weight: bold; text-align: right;\">418571</td><td style = \"text-align: left;\">2023-03-08T07:20:29.020</td><td style = \"text-align: right;\">43.3967</td><td style = \"text-align: right;\">12.7405</td><td style = \"text-align: right;\">11.7</td><td style = \"text-align: left;\">Md</td><td style = \"text-align: right;\">1.8</td></tr><tr><td class = \"rowNumber\" style = \"font-weight: bold; text-align: right;\">418572</td><td style = \"text-align: left;\">2023-03-08T07:33:11.457</td><td style = \"text-align: right;\">-6.50391</td><td style = \"text-align: right;\">154.976</td><td style = \"text-align: right;\">69.5</td><td style = \"text-align: left;\">Mwp</td><td style = \"text-align: right;\">5.9</td></tr><tr><td class = \"rowNumber\" style = \"font-weight: bold; text-align: right;\">418573</td><td style = \"text-align: left;\">2023-03-08T07:41:21.530</td><td style = \"text-align: right;\">42.5662</td><td style = \"text-align: right;\">13.2427</td><td style = \"text-align: right;\">13.9</td><td style = \"text-align: left;\">ML</td><td style = \"text-align: right;\">0.8</td></tr><tr><td class = \"rowNumber\" style = \"font-weight: bold; text-align: right;\">418574</td><td style = \"text-align: left;\">2023-03-08T07:54:45.340</td><td style = \"text-align: right;\">43.0613</td><td style = \"text-align: right;\">13.0392</td><td style = \"text-align: right;\">13.0</td><td style = \"text-align: left;\">ML</td><td style = \"text-align: right;\">0.4</td></tr><tr><td class = \"rowNumber\" style = \"font-weight: bold; text-align: right;\">418575</td><td style = \"text-align: left;\">2023-03-08T08:20:22.930</td><td style = \"text-align: right;\">43.4422</td><td style = \"text-align: right;\">12.6015</td><td style = \"text-align: right;\">12.6</td><td style = \"text-align: left;\">ML</td><td style = \"text-align: right;\">0.6</td></tr><tr><td class = \"rowNumber\" style = \"font-weight: bold; text-align: right;\">418576</td><td style = \"text-align: left;\">2023-03-08T08:46:53.790</td><td style = \"text-align: right;\">38.4702</td><td style = \"text-align: right;\">15.5272</td><td style = \"text-align: right;\">87.1</td><td style = \"text-align: left;\">ML</td><td style = \"text-align: right;\">2.3</td></tr><tr><td class = \"rowNumber\" style = \"font-weight: bold; text-align: right;\">418577</td><td style = \"text-align: left;\">2023-03-08T09:20:47.440</td><td style = \"text-align: right;\">42.8243</td><td style = \"text-align: right;\">13.077</td><td style = \"text-align: right;\">9.3</td><td style = \"text-align: left;\">ML</td><td style = \"text-align: right;\">1.4</td></tr><tr><td class = \"rowNumber\" style = \"font-weight: bold; text-align: right;\">418578</td><td style = \"text-align: left;\">2023-03-08T09:56:34.020</td><td style = \"text-align: right;\">43.3767</td><td style = \"text-align: right;\">12.4933</td><td style = \"text-align: right;\">7.3</td><td style = \"text-align: left;\">ML</td><td style = \"text-align: right;\">0.9</td></tr><tr><td class = \"rowNumber\" style = \"font-weight: bold; text-align: right;\">418579</td><td style = \"text-align: left;\">2023-03-08T10:29:59.120</td><td style = \"text-align: right;\">42.8848</td><td style = \"text-align: right;\">12.959</td><td style = \"text-align: right;\">10.7</td><td style = \"text-align: left;\">ML</td><td style = \"text-align: right;\">1.5</td></tr><tr><td class = \"rowNumber\" style = \"font-weight: bold; text-align: right;\">418580</td><td style = \"text-align: left;\">2023-03-08T11:05:17.900</td><td style = \"text-align: right;\">43.0067</td><td style = \"text-align: right;\">12.8682</td><td style = \"text-align: right;\">5.0</td><td style = \"text-align: left;\">ML</td><td style = \"text-align: right;\">0.8</td></tr></tbody></table></div>"
      ],
      "text/latex": [
       "\\begin{tabular}{r|cccccc}\n",
       "\t& Datetime & Latitude & Longitude & Depth & Magnitude\\_Type & Magnitude\\\\\n",
       "\t\\hline\n",
       "\t& DateTime & Float64 & Float64 & Float64 & String7 & Float64\\\\\n",
       "\t\\hline\n",
       "\t1 & 1985-01-02T18:39:30.740 & 48.092 & 7.061 & 10.0 & M & 4.0 \\\\\n",
       "\t2 & 1985-01-02T22:57:43.090 & 41.715 & 13.941 & 5.8 & Md & 2.6 \\\\\n",
       "\t3 & 1985-01-03T00:46:16.990 & 41.677 & 13.931 & 6.1 & Md & 2.5 \\\\\n",
       "\t4 & 1985-01-04T16:57:40.240 & 46.158 & 7.174 & 10.0 & M & 3.8 \\\\\n",
       "\t5 & 1985-01-04T23:59:54.820 & 45.338 & 6.641 & 5.0 & M & 3.7 \\\\\n",
       "\t6 & 1985-01-05T03:47:03.640 & 45.409 & 6.627 & 10.0 & M & 3.2 \\\\\n",
       "\t7 & 1985-01-05T08:32:41.900 & 43.056 & 13.139 & 2.8 & Md & 2.6 \\\\\n",
       "\t8 & 1985-01-05T10:13:26.800 & 45.15 & 7.86 & 20.8 & Md & 2.2 \\\\\n",
       "\t9 & 1985-01-05T13:06:33.110 & 42.62 & 22.312 & 10.0 & M & 4.5 \\\\\n",
       "\t10 & 1985-01-06T03:52:23.380 & 43.357 & 12.537 & 10.0 & Md & 2.4 \\\\\n",
       "\t11 & 1985-01-06T04:19:36.650 & 43.37 & 12.545 & 10.0 & Md & 2.3 \\\\\n",
       "\t12 & 1985-01-06T14:38:40.570 & 41.781 & 13.857 & 15.5 & Md & 2.4 \\\\\n",
       "\t13 & 1985-01-06T17:22:58.540 & 39.291 & 16.765 & 5.0 & Md & 3.0 \\\\\n",
       "\t14 & 1985-01-06T21:53:50.520 & 41.936 & 13.937 & 10.0 & Md & 2.5 \\\\\n",
       "\t15 & 1985-01-07T00:34:49.290 & 43.225 & 12.73 & 10.0 & Md & 3.0 \\\\\n",
       "\t16 & 1985-01-07T07:33:56.810 & 43.358 & 12.539 & 10.0 & Md & 2.4 \\\\\n",
       "\t17 & 1985-01-07T11:07:55.060 & 44.222 & 6.778 & 10.0 & M & 3.0 \\\\\n",
       "\t18 & 1985-01-07T20:14:45.970 & 37.672 & 15.513 & 85.2 & Md & 2.8 \\\\\n",
       "\t19 & 1985-01-07T21:23:35.650 & 37.539 & 15.579 & 75.4 & Md & 2.6 \\\\\n",
       "\t20 & 1985-01-08T04:03:09.590 & 46.368 & 13.184 & 2.6 & Md & 2.5 \\\\\n",
       "\t21 & 1985-01-08T08:30:13.150 & 41.975 & 16.222 & 10.0 & Md & 2.8 \\\\\n",
       "\t22 & 1985-01-08T22:06:13.070 & 45.753 & 12.951 & 10.0 & Md & 2.5 \\\\\n",
       "\t23 & 1985-01-08T23:33:34.130 & 43.303 & 12.55 & 10.0 & Md & 3.6 \\\\\n",
       "\t24 & 1985-01-08T23:38:35.790 & 43.371 & 12.585 & 10.0 & Md & 2.3 \\\\\n",
       "\t$\\dots$ & $\\dots$ & $\\dots$ & $\\dots$ & $\\dots$ & $\\dots$ & $\\dots$ \\\\\n",
       "\\end{tabular}\n"
      ],
      "text/plain": [
       "\u001b[1m418580×6 DataFrame\u001b[0m\n",
       "\u001b[1m    Row \u001b[0m│\u001b[1m Datetime                \u001b[0m\u001b[1m Latitude \u001b[0m\u001b[1m Longitude \u001b[0m\u001b[1m Depth   \u001b[0m\u001b[1m Magnitude_Typ\u001b[0m ⋯\n",
       "        │\u001b[90m DateTime                \u001b[0m\u001b[90m Float64  \u001b[0m\u001b[90m Float64   \u001b[0m\u001b[90m Float64 \u001b[0m\u001b[90m String7      \u001b[0m ⋯\n",
       "────────┼───────────────────────────────────────────────────────────────────────\n",
       "      1 │ 1985-01-02T18:39:30.740  48.092       7.061      10.0  M             ⋯\n",
       "      2 │ 1985-01-02T22:57:43.090  41.715      13.941       5.8  Md\n",
       "      3 │ 1985-01-03T00:46:16.990  41.677      13.931       6.1  Md\n",
       "      4 │ 1985-01-04T16:57:40.240  46.158       7.174      10.0  M\n",
       "      5 │ 1985-01-04T23:59:54.820  45.338       6.641       5.0  M             ⋯\n",
       "      6 │ 1985-01-05T03:47:03.640  45.409       6.627      10.0  M\n",
       "      7 │ 1985-01-05T08:32:41.900  43.056      13.139       2.8  Md\n",
       "      8 │ 1985-01-05T10:13:26.800  45.15        7.86       20.8  Md\n",
       "   ⋮    │            ⋮                ⋮          ⋮         ⋮           ⋮       ⋱\n",
       " 418574 │ 2023-03-08T07:54:45.340  43.0613     13.0392     13.0  ML            ⋯\n",
       " 418575 │ 2023-03-08T08:20:22.930  43.4422     12.6015     12.6  ML\n",
       " 418576 │ 2023-03-08T08:46:53.790  38.4702     15.5272     87.1  ML\n",
       " 418577 │ 2023-03-08T09:20:47.440  42.8243     13.077       9.3  ML\n",
       " 418578 │ 2023-03-08T09:56:34.020  43.3767     12.4933      7.3  ML            ⋯\n",
       " 418579 │ 2023-03-08T10:29:59.120  42.8848     12.959      10.7  ML\n",
       " 418580 │ 2023-03-08T11:05:17.900  43.0067     12.8682      5.0  ML\n",
       "\u001b[36m                                               2 columns and 418565 rows omitted\u001b[0m"
      ]
     },
     "metadata": {},
     "output_type": "display_data"
    }
   ],
   "source": [
    "df = load_data(region, catalog)"
   ]
  },
  {
   "cell_type": "code",
   "execution_count": 4,
   "metadata": {},
   "outputs": [
    {
     "data": {
      "image/png": "[encoded data removed]"
     },
     "metadata": {},
     "output_type": "display_data"
    }
   ],
   "source": [
    "events_histogram_fig = events_histogram(df, region)"
   ]
  },
  {
   "cell_type": "code",
   "execution_count": 5,
   "metadata": {},
   "outputs": [
    {
     "data": {
      "text/html": [
       "<div><div style = \"float: left;\"><span>418580×6 DataFrame</span></div><div style = \"float: right;\"><span style = \"font-style: italic;\">418555 rows omitted</span></div><div style = \"clear: both;\"></div></div><div class = \"data-frame\" style = \"overflow-x: scroll;\"><table class = \"data-frame\" style = \"margin-bottom: 6px;\"><thead><tr class = \"header\"><th class = \"rowNumber\" style = \"font-weight: bold; text-align: right;\">Row</th><th style = \"text-align: left;\">Datetime</th><th style = \"text-align: left;\">Latitude</th><th style = \"text-align: left;\">Longitude</th><th style = \"text-align: left;\">Depth</th><th style = \"text-align: left;\">Magnitude_Type</th><th style = \"text-align: left;\">Magnitude</th></tr><tr class = \"subheader headerLastRow\"><th class = \"rowNumber\" style = \"font-weight: bold; text-align: right;\"></th><th title = \"DateTime\" style = \"text-align: left;\">DateTime</th><th title = \"Float64\" style = \"text-align: left;\">Float64</th><th title = \"Float64\" style = \"text-align: left;\">Float64</th><th title = \"Float64\" style = \"text-align: left;\">Float64</th><th title = \"String7\" style = \"text-align: left;\">String7</th><th title = \"Float64\" style = \"text-align: left;\">Float64</th></tr></thead><tbody><tr><td class = \"rowNumber\" style = \"font-weight: bold; text-align: right;\">1</td><td style = \"text-align: left;\">1985-01-02T18:39:30.740</td><td style = \"text-align: right;\">48.092</td><td style = \"text-align: right;\">7.061</td><td style = \"text-align: right;\">10.0</td><td style = \"text-align: left;\">M</td><td style = \"text-align: right;\">4.0</td></tr><tr><td class = \"rowNumber\" style = \"font-weight: bold; text-align: right;\">2</td><td style = \"text-align: left;\">1985-01-02T22:57:43.090</td><td style = \"text-align: right;\">41.715</td><td style = \"text-align: right;\">13.941</td><td style = \"text-align: right;\">5.8</td><td style = \"text-align: left;\">Md</td><td style = \"text-align: right;\">2.6</td></tr><tr><td class = \"rowNumber\" style = \"font-weight: bold; text-align: right;\">3</td><td style = \"text-align: left;\">1985-01-03T00:46:16.990</td><td style = \"text-align: right;\">41.677</td><td style = \"text-align: right;\">13.931</td><td style = \"text-align: right;\">6.1</td><td style = \"text-align: left;\">Md</td><td style = \"text-align: right;\">2.5</td></tr><tr><td class = \"rowNumber\" style = \"font-weight: bold; text-align: right;\">4</td><td style = \"text-align: left;\">1985-01-04T16:57:40.240</td><td style = \"text-align: right;\">46.158</td><td style = \"text-align: right;\">7.174</td><td style = \"text-align: right;\">10.0</td><td style = \"text-align: left;\">M</td><td style = \"text-align: right;\">3.8</td></tr><tr><td class = \"rowNumber\" style = \"font-weight: bold; text-align: right;\">5</td><td style = \"text-align: left;\">1985-01-04T23:59:54.820</td><td style = \"text-align: right;\">45.338</td><td style = \"text-align: right;\">6.641</td><td style = \"text-align: right;\">5.0</td><td style = \"text-align: left;\">M</td><td style = \"text-align: right;\">3.7</td></tr><tr><td class = \"rowNumber\" style = \"font-weight: bold; text-align: right;\">6</td><td style = \"text-align: left;\">1985-01-05T03:47:03.640</td><td style = \"text-align: right;\">45.409</td><td style = \"text-align: right;\">6.627</td><td style = \"text-align: right;\">10.0</td><td style = \"text-align: left;\">M</td><td style = \"text-align: right;\">3.2</td></tr><tr><td class = \"rowNumber\" style = \"font-weight: bold; text-align: right;\">7</td><td style = \"text-align: left;\">1985-01-05T08:32:41.900</td><td style = \"text-align: right;\">43.056</td><td style = \"text-align: right;\">13.139</td><td style = \"text-align: right;\">2.8</td><td style = \"text-align: left;\">Md</td><td style = \"text-align: right;\">2.6</td></tr><tr><td class = \"rowNumber\" style = \"font-weight: bold; text-align: right;\">8</td><td style = \"text-align: left;\">1985-01-05T10:13:26.800</td><td style = \"text-align: right;\">45.15</td><td style = \"text-align: right;\">7.86</td><td style = \"text-align: right;\">20.8</td><td style = \"text-align: left;\">Md</td><td style = \"text-align: right;\">2.2</td></tr><tr><td class = \"rowNumber\" style = \"font-weight: bold; text-align: right;\">9</td><td style = \"text-align: left;\">1985-01-05T13:06:33.110</td><td style = \"text-align: right;\">42.62</td><td style = \"text-align: right;\">22.312</td><td style = \"text-align: right;\">10.0</td><td style = \"text-align: left;\">M</td><td style = \"text-align: right;\">4.5</td></tr><tr><td class = \"rowNumber\" style = \"font-weight: bold; text-align: right;\">10</td><td style = \"text-align: left;\">1985-01-06T03:52:23.380</td><td style = \"text-align: right;\">43.357</td><td style = \"text-align: right;\">12.537</td><td style = \"text-align: right;\">10.0</td><td style = \"text-align: left;\">Md</td><td style = \"text-align: right;\">2.4</td></tr><tr><td class = \"rowNumber\" style = \"font-weight: bold; text-align: right;\">11</td><td style = \"text-align: left;\">1985-01-06T04:19:36.650</td><td style = \"text-align: right;\">43.37</td><td style = \"text-align: right;\">12.545</td><td style = \"text-align: right;\">10.0</td><td style = \"text-align: left;\">Md</td><td style = \"text-align: right;\">2.3</td></tr><tr><td class = \"rowNumber\" style = \"font-weight: bold; text-align: right;\">12</td><td style = \"text-align: left;\">1985-01-06T14:38:40.570</td><td style = \"text-align: right;\">41.781</td><td style = \"text-align: right;\">13.857</td><td style = \"text-align: right;\">15.5</td><td style = \"text-align: left;\">Md</td><td style = \"text-align: right;\">2.4</td></tr><tr><td class = \"rowNumber\" style = \"font-weight: bold; text-align: right;\">13</td><td style = \"text-align: left;\">1985-01-06T17:22:58.540</td><td style = \"text-align: right;\">39.291</td><td style = \"text-align: right;\">16.765</td><td style = \"text-align: right;\">5.0</td><td style = \"text-align: left;\">Md</td><td style = \"text-align: right;\">3.0</td></tr><tr><td style = \"text-align: right;\">&vellip;</td><td style = \"text-align: right;\">&vellip;</td><td style = \"text-align: right;\">&vellip;</td><td style = \"text-align: right;\">&vellip;</td><td style = \"text-align: right;\">&vellip;</td><td style = \"text-align: right;\">&vellip;</td><td style = \"text-align: right;\">&vellip;</td></tr><tr><td class = \"rowNumber\" style = \"font-weight: bold; text-align: right;\">418569</td><td style = \"text-align: left;\">2023-03-08T07:12:38.810</td><td style = \"text-align: right;\">43.0307</td><td style = \"text-align: right;\">12.9673</td><td style = \"text-align: right;\">10.8</td><td style = \"text-align: left;\">ML</td><td style = \"text-align: right;\">1.0</td></tr><tr><td class = \"rowNumber\" style = \"font-weight: bold; text-align: right;\">418570</td><td style = \"text-align: left;\">2023-03-08T07:19:14.930</td><td style = \"text-align: right;\">43.5873</td><td style = \"text-align: right;\">12.5523</td><td style = \"text-align: right;\">1.0</td><td style = \"text-align: left;\">ML</td><td style = \"text-align: right;\">0.6</td></tr><tr><td class = \"rowNumber\" style = \"font-weight: bold; text-align: right;\">418571</td><td style = \"text-align: left;\">2023-03-08T07:20:29.020</td><td style = \"text-align: right;\">43.3967</td><td style = \"text-align: right;\">12.7405</td><td style = \"text-align: right;\">11.7</td><td style = \"text-align: left;\">Md</td><td style = \"text-align: right;\">1.8</td></tr><tr><td class = \"rowNumber\" style = \"font-weight: bold; text-align: right;\">418572</td><td style = \"text-align: left;\">2023-03-08T07:33:11.457</td><td style = \"text-align: right;\">-6.50391</td><td style = \"text-align: right;\">154.976</td><td style = \"text-align: right;\">69.5</td><td style = \"text-align: left;\">Mwp</td><td style = \"text-align: right;\">5.9</td></tr><tr><td class = \"rowNumber\" style = \"font-weight: bold; text-align: right;\">418573</td><td style = \"text-align: left;\">2023-03-08T07:41:21.530</td><td style = \"text-align: right;\">42.5662</td><td style = \"text-align: right;\">13.2427</td><td style = \"text-align: right;\">13.9</td><td style = \"text-align: left;\">ML</td><td style = \"text-align: right;\">0.8</td></tr><tr><td class = \"rowNumber\" style = \"font-weight: bold; text-align: right;\">418574</td><td style = \"text-align: left;\">2023-03-08T07:54:45.340</td><td style = \"text-align: right;\">43.0613</td><td style = \"text-align: right;\">13.0392</td><td style = \"text-align: right;\">13.0</td><td style = \"text-align: left;\">ML</td><td style = \"text-align: right;\">0.4</td></tr><tr><td class = \"rowNumber\" style = \"font-weight: bold; text-align: right;\">418575</td><td style = \"text-align: left;\">2023-03-08T08:20:22.930</td><td style = \"text-align: right;\">43.4422</td><td style = \"text-align: right;\">12.6015</td><td style = \"text-align: right;\">12.6</td><td style = \"text-align: left;\">ML</td><td style = \"text-align: right;\">0.6</td></tr><tr><td class = \"rowNumber\" style = \"font-weight: bold; text-align: right;\">418576</td><td style = \"text-align: left;\">2023-03-08T08:46:53.790</td><td style = \"text-align: right;\">38.4702</td><td style = \"text-align: right;\">15.5272</td><td style = \"text-align: right;\">87.1</td><td style = \"text-align: left;\">ML</td><td style = \"text-align: right;\">2.3</td></tr><tr><td class = \"rowNumber\" style = \"font-weight: bold; text-align: right;\">418577</td><td style = \"text-align: left;\">2023-03-08T09:20:47.440</td><td style = \"text-align: right;\">42.8243</td><td style = \"text-align: right;\">13.077</td><td style = \"text-align: right;\">9.3</td><td style = \"text-align: left;\">ML</td><td style = \"text-align: right;\">1.4</td></tr><tr><td class = \"rowNumber\" style = \"font-weight: bold; text-align: right;\">418578</td><td style = \"text-align: left;\">2023-03-08T09:56:34.020</td><td style = \"text-align: right;\">43.3767</td><td style = \"text-align: right;\">12.4933</td><td style = \"text-align: right;\">7.3</td><td style = \"text-align: left;\">ML</td><td style = \"text-align: right;\">0.9</td></tr><tr><td class = \"rowNumber\" style = \"font-weight: bold; text-align: right;\">418579</td><td style = \"text-align: left;\">2023-03-08T10:29:59.120</td><td style = \"text-align: right;\">42.8848</td><td style = \"text-align: right;\">12.959</td><td style = \"text-align: right;\">10.7</td><td style = \"text-align: left;\">ML</td><td style = \"text-align: right;\">1.5</td></tr><tr><td class = \"rowNumber\" style = \"font-weight: bold; text-align: right;\">418580</td><td style = \"text-align: left;\">2023-03-08T11:05:17.900</td><td style = \"text-align: right;\">43.0067</td><td style = \"text-align: right;\">12.8682</td><td style = \"text-align: right;\">5.0</td><td style = \"text-align: left;\">ML</td><td style = \"text-align: right;\">0.8</td></tr></tbody></table></div>"
      ],
      "text/latex": [
       "\\begin{tabular}{r|cccccc}\n",
       "\t& Datetime & Latitude & Longitude & Depth & Magnitude\\_Type & Magnitude\\\\\n",
       "\t\\hline\n",
       "\t& DateTime & Float64 & Float64 & Float64 & String7 & Float64\\\\\n",
       "\t\\hline\n",
       "\t1 & 1985-01-02T18:39:30.740 & 48.092 & 7.061 & 10.0 & M & 4.0 \\\\\n",
       "\t2 & 1985-01-02T22:57:43.090 & 41.715 & 13.941 & 5.8 & Md & 2.6 \\\\\n",
       "\t3 & 1985-01-03T00:46:16.990 & 41.677 & 13.931 & 6.1 & Md & 2.5 \\\\\n",
       "\t4 & 1985-01-04T16:57:40.240 & 46.158 & 7.174 & 10.0 & M & 3.8 \\\\\n",
       "\t5 & 1985-01-04T23:59:54.820 & 45.338 & 6.641 & 5.0 & M & 3.7 \\\\\n",
       "\t6 & 1985-01-05T03:47:03.640 & 45.409 & 6.627 & 10.0 & M & 3.2 \\\\\n",
       "\t7 & 1985-01-05T08:32:41.900 & 43.056 & 13.139 & 2.8 & Md & 2.6 \\\\\n",
       "\t8 & 1985-01-05T10:13:26.800 & 45.15 & 7.86 & 20.8 & Md & 2.2 \\\\\n",
       "\t9 & 1985-01-05T13:06:33.110 & 42.62 & 22.312 & 10.0 & M & 4.5 \\\\\n",
       "\t10 & 1985-01-06T03:52:23.380 & 43.357 & 12.537 & 10.0 & Md & 2.4 \\\\\n",
       "\t11 & 1985-01-06T04:19:36.650 & 43.37 & 12.545 & 10.0 & Md & 2.3 \\\\\n",
       "\t12 & 1985-01-06T14:38:40.570 & 41.781 & 13.857 & 15.5 & Md & 2.4 \\\\\n",
       "\t13 & 1985-01-06T17:22:58.540 & 39.291 & 16.765 & 5.0 & Md & 3.0 \\\\\n",
       "\t14 & 1985-01-06T21:53:50.520 & 41.936 & 13.937 & 10.0 & Md & 2.5 \\\\\n",
       "\t15 & 1985-01-07T00:34:49.290 & 43.225 & 12.73 & 10.0 & Md & 3.0 \\\\\n",
       "\t16 & 1985-01-07T07:33:56.810 & 43.358 & 12.539 & 10.0 & Md & 2.4 \\\\\n",
       "\t17 & 1985-01-07T11:07:55.060 & 44.222 & 6.778 & 10.0 & M & 3.0 \\\\\n",
       "\t18 & 1985-01-07T20:14:45.970 & 37.672 & 15.513 & 85.2 & Md & 2.8 \\\\\n",
       "\t19 & 1985-01-07T21:23:35.650 & 37.539 & 15.579 & 75.4 & Md & 2.6 \\\\\n",
       "\t20 & 1985-01-08T04:03:09.590 & 46.368 & 13.184 & 2.6 & Md & 2.5 \\\\\n",
       "\t21 & 1985-01-08T08:30:13.150 & 41.975 & 16.222 & 10.0 & Md & 2.8 \\\\\n",
       "\t22 & 1985-01-08T22:06:13.070 & 45.753 & 12.951 & 10.0 & Md & 2.5 \\\\\n",
       "\t23 & 1985-01-08T23:33:34.130 & 43.303 & 12.55 & 10.0 & Md & 3.6 \\\\\n",
       "\t24 & 1985-01-08T23:38:35.790 & 43.371 & 12.585 & 10.0 & Md & 2.3 \\\\\n",
       "\t$\\dots$ & $\\dots$ & $\\dots$ & $\\dots$ & $\\dots$ & $\\dots$ & $\\dots$ \\\\\n",
       "\\end{tabular}\n"
      ],
      "text/plain": [
       "\u001b[1m418580×6 DataFrame\u001b[0m\n",
       "\u001b[1m    Row \u001b[0m│\u001b[1m Datetime                \u001b[0m\u001b[1m Latitude \u001b[0m\u001b[1m Longitude \u001b[0m\u001b[1m Depth   \u001b[0m\u001b[1m Magnitude_Typ\u001b[0m ⋯\n",
       "        │\u001b[90m DateTime                \u001b[0m\u001b[90m Float64  \u001b[0m\u001b[90m Float64   \u001b[0m\u001b[90m Float64 \u001b[0m\u001b[90m String7      \u001b[0m ⋯\n",
       "────────┼───────────────────────────────────────────────────────────────────────\n",
       "      1 │ 1985-01-02T18:39:30.740  48.092       7.061      10.0  M             ⋯\n",
       "      2 │ 1985-01-02T22:57:43.090  41.715      13.941       5.8  Md\n",
       "      3 │ 1985-01-03T00:46:16.990  41.677      13.931       6.1  Md\n",
       "      4 │ 1985-01-04T16:57:40.240  46.158       7.174      10.0  M\n",
       "      5 │ 1985-01-04T23:59:54.820  45.338       6.641       5.0  M             ⋯\n",
       "      6 │ 1985-01-05T03:47:03.640  45.409       6.627      10.0  M\n",
       "      7 │ 1985-01-05T08:32:41.900  43.056      13.139       2.8  Md\n",
       "      8 │ 1985-01-05T10:13:26.800  45.15        7.86       20.8  Md\n",
       "   ⋮    │            ⋮                ⋮          ⋮         ⋮           ⋮       ⋱\n",
       " 418574 │ 2023-03-08T07:54:45.340  43.0613     13.0392     13.0  ML            ⋯\n",
       " 418575 │ 2023-03-08T08:20:22.930  43.4422     12.6015     12.6  ML\n",
       " 418576 │ 2023-03-08T08:46:53.790  38.4702     15.5272     87.1  ML\n",
       " 418577 │ 2023-03-08T09:20:47.440  42.8243     13.077       9.3  ML\n",
       " 418578 │ 2023-03-08T09:56:34.020  43.3767     12.4933      7.3  ML            ⋯\n",
       " 418579 │ 2023-03-08T10:29:59.120  42.8848     12.959      10.7  ML\n",
       " 418580 │ 2023-03-08T11:05:17.900  43.0067     12.8682      5.0  ML\n",
       "\u001b[36m                                               2 columns and 418565 rows omitted\u001b[0m"
      ]
     },
     "metadata": {},
     "output_type": "display_data"
    }
   ],
   "source": [
    "trim_year = 1985\n",
    "explore_trim_year = 1985\n",
    "\n",
    "df_trimmed = explore_timespan(df, region, trim_year, explore_trim_year; magnitude_threshold=0.0)"
   ]
  },
  {
   "cell_type": "code",
   "execution_count": 6,
   "metadata": {},
   "outputs": [],
   "source": []
  },
  {
   "cell_type": "code",
   "execution_count": 7,
   "metadata": {},
   "outputs": [
    {
     "ename": "TypeError",
     "evalue": "TypeError: non-boolean (Vector{Any}) used in boolean context",
     "output_type": "error",
     "traceback": [
      "TypeError: non-boolean (Vector{Any}) used in boolean context\n",
      "\n",
      "Stacktrace:\n",
      " [1] magtype_boxplot(df::DataFrame, region::String; mag_type_descriptions::Vector{Any})\n",
      "   @ Main /media/gabipana/work/Work/PROJECTS/seismic-networks/seismic-exploratory-data-analysis/src/eda.jl:119\n",
      " [2] top-level scope\n",
      "   @ /media/gabipana/work/Work/PROJECTS/seismic-networks/seismic-exploratory-data-analysis/eda_ingv.ipynb:2"
     ]
    }
   ],
   "source": [
    "if \"Magnitude_Type\" in names(df)\n",
    "    df_mag_type_count = magtype_boxplot(df, region, mag_type_descriptions=[])\n",
    "end\n",
    "\n",
    "if \"Quality\" in names(df)\n",
    "    df_quality_count = quality_boxplot(df, region)\n",
    "end"
   ]
  },
  {
   "cell_type": "code",
   "execution_count": 8,
   "metadata": {},
   "outputs": [
    {
     "data": {
      "text/html": [
       "<div><div style = \"float: left;\"><span>410234×6 DataFrame</span></div><div style = \"float: right;\"><span style = \"font-style: italic;\">410209 rows omitted</span></div><div style = \"clear: both;\"></div></div><div class = \"data-frame\" style = \"overflow-x: scroll;\"><table class = \"data-frame\" style = \"margin-bottom: 6px;\"><thead><tr class = \"header\"><th class = \"rowNumber\" style = \"font-weight: bold; text-align: right;\">Row</th><th style = \"text-align: left;\">Datetime</th><th style = \"text-align: left;\">Latitude</th><th style = \"text-align: left;\">Longitude</th><th style = \"text-align: left;\">Depth</th><th style = \"text-align: left;\">Magnitude_Type</th><th style = \"text-align: left;\">Magnitude</th></tr><tr class = \"subheader headerLastRow\"><th class = \"rowNumber\" style = \"font-weight: bold; text-align: right;\"></th><th title = \"DateTime\" style = \"text-align: left;\">DateTime</th><th title = \"Float64\" style = \"text-align: left;\">Float64</th><th title = \"Float64\" style = \"text-align: left;\">Float64</th><th title = \"Float64\" style = \"text-align: left;\">Float64</th><th title = \"String7\" style = \"text-align: left;\">String7</th><th title = \"Float64\" style = \"text-align: left;\">Float64</th></tr></thead><tbody><tr><td class = \"rowNumber\" style = \"font-weight: bold; text-align: right;\">1</td><td style = \"text-align: left;\">1985-01-02T22:57:43.090</td><td style = \"text-align: right;\">41.715</td><td style = \"text-align: right;\">13.941</td><td style = \"text-align: right;\">5.8</td><td style = \"text-align: left;\">Md</td><td style = \"text-align: right;\">2.6</td></tr><tr><td class = \"rowNumber\" style = \"font-weight: bold; text-align: right;\">2</td><td style = \"text-align: left;\">1985-01-03T00:46:16.990</td><td style = \"text-align: right;\">41.677</td><td style = \"text-align: right;\">13.931</td><td style = \"text-align: right;\">6.1</td><td style = \"text-align: left;\">Md</td><td style = \"text-align: right;\">2.5</td></tr><tr><td class = \"rowNumber\" style = \"font-weight: bold; text-align: right;\">3</td><td style = \"text-align: left;\">1985-01-04T16:57:40.240</td><td style = \"text-align: right;\">46.158</td><td style = \"text-align: right;\">7.174</td><td style = \"text-align: right;\">10.0</td><td style = \"text-align: left;\">M</td><td style = \"text-align: right;\">3.8</td></tr><tr><td class = \"rowNumber\" style = \"font-weight: bold; text-align: right;\">4</td><td style = \"text-align: left;\">1985-01-04T23:59:54.820</td><td style = \"text-align: right;\">45.338</td><td style = \"text-align: right;\">6.641</td><td style = \"text-align: right;\">5.0</td><td style = \"text-align: left;\">M</td><td style = \"text-align: right;\">3.7</td></tr><tr><td class = \"rowNumber\" style = \"font-weight: bold; text-align: right;\">5</td><td style = \"text-align: left;\">1985-01-05T03:47:03.640</td><td style = \"text-align: right;\">45.409</td><td style = \"text-align: right;\">6.627</td><td style = \"text-align: right;\">10.0</td><td style = \"text-align: left;\">M</td><td style = \"text-align: right;\">3.2</td></tr><tr><td class = \"rowNumber\" style = \"font-weight: bold; text-align: right;\">6</td><td style = \"text-align: left;\">1985-01-05T08:32:41.900</td><td style = \"text-align: right;\">43.056</td><td style = \"text-align: right;\">13.139</td><td style = \"text-align: right;\">2.8</td><td style = \"text-align: left;\">Md</td><td style = \"text-align: right;\">2.6</td></tr><tr><td class = \"rowNumber\" style = \"font-weight: bold; text-align: right;\">7</td><td style = \"text-align: left;\">1985-01-05T10:13:26.800</td><td style = \"text-align: right;\">45.15</td><td style = \"text-align: right;\">7.86</td><td style = \"text-align: right;\">20.8</td><td style = \"text-align: left;\">Md</td><td style = \"text-align: right;\">2.2</td></tr><tr><td class = \"rowNumber\" style = \"font-weight: bold; text-align: right;\">8</td><td style = \"text-align: left;\">1985-01-06T03:52:23.380</td><td style = \"text-align: right;\">43.357</td><td style = \"text-align: right;\">12.537</td><td style = \"text-align: right;\">10.0</td><td style = \"text-align: left;\">Md</td><td style = \"text-align: right;\">2.4</td></tr><tr><td class = \"rowNumber\" style = \"font-weight: bold; text-align: right;\">9</td><td style = \"text-align: left;\">1985-01-06T04:19:36.650</td><td style = \"text-align: right;\">43.37</td><td style = \"text-align: right;\">12.545</td><td style = \"text-align: right;\">10.0</td><td style = \"text-align: left;\">Md</td><td style = \"text-align: right;\">2.3</td></tr><tr><td class = \"rowNumber\" style = \"font-weight: bold; text-align: right;\">10</td><td style = \"text-align: left;\">1985-01-06T14:38:40.570</td><td style = \"text-align: right;\">41.781</td><td style = \"text-align: right;\">13.857</td><td style = \"text-align: right;\">15.5</td><td style = \"text-align: left;\">Md</td><td style = \"text-align: right;\">2.4</td></tr><tr><td class = \"rowNumber\" style = \"font-weight: bold; text-align: right;\">11</td><td style = \"text-align: left;\">1985-01-06T17:22:58.540</td><td style = \"text-align: right;\">39.291</td><td style = \"text-align: right;\">16.765</td><td style = \"text-align: right;\">5.0</td><td style = \"text-align: left;\">Md</td><td style = \"text-align: right;\">3.0</td></tr><tr><td class = \"rowNumber\" style = \"font-weight: bold; text-align: right;\">12</td><td style = \"text-align: left;\">1985-01-06T21:53:50.520</td><td style = \"text-align: right;\">41.936</td><td style = \"text-align: right;\">13.937</td><td style = \"text-align: right;\">10.0</td><td style = \"text-align: left;\">Md</td><td style = \"text-align: right;\">2.5</td></tr><tr><td class = \"rowNumber\" style = \"font-weight: bold; text-align: right;\">13</td><td style = \"text-align: left;\">1985-01-07T00:34:49.290</td><td style = \"text-align: right;\">43.225</td><td style = \"text-align: right;\">12.73</td><td style = \"text-align: right;\">10.0</td><td style = \"text-align: left;\">Md</td><td style = \"text-align: right;\">3.0</td></tr><tr><td style = \"text-align: right;\">&vellip;</td><td style = \"text-align: right;\">&vellip;</td><td style = \"text-align: right;\">&vellip;</td><td style = \"text-align: right;\">&vellip;</td><td style = \"text-align: right;\">&vellip;</td><td style = \"text-align: right;\">&vellip;</td><td style = \"text-align: right;\">&vellip;</td></tr><tr><td class = \"rowNumber\" style = \"font-weight: bold; text-align: right;\">410223</td><td style = \"text-align: left;\">2023-03-08T05:40:29.230</td><td style = \"text-align: right;\">41.6713</td><td style = \"text-align: right;\">14.8517</td><td style = \"text-align: right;\">19.0</td><td style = \"text-align: left;\">ML</td><td style = \"text-align: right;\">1.2</td></tr><tr><td class = \"rowNumber\" style = \"font-weight: bold; text-align: right;\">410224</td><td style = \"text-align: left;\">2023-03-08T07:12:38.810</td><td style = \"text-align: right;\">43.0307</td><td style = \"text-align: right;\">12.9673</td><td style = \"text-align: right;\">10.8</td><td style = \"text-align: left;\">ML</td><td style = \"text-align: right;\">1.0</td></tr><tr><td class = \"rowNumber\" style = \"font-weight: bold; text-align: right;\">410225</td><td style = \"text-align: left;\">2023-03-08T07:19:14.930</td><td style = \"text-align: right;\">43.5873</td><td style = \"text-align: right;\">12.5523</td><td style = \"text-align: right;\">1.0</td><td style = \"text-align: left;\">ML</td><td style = \"text-align: right;\">0.6</td></tr><tr><td class = \"rowNumber\" style = \"font-weight: bold; text-align: right;\">410226</td><td style = \"text-align: left;\">2023-03-08T07:20:29.020</td><td style = \"text-align: right;\">43.3967</td><td style = \"text-align: right;\">12.7405</td><td style = \"text-align: right;\">11.7</td><td style = \"text-align: left;\">Md</td><td style = \"text-align: right;\">1.8</td></tr><tr><td class = \"rowNumber\" style = \"font-weight: bold; text-align: right;\">410227</td><td style = \"text-align: left;\">2023-03-08T07:41:21.530</td><td style = \"text-align: right;\">42.5662</td><td style = \"text-align: right;\">13.2427</td><td style = \"text-align: right;\">13.9</td><td style = \"text-align: left;\">ML</td><td style = \"text-align: right;\">0.8</td></tr><tr><td class = \"rowNumber\" style = \"font-weight: bold; text-align: right;\">410228</td><td style = \"text-align: left;\">2023-03-08T07:54:45.340</td><td style = \"text-align: right;\">43.0613</td><td style = \"text-align: right;\">13.0392</td><td style = \"text-align: right;\">13.0</td><td style = \"text-align: left;\">ML</td><td style = \"text-align: right;\">0.4</td></tr><tr><td class = \"rowNumber\" style = \"font-weight: bold; text-align: right;\">410229</td><td style = \"text-align: left;\">2023-03-08T08:20:22.930</td><td style = \"text-align: right;\">43.4422</td><td style = \"text-align: right;\">12.6015</td><td style = \"text-align: right;\">12.6</td><td style = \"text-align: left;\">ML</td><td style = \"text-align: right;\">0.6</td></tr><tr><td class = \"rowNumber\" style = \"font-weight: bold; text-align: right;\">410230</td><td style = \"text-align: left;\">2023-03-08T08:46:53.790</td><td style = \"text-align: right;\">38.4702</td><td style = \"text-align: right;\">15.5272</td><td style = \"text-align: right;\">87.1</td><td style = \"text-align: left;\">ML</td><td style = \"text-align: right;\">2.3</td></tr><tr><td class = \"rowNumber\" style = \"font-weight: bold; text-align: right;\">410231</td><td style = \"text-align: left;\">2023-03-08T09:20:47.440</td><td style = \"text-align: right;\">42.8243</td><td style = \"text-align: right;\">13.077</td><td style = \"text-align: right;\">9.3</td><td style = \"text-align: left;\">ML</td><td style = \"text-align: right;\">1.4</td></tr><tr><td class = \"rowNumber\" style = \"font-weight: bold; text-align: right;\">410232</td><td style = \"text-align: left;\">2023-03-08T09:56:34.020</td><td style = \"text-align: right;\">43.3767</td><td style = \"text-align: right;\">12.4933</td><td style = \"text-align: right;\">7.3</td><td style = \"text-align: left;\">ML</td><td style = \"text-align: right;\">0.9</td></tr><tr><td class = \"rowNumber\" style = \"font-weight: bold; text-align: right;\">410233</td><td style = \"text-align: left;\">2023-03-08T10:29:59.120</td><td style = \"text-align: right;\">42.8848</td><td style = \"text-align: right;\">12.959</td><td style = \"text-align: right;\">10.7</td><td style = \"text-align: left;\">ML</td><td style = \"text-align: right;\">1.5</td></tr><tr><td class = \"rowNumber\" style = \"font-weight: bold; text-align: right;\">410234</td><td style = \"text-align: left;\">2023-03-08T11:05:17.900</td><td style = \"text-align: right;\">43.0067</td><td style = \"text-align: right;\">12.8682</td><td style = \"text-align: right;\">5.0</td><td style = \"text-align: left;\">ML</td><td style = \"text-align: right;\">0.8</td></tr></tbody></table></div>"
      ],
      "text/latex": [
       "\\begin{tabular}{r|cccccc}\n",
       "\t& Datetime & Latitude & Longitude & Depth & Magnitude\\_Type & Magnitude\\\\\n",
       "\t\\hline\n",
       "\t& DateTime & Float64 & Float64 & Float64 & String7 & Float64\\\\\n",
       "\t\\hline\n",
       "\t1 & 1985-01-02T22:57:43.090 & 41.715 & 13.941 & 5.8 & Md & 2.6 \\\\\n",
       "\t2 & 1985-01-03T00:46:16.990 & 41.677 & 13.931 & 6.1 & Md & 2.5 \\\\\n",
       "\t3 & 1985-01-04T16:57:40.240 & 46.158 & 7.174 & 10.0 & M & 3.8 \\\\\n",
       "\t4 & 1985-01-04T23:59:54.820 & 45.338 & 6.641 & 5.0 & M & 3.7 \\\\\n",
       "\t5 & 1985-01-05T03:47:03.640 & 45.409 & 6.627 & 10.0 & M & 3.2 \\\\\n",
       "\t6 & 1985-01-05T08:32:41.900 & 43.056 & 13.139 & 2.8 & Md & 2.6 \\\\\n",
       "\t7 & 1985-01-05T10:13:26.800 & 45.15 & 7.86 & 20.8 & Md & 2.2 \\\\\n",
       "\t8 & 1985-01-06T03:52:23.380 & 43.357 & 12.537 & 10.0 & Md & 2.4 \\\\\n",
       "\t9 & 1985-01-06T04:19:36.650 & 43.37 & 12.545 & 10.0 & Md & 2.3 \\\\\n",
       "\t10 & 1985-01-06T14:38:40.570 & 41.781 & 13.857 & 15.5 & Md & 2.4 \\\\\n",
       "\t11 & 1985-01-06T17:22:58.540 & 39.291 & 16.765 & 5.0 & Md & 3.0 \\\\\n",
       "\t12 & 1985-01-06T21:53:50.520 & 41.936 & 13.937 & 10.0 & Md & 2.5 \\\\\n",
       "\t13 & 1985-01-07T00:34:49.290 & 43.225 & 12.73 & 10.0 & Md & 3.0 \\\\\n",
       "\t14 & 1985-01-07T07:33:56.810 & 43.358 & 12.539 & 10.0 & Md & 2.4 \\\\\n",
       "\t15 & 1985-01-07T11:07:55.060 & 44.222 & 6.778 & 10.0 & M & 3.0 \\\\\n",
       "\t16 & 1985-01-07T20:14:45.970 & 37.672 & 15.513 & 85.2 & Md & 2.8 \\\\\n",
       "\t17 & 1985-01-07T21:23:35.650 & 37.539 & 15.579 & 75.4 & Md & 2.6 \\\\\n",
       "\t18 & 1985-01-08T04:03:09.590 & 46.368 & 13.184 & 2.6 & Md & 2.5 \\\\\n",
       "\t19 & 1985-01-08T08:30:13.150 & 41.975 & 16.222 & 10.0 & Md & 2.8 \\\\\n",
       "\t20 & 1985-01-08T22:06:13.070 & 45.753 & 12.951 & 10.0 & Md & 2.5 \\\\\n",
       "\t21 & 1985-01-08T23:33:34.130 & 43.303 & 12.55 & 10.0 & Md & 3.6 \\\\\n",
       "\t22 & 1985-01-08T23:38:35.790 & 43.371 & 12.585 & 10.0 & Md & 2.3 \\\\\n",
       "\t23 & 1985-01-09T00:33:01.660 & 43.36 & 12.501 & 10.0 & Md & 2.9 \\\\\n",
       "\t24 & 1985-01-09T03:13:01.090 & 43.302 & 12.638 & 4.0 & Md & 3.3 \\\\\n",
       "\t$\\dots$ & $\\dots$ & $\\dots$ & $\\dots$ & $\\dots$ & $\\dots$ & $\\dots$ \\\\\n",
       "\\end{tabular}\n"
      ],
      "text/plain": [
       "\u001b[1m410234×6 DataFrame\u001b[0m\n",
       "\u001b[1m    Row \u001b[0m│\u001b[1m Datetime                \u001b[0m\u001b[1m Latitude \u001b[0m\u001b[1m Longitude \u001b[0m\u001b[1m Depth   \u001b[0m\u001b[1m Magnitude_Typ\u001b[0m ⋯\n",
       "        │\u001b[90m DateTime                \u001b[0m\u001b[90m Float64  \u001b[0m\u001b[90m Float64   \u001b[0m\u001b[90m Float64 \u001b[0m\u001b[90m String7      \u001b[0m ⋯\n",
       "────────┼───────────────────────────────────────────────────────────────────────\n",
       "      1 │ 1985-01-02T22:57:43.090   41.715     13.941       5.8  Md            ⋯\n",
       "      2 │ 1985-01-03T00:46:16.990   41.677     13.931       6.1  Md\n",
       "      3 │ 1985-01-04T16:57:40.240   46.158      7.174      10.0  M\n",
       "      4 │ 1985-01-04T23:59:54.820   45.338      6.641       5.0  M\n",
       "      5 │ 1985-01-05T03:47:03.640   45.409      6.627      10.0  M             ⋯\n",
       "      6 │ 1985-01-05T08:32:41.900   43.056     13.139       2.8  Md\n",
       "      7 │ 1985-01-05T10:13:26.800   45.15       7.86       20.8  Md\n",
       "      8 │ 1985-01-06T03:52:23.380   43.357     12.537      10.0  Md\n",
       "   ⋮    │            ⋮                ⋮          ⋮         ⋮           ⋮       ⋱\n",
       " 410228 │ 2023-03-08T07:54:45.340   43.0613    13.0392     13.0  ML            ⋯\n",
       " 410229 │ 2023-03-08T08:20:22.930   43.4422    12.6015     12.6  ML\n",
       " 410230 │ 2023-03-08T08:46:53.790   38.4702    15.5272     87.1  ML\n",
       " 410231 │ 2023-03-08T09:20:47.440   42.8243    13.077       9.3  ML\n",
       " 410232 │ 2023-03-08T09:56:34.020   43.3767    12.4933      7.3  ML            ⋯\n",
       " 410233 │ 2023-03-08T10:29:59.120   42.8848    12.959      10.7  ML\n",
       " 410234 │ 2023-03-08T11:05:17.900   43.0067    12.8682      5.0  ML\n",
       "\u001b[36m                                               2 columns and 410219 rows omitted\u001b[0m"
      ]
     },
     "metadata": {},
     "output_type": "display_data"
    }
   ],
   "source": [
    "italy = df[(df.Longitude .>= 6.6166 ) .& (df.Longitude .<= 18.5166) .&\n",
    "\t\t\t\t  (df.Latitude .>=35.5) .& (df.Latitude .<= 47.0833) ,:]"
   ]
  },
  {
   "cell_type": "code",
   "execution_count": 9,
   "metadata": {},
   "outputs": [],
   "source": []
  },
  {
   "cell_type": "code",
   "execution_count": 10,
   "metadata": {},
   "outputs": [],
   "source": [
    "# Write to CSV\n",
    "# CSV.write(\"./data/$(region).csv\", italy)"
   ]
  }
 ],
 "metadata": {
  "kernelspec": {
   "display_name": "Julia 1.8.5",
   "language": "julia",
   "name": "julia-1.8"
  },
  "language_info": {
   "file_extension": ".jl",
   "mimetype": "application/julia",
   "name": "julia",
   "version": "1.8.5"
  },
  "orig_nbformat": 4
 },
 "nbformat": 4,
 "nbformat_minor": 2
}
